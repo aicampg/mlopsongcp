{
 "cells": [
  {
   "cell_type": "code",
   "execution_count": 1,
   "metadata": {
    "id": "copyright"
   },
   "outputs": [],
   "source": [
    "# Copyright 2020 Google LLC\n",
    "#\n",
    "# Licensed under the Apache License, Version 2.0 (the \"License\");\n",
    "# you may not use this file except in compliance with the License.\n",
    "# You may obtain a copy of the License at\n",
    "#\n",
    "#     https://www.apache.org/licenses/LICENSE-2.0\n",
    "#\n",
    "# Unless required by applicable law or agreed to in writing, software\n",
    "# distributed under the License is distributed on an \"AS IS\" BASIS,\n",
    "# WITHOUT WARRANTIES OR CONDITIONS OF ANY KIND, either express or implied.\n",
    "# See the License for the specific language governing permissions and\n",
    "# limitations under the License."
   ]
  },
  {
   "cell_type": "markdown",
   "metadata": {
    "id": "title"
   },
   "source": [
    "# AI Platform (Unified) client library: AutoML image classification model for export to edge\n",
    "\n",
    "<table align=\"left\">\n",
    "  <td>\n",
    "    <a href=\"https://colab.research.google.com/github/GoogleCloudPlatform/ai-platform-samples/blob/master/ai-platform-unified/showcase_automl_image_classification_export_edge.ipynb\">\n",
    "      <img src=\"https://cloud.google.com/ml-engine/images/colab-logo-32px.png\" alt=\"Colab logo\"> Run in Colab\n",
    "    </a>\n",
    "  </td>\n",
    "  <td>\n",
    "    <a href=\"https://github.com/GoogleCloudPlatform/ai-platform-samples/blob/master/ai-platform-unified/showcase_automl_image_classification_export_edge.ipynb\">\n",
    "      <img src=\"https://cloud.google.com/ml-engine/images/github-logo-32px.png\" alt=\"GitHub logo\">\n",
    "      View on GitHub\n",
    "    </a>\n",
    "  </td>\n",
    "</table>\n",
    "<br/><br/><br/>"
   ]
  },
  {
   "cell_type": "markdown",
   "metadata": {
    "id": "overview:automl,export_edge"
   },
   "source": [
    "## Overview\n",
    "\n",
    "\n",
    "This tutorial demonstrates how to use the AI Platform (Unified) Python client library to create image classification models to export as an Edge model using Google Cloud's AutoML."
   ]
  },
  {
   "cell_type": "markdown",
   "metadata": {
    "id": "dataset:flowers,icn"
   },
   "source": [
    "### Dataset\n",
    "\n",
    "The dataset used for this tutorial is the [Flowers dataset](https://www.tensorflow.org/datasets/catalog/tf_flowers) from [TensorFlow Datasets](https://www.tensorflow.org/datasets/catalog/overview). The version of the dataset you will use in this tutorial is stored in a public Cloud Storage bucket. The trained model predicts the type of flower an image is from a class of five flowers: daisy, dandelion, rose, sunflower, or tulip."
   ]
  },
  {
   "cell_type": "markdown",
   "metadata": {
    "id": "objective:automl,training,export_edge"
   },
   "source": [
    "### Objective\n",
    "\n",
    "In this notebook, you create a AutoML image classification model from a Python script using the AI Platform (Unified) client library, and then export the model as an Edge model in TFLite format. You can alternatively create models with AutoML using the `gcloud` command-line tool or online using the Google Cloud Console.\n",
    "\n",
    "The steps performed include:\n",
    "\n",
    "- Create an AI Platform (Unified) `Dataset` resource.\n",
    "- Train the model.\n",
    "- Export the `Edge` model from the `Model` resource to Cloud Storage.\n",
    "- Download the model locally.\n",
    "- Make a local prediction."
   ]
  },
  {
   "cell_type": "markdown",
   "metadata": {
    "id": "costs"
   },
   "source": [
    "### Costs\n",
    "\n",
    "This tutorial uses billable components of Google Cloud (GCP):\n",
    "\n",
    "* AI Platform (Unified)\n",
    "* Cloud Storage\n",
    "\n",
    "Learn about [Cloud AI Platform\n",
    "pricing](https://cloud.google.com/ai-platform-unified/pricing) and [Cloud Storage\n",
    "pricing](https://cloud.google.com/storage/pricing), and use the [Pricing\n",
    "Calculator](https://cloud.google.com/products/calculator/)\n",
    "to generate a cost estimate based on your projected usage."
   ]
  },
  {
   "cell_type": "markdown",
   "metadata": {
    "id": "install_aip"
   },
   "source": [
    "## Installation\n",
    "\n",
    "Install the latest (preview) version of AI Platform (Unified) client library."
   ]
  },
  {
   "cell_type": "code",
   "execution_count": 2,
   "metadata": {
    "id": "install_aip"
   },
   "outputs": [
    {
     "name": "stdout",
     "output_type": "stream",
     "text": [
      "Error processing line 1 of /home/jupyter/.local/lib/python3.7/site-packages/google-cloud-aiplatform-nspkg.pth:\n",
      "\n",
      "  Traceback (most recent call last):\n",
      "    File \"/opt/conda/lib/python3.7/site.py\", line 168, in addpackage\n",
      "      exec(line)\n",
      "    File \"<string>\", line 1, in <module>\n",
      "    File \"<frozen importlib._bootstrap>\", line 580, in module_from_spec\n",
      "  AttributeError: 'NoneType' object has no attribute 'loader'\n",
      "\n",
      "Remainder of file ignored\n",
      "Error processing line 1 of /opt/conda/lib/python3.7/site-packages/google-cloud-aiplatform-nspkg.pth:\n",
      "\n",
      "  Traceback (most recent call last):\n",
      "    File \"/opt/conda/lib/python3.7/site.py\", line 168, in addpackage\n",
      "      exec(line)\n",
      "    File \"<string>\", line 1, in <module>\n",
      "    File \"<frozen importlib._bootstrap>\", line 580, in module_from_spec\n",
      "  AttributeError: 'NoneType' object has no attribute 'loader'\n",
      "\n",
      "Remainder of file ignored\n",
      "Requirement already up-to-date: google-cloud-aiplatform in ./.local/lib/python3.7/site-packages (0.6.0)\n",
      "Requirement already satisfied, skipping upgrade: google-api-core[grpc]<2.0.0dev,>=1.22.2 in /opt/conda/lib/python3.7/site-packages (from google-cloud-aiplatform) (1.22.4)\n",
      "Requirement already satisfied, skipping upgrade: proto-plus>=1.10.1 in /opt/conda/lib/python3.7/site-packages (from google-cloud-aiplatform) (1.10.1)\n",
      "Requirement already satisfied, skipping upgrade: google-cloud-storage<2.0.0dev,>=1.26.0 in /opt/conda/lib/python3.7/site-packages (from google-cloud-aiplatform) (1.36.2)\n",
      "Requirement already satisfied, skipping upgrade: setuptools>=34.0.0 in /opt/conda/lib/python3.7/site-packages (from google-api-core[grpc]<2.0.0dev,>=1.22.2->google-cloud-aiplatform) (45.2.0.post20200209)\n",
      "Requirement already satisfied, skipping upgrade: requests<3.0.0dev,>=2.18.0 in /opt/conda/lib/python3.7/site-packages (from google-api-core[grpc]<2.0.0dev,>=1.22.2->google-cloud-aiplatform) (2.24.0)\n",
      "Requirement already satisfied, skipping upgrade: google-auth<2.0dev,>=1.21.1 in /opt/conda/lib/python3.7/site-packages (from google-api-core[grpc]<2.0.0dev,>=1.22.2->google-cloud-aiplatform) (1.22.1)\n",
      "Requirement already satisfied, skipping upgrade: protobuf>=3.12.0 in /opt/conda/lib/python3.7/site-packages (from google-api-core[grpc]<2.0.0dev,>=1.22.2->google-cloud-aiplatform) (3.12.2)\n",
      "Requirement already satisfied, skipping upgrade: googleapis-common-protos<2.0dev,>=1.6.0 in /opt/conda/lib/python3.7/site-packages (from google-api-core[grpc]<2.0.0dev,>=1.22.2->google-cloud-aiplatform) (1.51.0)\n",
      "Requirement already satisfied, skipping upgrade: six>=1.13.0 in /opt/conda/lib/python3.7/site-packages (from google-api-core[grpc]<2.0.0dev,>=1.22.2->google-cloud-aiplatform) (1.14.0)\n",
      "Requirement already satisfied, skipping upgrade: pytz in /opt/conda/lib/python3.7/site-packages (from google-api-core[grpc]<2.0.0dev,>=1.22.2->google-cloud-aiplatform) (2019.3)\n",
      "Requirement already satisfied, skipping upgrade: grpcio<2.0dev,>=1.29.0; extra == \"grpc\" in ./.local/lib/python3.7/site-packages (from google-api-core[grpc]<2.0.0dev,>=1.22.2->google-cloud-aiplatform) (1.29.0)\n",
      "Requirement already satisfied, skipping upgrade: google-resumable-media<2.0dev,>=1.2.0 in /opt/conda/lib/python3.7/site-packages (from google-cloud-storage<2.0.0dev,>=1.26.0->google-cloud-aiplatform) (1.2.0)\n",
      "Requirement already satisfied, skipping upgrade: google-cloud-core<2.0dev,>=1.4.1 in /opt/conda/lib/python3.7/site-packages (from google-cloud-storage<2.0.0dev,>=1.26.0->google-cloud-aiplatform) (1.6.0)\n",
      "Requirement already satisfied, skipping upgrade: chardet<4,>=3.0.2 in /opt/conda/lib/python3.7/site-packages (from requests<3.0.0dev,>=2.18.0->google-api-core[grpc]<2.0.0dev,>=1.22.2->google-cloud-aiplatform) (3.0.4)\n",
      "Requirement already satisfied, skipping upgrade: idna<3,>=2.5 in /opt/conda/lib/python3.7/site-packages (from requests<3.0.0dev,>=2.18.0->google-api-core[grpc]<2.0.0dev,>=1.22.2->google-cloud-aiplatform) (2.9)\n",
      "Requirement already satisfied, skipping upgrade: urllib3!=1.25.0,!=1.25.1,<1.26,>=1.21.1 in /opt/conda/lib/python3.7/site-packages (from requests<3.0.0dev,>=2.18.0->google-api-core[grpc]<2.0.0dev,>=1.22.2->google-cloud-aiplatform) (1.25.8)\n",
      "Requirement already satisfied, skipping upgrade: certifi>=2017.4.17 in /opt/conda/lib/python3.7/site-packages (from requests<3.0.0dev,>=2.18.0->google-api-core[grpc]<2.0.0dev,>=1.22.2->google-cloud-aiplatform) (2020.6.20)\n",
      "Requirement already satisfied, skipping upgrade: rsa<5,>=3.1.4; python_version >= \"3.5\" in /opt/conda/lib/python3.7/site-packages (from google-auth<2.0dev,>=1.21.1->google-api-core[grpc]<2.0.0dev,>=1.22.2->google-cloud-aiplatform) (4.0)\n",
      "Requirement already satisfied, skipping upgrade: pyasn1-modules>=0.2.1 in /opt/conda/lib/python3.7/site-packages (from google-auth<2.0dev,>=1.21.1->google-api-core[grpc]<2.0.0dev,>=1.22.2->google-cloud-aiplatform) (0.2.8)\n",
      "Requirement already satisfied, skipping upgrade: cachetools<5.0,>=2.0.0 in ./.local/lib/python3.7/site-packages (from google-auth<2.0dev,>=1.21.1->google-api-core[grpc]<2.0.0dev,>=1.22.2->google-cloud-aiplatform) (3.1.1)\n",
      "Requirement already satisfied, skipping upgrade: google-crc32c<2.0dev,>=1.0; python_version >= \"3.5\" in /opt/conda/lib/python3.7/site-packages (from google-resumable-media<2.0dev,>=1.2.0->google-cloud-storage<2.0.0dev,>=1.26.0->google-cloud-aiplatform) (1.1.2)\n",
      "Requirement already satisfied, skipping upgrade: pyasn1>=0.1.3 in /opt/conda/lib/python3.7/site-packages (from rsa<5,>=3.1.4; python_version >= \"3.5\"->google-auth<2.0dev,>=1.21.1->google-api-core[grpc]<2.0.0dev,>=1.22.2->google-cloud-aiplatform) (0.4.8)\n",
      "Requirement already satisfied, skipping upgrade: cffi>=1.0.0 in /opt/conda/lib/python3.7/site-packages (from google-crc32c<2.0dev,>=1.0; python_version >= \"3.5\"->google-resumable-media<2.0dev,>=1.2.0->google-cloud-storage<2.0.0dev,>=1.26.0->google-cloud-aiplatform) (1.13.2)\n",
      "Requirement already satisfied, skipping upgrade: pycparser in /opt/conda/lib/python3.7/site-packages (from cffi>=1.0.0->google-crc32c<2.0dev,>=1.0; python_version >= \"3.5\"->google-resumable-media<2.0dev,>=1.2.0->google-cloud-storage<2.0.0dev,>=1.26.0->google-cloud-aiplatform) (2.19)\n",
      "\u001b[33mWARNING: You are using pip version 20.1.1; however, version 21.0.1 is available.\n",
      "You should consider upgrading via the '/opt/conda/bin/python3.7 -m pip install --upgrade pip' command.\u001b[0m\n"
     ]
    }
   ],
   "source": [
    "! pip3 install -U google-cloud-aiplatform --user"
   ]
  },
  {
   "cell_type": "markdown",
   "metadata": {
    "id": "install_storage"
   },
   "source": [
    "Install the latest GA version of *google-cloud-storage* library as well."
   ]
  },
  {
   "cell_type": "code",
   "execution_count": 3,
   "metadata": {
    "id": "install_storage"
   },
   "outputs": [
    {
     "name": "stdout",
     "output_type": "stream",
     "text": [
      "Error processing line 1 of /home/jupyter/.local/lib/python3.7/site-packages/google-cloud-aiplatform-nspkg.pth:\n",
      "\n",
      "  Traceback (most recent call last):\n",
      "    File \"/opt/conda/lib/python3.7/site.py\", line 168, in addpackage\n",
      "      exec(line)\n",
      "    File \"<string>\", line 1, in <module>\n",
      "    File \"<frozen importlib._bootstrap>\", line 580, in module_from_spec\n",
      "  AttributeError: 'NoneType' object has no attribute 'loader'\n",
      "\n",
      "Remainder of file ignored\n",
      "Error processing line 1 of /opt/conda/lib/python3.7/site-packages/google-cloud-aiplatform-nspkg.pth:\n",
      "\n",
      "  Traceback (most recent call last):\n",
      "    File \"/opt/conda/lib/python3.7/site.py\", line 168, in addpackage\n",
      "      exec(line)\n",
      "    File \"<string>\", line 1, in <module>\n",
      "    File \"<frozen importlib._bootstrap>\", line 580, in module_from_spec\n",
      "  AttributeError: 'NoneType' object has no attribute 'loader'\n",
      "\n",
      "Remainder of file ignored\n",
      "Requirement already up-to-date: google-cloud-storage in /opt/conda/lib/python3.7/site-packages (1.36.2)\n",
      "Requirement already satisfied, skipping upgrade: google-auth<2.0dev,>=1.11.0 in /opt/conda/lib/python3.7/site-packages (from google-cloud-storage) (1.22.1)\n",
      "Requirement already satisfied, skipping upgrade: requests<3.0.0dev,>=2.18.0 in /opt/conda/lib/python3.7/site-packages (from google-cloud-storage) (2.24.0)\n",
      "Requirement already satisfied, skipping upgrade: google-cloud-core<2.0dev,>=1.4.1 in /opt/conda/lib/python3.7/site-packages (from google-cloud-storage) (1.6.0)\n",
      "Requirement already satisfied, skipping upgrade: google-resumable-media<2.0dev,>=1.2.0 in /opt/conda/lib/python3.7/site-packages (from google-cloud-storage) (1.2.0)\n",
      "Requirement already satisfied, skipping upgrade: pyasn1-modules>=0.2.1 in /opt/conda/lib/python3.7/site-packages (from google-auth<2.0dev,>=1.11.0->google-cloud-storage) (0.2.8)\n",
      "Requirement already satisfied, skipping upgrade: cachetools<5.0,>=2.0.0 in ./.local/lib/python3.7/site-packages (from google-auth<2.0dev,>=1.11.0->google-cloud-storage) (3.1.1)\n",
      "Requirement already satisfied, skipping upgrade: rsa<5,>=3.1.4; python_version >= \"3.5\" in /opt/conda/lib/python3.7/site-packages (from google-auth<2.0dev,>=1.11.0->google-cloud-storage) (4.0)\n",
      "Requirement already satisfied, skipping upgrade: six>=1.9.0 in /opt/conda/lib/python3.7/site-packages (from google-auth<2.0dev,>=1.11.0->google-cloud-storage) (1.14.0)\n",
      "Requirement already satisfied, skipping upgrade: setuptools>=40.3.0 in /opt/conda/lib/python3.7/site-packages (from google-auth<2.0dev,>=1.11.0->google-cloud-storage) (45.2.0.post20200209)\n",
      "Requirement already satisfied, skipping upgrade: urllib3!=1.25.0,!=1.25.1,<1.26,>=1.21.1 in /opt/conda/lib/python3.7/site-packages (from requests<3.0.0dev,>=2.18.0->google-cloud-storage) (1.25.8)\n",
      "Requirement already satisfied, skipping upgrade: certifi>=2017.4.17 in /opt/conda/lib/python3.7/site-packages (from requests<3.0.0dev,>=2.18.0->google-cloud-storage) (2020.6.20)\n",
      "Requirement already satisfied, skipping upgrade: chardet<4,>=3.0.2 in /opt/conda/lib/python3.7/site-packages (from requests<3.0.0dev,>=2.18.0->google-cloud-storage) (3.0.4)\n",
      "Requirement already satisfied, skipping upgrade: idna<3,>=2.5 in /opt/conda/lib/python3.7/site-packages (from requests<3.0.0dev,>=2.18.0->google-cloud-storage) (2.9)\n",
      "Requirement already satisfied, skipping upgrade: google-api-core<2.0.0dev,>=1.21.0 in /opt/conda/lib/python3.7/site-packages (from google-cloud-core<2.0dev,>=1.4.1->google-cloud-storage) (1.22.4)\n",
      "Requirement already satisfied, skipping upgrade: google-crc32c<2.0dev,>=1.0; python_version >= \"3.5\" in /opt/conda/lib/python3.7/site-packages (from google-resumable-media<2.0dev,>=1.2.0->google-cloud-storage) (1.1.2)\n",
      "Requirement already satisfied, skipping upgrade: pyasn1<0.5.0,>=0.4.6 in /opt/conda/lib/python3.7/site-packages (from pyasn1-modules>=0.2.1->google-auth<2.0dev,>=1.11.0->google-cloud-storage) (0.4.8)\n",
      "Requirement already satisfied, skipping upgrade: protobuf>=3.12.0 in /opt/conda/lib/python3.7/site-packages (from google-api-core<2.0.0dev,>=1.21.0->google-cloud-core<2.0dev,>=1.4.1->google-cloud-storage) (3.12.2)\n",
      "Requirement already satisfied, skipping upgrade: googleapis-common-protos<2.0dev,>=1.6.0 in /opt/conda/lib/python3.7/site-packages (from google-api-core<2.0.0dev,>=1.21.0->google-cloud-core<2.0dev,>=1.4.1->google-cloud-storage) (1.51.0)\n",
      "Requirement already satisfied, skipping upgrade: pytz in /opt/conda/lib/python3.7/site-packages (from google-api-core<2.0.0dev,>=1.21.0->google-cloud-core<2.0dev,>=1.4.1->google-cloud-storage) (2019.3)\n",
      "Requirement already satisfied, skipping upgrade: cffi>=1.0.0 in /opt/conda/lib/python3.7/site-packages (from google-crc32c<2.0dev,>=1.0; python_version >= \"3.5\"->google-resumable-media<2.0dev,>=1.2.0->google-cloud-storage) (1.13.2)\n",
      "Requirement already satisfied, skipping upgrade: pycparser in /opt/conda/lib/python3.7/site-packages (from cffi>=1.0.0->google-crc32c<2.0dev,>=1.0; python_version >= \"3.5\"->google-resumable-media<2.0dev,>=1.2.0->google-cloud-storage) (2.19)\n",
      "\u001b[33mWARNING: You are using pip version 20.1.1; however, version 21.0.1 is available.\n",
      "You should consider upgrading via the '/opt/conda/bin/python3.7 -m pip install --upgrade pip' command.\u001b[0m\n"
     ]
    }
   ],
   "source": [
    "! pip3 install -U google-cloud-storage"
   ]
  },
  {
   "cell_type": "markdown",
   "metadata": {
    "id": "restart"
   },
   "source": [
    "### Restart the kernel\n",
    "\n",
    "Once you've installed the AI Platform (Unified) client library and Google *cloud-storage*, you need to restart the notebook kernel so it can find the packages."
   ]
  },
  {
   "cell_type": "code",
   "execution_count": 4,
   "metadata": {
    "id": "restart"
   },
   "outputs": [],
   "source": [
    "import os\n",
    "if not os.getenv(\"AUTORUN\"):\n",
    "    # Automatically restart kernel after installs\n",
    "    import IPython\n",
    "    app = IPython.Application.instance()\n",
    "    app.kernel.do_shutdown(True)"
   ]
  },
  {
   "cell_type": "markdown",
   "metadata": {
    "id": "before_you_begin"
   },
   "source": [
    "## Before you begin\n",
    "\n",
    "### GPU runtime\n",
    "\n",
    "*Make sure you're running this notebook in a GPU runtime if you have that option. In Colab, select* **Runtime > Change Runtime Type > GPU**\n",
    "\n",
    "### Set up your Google Cloud project\n",
    "\n",
    "**The following steps are required, regardless of your notebook environment.**\n",
    "\n",
    "1. [Select or create a Google Cloud project](https://console.cloud.google.com/cloud-resource-manager). When you first create an account, you get a $300 free credit towards your compute/storage costs.\n",
    "\n",
    "2. [Make sure that billing is enabled for your project.](https://cloud.google.com/billing/docs/how-to/modify-project)\n",
    "\n",
    "3. [Enable the AI Platform APIs and Compute Engine APIs.](https://console.cloud.google.com/flows/enableapi?apiid=ml.googleapis.com,compute_component)\n",
    "\n",
    "4. [The Google Cloud SDK](https://cloud.google.com/sdk) is already installed in AI Platform Notebooks.\n",
    "\n",
    "5. Enter your project ID in the cell below. Then run the  cell to make sure the\n",
    "Cloud SDK uses the right project for all the commands in this notebook.\n",
    "\n",
    "**Note**: Jupyter runs lines prefixed with `!` as shell commands, and it interpolates Python variables prefixed with `$` into these commands."
   ]
  },
  {
   "cell_type": "code",
   "execution_count": 5,
   "metadata": {
    "id": "set_project_id"
   },
   "outputs": [],
   "source": [
    "PROJECT_ID = \"[your-project-id]\" #@param {type:\"string\"}"
   ]
  },
  {
   "cell_type": "code",
   "execution_count": 6,
   "metadata": {
    "id": "autoset_project_id"
   },
   "outputs": [
    {
     "name": "stdout",
     "output_type": "stream",
     "text": [
      "Project ID: andy-1234-221921\n"
     ]
    }
   ],
   "source": [
    "if PROJECT_ID == \"\" or PROJECT_ID is None or PROJECT_ID == \"[your-project-id]\":\n",
    "    # Get your GCP project id from gcloud\n",
    "    shell_output = !gcloud config list --format 'value(core.project)' 2>/dev/null\n",
    "    PROJECT_ID = shell_output[0]\n",
    "    print(\"Project ID:\", PROJECT_ID)"
   ]
  },
  {
   "cell_type": "code",
   "execution_count": 7,
   "metadata": {
    "id": "set_gcloud_project_id"
   },
   "outputs": [
    {
     "name": "stdout",
     "output_type": "stream",
     "text": [
      "Updated property [core/project].\n"
     ]
    }
   ],
   "source": [
    "! gcloud config set project $PROJECT_ID"
   ]
  },
  {
   "cell_type": "markdown",
   "metadata": {
    "id": "region"
   },
   "source": [
    "#### Region\n",
    "\n",
    "You can also change the `REGION` variable, which is used for operations\n",
    "throughout the rest of this notebook.  Below are regions supported for AI Platform (Unified). We recommend that you choose the region closest to you.\n",
    "\n",
    "- Americas: `us-central1`\n",
    "- Europe: `europe-west4`\n",
    "- Asia Pacific: `asia-east1`\n",
    "\n",
    "You may not use a multi-regional bucket for training with AI Platform (Unified). Not all regions provide support for all AI Platform (Unified) services. For the latest support per region, see the [AI Platform (Unified) locations documentation](https://cloud.google.com/ai-platform-unified/docs/general/locations)"
   ]
  },
  {
   "cell_type": "code",
   "execution_count": 8,
   "metadata": {
    "id": "region"
   },
   "outputs": [],
   "source": [
    "REGION = 'us-central1' #@param {type: \"string\"}"
   ]
  },
  {
   "cell_type": "markdown",
   "metadata": {
    "id": "timestamp"
   },
   "source": [
    "#### Timestamp\n",
    "\n",
    "If you are in a live tutorial session, you might be using a shared test account or project. To avoid name collisions between users on resources created, you create a timestamp for each instance session, and append onto the name of resources which will be created in this tutorial."
   ]
  },
  {
   "cell_type": "code",
   "execution_count": 9,
   "metadata": {
    "id": "timestamp"
   },
   "outputs": [],
   "source": [
    "from datetime import datetime\n",
    "\n",
    "TIMESTAMP = datetime.now().strftime(\"%Y%m%d%H%M%S\")"
   ]
  },
  {
   "cell_type": "markdown",
   "metadata": {
    "id": "gcp_authenticate"
   },
   "source": [
    "### Authenticate your Google Cloud account\n",
    "\n",
    "**If you are using AI Platform notebooks**, your environment is already\n",
    "authenticated. Skip this step.\n",
    "\n",
    "*Note: If you are on an AI Platform notebook and run the cell, the cell knows to skip executing the authentication steps.*"
   ]
  },
  {
   "cell_type": "code",
   "execution_count": 10,
   "metadata": {
    "id": "gcp_authenticate"
   },
   "outputs": [],
   "source": [
    "import os\n",
    "import sys\n",
    "\n",
    "# If you are running this notebook in Colab, run this cell and follow the\n",
    "# instructions to authenticate your Google Cloud account. This provides access\n",
    "# to your Cloud Storage bucket and lets you submit training jobs and prediction\n",
    "# requests.\n",
    "\n",
    "# If on AI Platform Notebooks, then don't execute this code\n",
    "if not os.path.exists('/opt/deeplearning/metadata/env_version'):\n",
    "    if 'google.colab' in sys.modules:\n",
    "        from google.colab import auth as google_auth\n",
    "        google_auth.authenticate_user()\n",
    "\n",
    "    # If you are running this tutorial in a notebook locally, replace the string\n",
    "    # below with the path to your service account key and run this cell to\n",
    "    # authenticate your Google Cloud account.\n",
    "    else:\n",
    "        %env GOOGLE_APPLICATION_CREDENTIALS your_path_to_credentials.json\n",
    "\n",
    "    # Log in to your account on Google Cloud\n",
    "    ! gcloud auth login"
   ]
  },
  {
   "cell_type": "markdown",
   "metadata": {
    "id": "bucket:export_edge"
   },
   "source": [
    "### Create a Cloud Storage bucket\n",
    "\n",
    "**The following steps are required, regardless of your notebook environment.**\n",
    "\n",
    "This tutorial is designed to use training data that is in a public Cloud Storage bucket and a local Cloud Storage bucket for exporting the trained model. You may alternatively use your own training data that you have stored in a local Cloud Storage bucket.\n",
    "\n",
    "Set the name of your Cloud Storage bucket below. It must be unique across all Cloud Storage buckets."
   ]
  },
  {
   "cell_type": "code",
   "execution_count": 11,
   "metadata": {
    "id": "bucket"
   },
   "outputs": [],
   "source": [
    "BUCKET_NAME = \"gs://[your-bucket-name]\" #@param {type:\"string\"}"
   ]
  },
  {
   "cell_type": "code",
   "execution_count": 12,
   "metadata": {
    "id": "autoset_bucket"
   },
   "outputs": [],
   "source": [
    "if BUCKET_NAME == \"\" or BUCKET_NAME is None or BUCKET_NAME == \"gs://[your-bucket-name]\":\n",
    "    BUCKET_NAME = \"gs://\" + PROJECT_ID + \"aip-\" + TIMESTAMP"
   ]
  },
  {
   "cell_type": "markdown",
   "metadata": {
    "id": "create_bucket"
   },
   "source": [
    "**Only if your bucket doesn't already exist**: Run the following cell to create your Cloud Storage bucket."
   ]
  },
  {
   "cell_type": "code",
   "execution_count": 13,
   "metadata": {
    "id": "create_bucket"
   },
   "outputs": [
    {
     "name": "stdout",
     "output_type": "stream",
     "text": [
      "Creating gs://andy-1234-221921aip-20210322213438/...\n"
     ]
    }
   ],
   "source": [
    "! gsutil mb -l $REGION $BUCKET_NAME"
   ]
  },
  {
   "cell_type": "markdown",
   "metadata": {
    "id": "validate_bucket"
   },
   "source": [
    "Finally, validate access to your Cloud Storage bucket by examining its contents:"
   ]
  },
  {
   "cell_type": "code",
   "execution_count": 14,
   "metadata": {
    "id": "validate_bucket"
   },
   "outputs": [],
   "source": [
    "! gsutil ls -al $BUCKET_NAME"
   ]
  },
  {
   "cell_type": "markdown",
   "metadata": {
    "id": "setup_vars"
   },
   "source": [
    "### Set up variables\n",
    "\n",
    "Next, set up some variables used throughout the tutorial.\n",
    "### Import libraries and define constants"
   ]
  },
  {
   "cell_type": "markdown",
   "metadata": {
    "id": "import_aip"
   },
   "source": [
    "#### Import AI Platform (Unified) client library\n",
    "\n",
    "Import the AI Platform (Unified) client library into our Python environment."
   ]
  },
  {
   "cell_type": "code",
   "execution_count": 15,
   "metadata": {
    "id": "import_aip"
   },
   "outputs": [],
   "source": [
    "import os\n",
    "import sys\n",
    "import time\n",
    "\n",
    "from google.cloud.aiplatform import gapic as aip\n",
    "\n",
    "from google.protobuf import json_format\n",
    "from google.protobuf.struct_pb2 import Value\n",
    "from google.protobuf.struct_pb2 import Struct\n",
    "from google.protobuf.json_format import MessageToJson\n",
    "from google.protobuf.json_format import ParseDict"
   ]
  },
  {
   "cell_type": "markdown",
   "metadata": {
    "id": "aip_constants"
   },
   "source": [
    "#### AI Platform (Unified) constants\n",
    "\n",
    "Setup up the following constants for AI Platform (Unified):\n",
    "\n",
    "- `API_ENDPOINT`: The AI Platform (Unified) API service endpoint for dataset, model, job, pipeline and endpoint services.\n",
    "- `PARENT`: The AI Platform (Unified) location root path for dataset, model and endpoint resources."
   ]
  },
  {
   "cell_type": "code",
   "execution_count": 16,
   "metadata": {
    "id": "aip_constants"
   },
   "outputs": [],
   "source": [
    "# API service endpoint\n",
    "API_ENDPOINT = \"{0}-aiplatform.googleapis.com\".format(REGION)\n",
    "\n",
    "# AI Platform (Unified) location root path for your dataset, model and endpoint resources\n",
    "PARENT = \"projects/\" + PROJECT_ID + \"/locations/\" + REGION"
   ]
  },
  {
   "cell_type": "markdown",
   "metadata": {
    "id": "automl_constants"
   },
   "source": [
    "#### AutoML constants\n",
    "\n",
    "Set constants unique to AutoML datasets and training:\n",
    "\n",
    "- Dataset Schemas: Tells the `Dataset` resource service which type of dataset it is.\n",
    "- Data Labeling (Annotations) Schemas: Tells the `Dataset` resource service how the data is labeled (annotated).\n",
    "- Dataset Training Schemas: Tells the `Pipeline` resource service the task (e.g., classification) to train the model for."
   ]
  },
  {
   "cell_type": "code",
   "execution_count": 17,
   "metadata": {
    "id": "automl_constants:icn"
   },
   "outputs": [],
   "source": [
    "# Image Dataset type\n",
    "DATA_SCHEMA = 'google-cloud-aiplatform/schema/dataset/metadata/image_1.0.0.yaml'\n",
    "# Image Labeling type\n",
    "LABEL_SCHEMA = \"gs://google-cloud-aiplatform/schema/dataset/ioformat/image_classification_single_label_io_format_1.0.0.yaml\"\n",
    "# Image Training task\n",
    "TRAINING_SCHEMA = \"gs://google-cloud-aiplatform/schema/trainingjob/definition/automl_image_classification_1.0.0.yaml\""
   ]
  },
  {
   "cell_type": "markdown",
   "metadata": {
    "id": "tutorial_start:automl"
   },
   "source": [
    "# Tutorial\n",
    "\n",
    "Now you are ready to start creating your own AutoML image classification model."
   ]
  },
  {
   "cell_type": "markdown",
   "metadata": {
    "id": "clients:automl,export_edge"
   },
   "source": [
    "## Set up clients\n",
    "\n",
    "The AI Platform (Unified) client library works as a client/server model. On your side (the Python script) you will create a client that sends requests and receives responses from the server (AI Platform).\n",
    "\n",
    "You will use different clients in this tutorial for different steps in the workflow. So set them all up upfront.\n",
    "\n",
    "- Dataset Service for `Dataset` resources.\n",
    "- Model Service for `Model` resources.\n",
    "- Pipeline Service for training."
   ]
  },
  {
   "cell_type": "code",
   "execution_count": 18,
   "metadata": {
    "id": "clients:automl,export_edge"
   },
   "outputs": [
    {
     "name": "stdout",
     "output_type": "stream",
     "text": [
      "('dataset', <google.cloud.aiplatform_v1.services.dataset_service.client.DatasetServiceClient object at 0x7f6f941ec210>)\n",
      "('model', <google.cloud.aiplatform_v1.services.model_service.client.ModelServiceClient object at 0x7f6f941ec310>)\n",
      "('pipeline', <google.cloud.aiplatform_v1.services.pipeline_service.client.PipelineServiceClient object at 0x7f6f941ec110>)\n"
     ]
    }
   ],
   "source": [
    "# client options same for all services\n",
    "client_options = {\"api_endpoint\": API_ENDPOINT}\n",
    "\n",
    "\n",
    "def create_dataset_client():\n",
    "    client = aip.DatasetServiceClient(\n",
    "        client_options=client_options\n",
    "    )\n",
    "    return client\n",
    "\n",
    "\n",
    "def create_model_client():\n",
    "    client = aip.ModelServiceClient(\n",
    "        client_options=client_options\n",
    "    )\n",
    "    return client\n",
    "\n",
    "\n",
    "def create_pipeline_client():\n",
    "    client = aip.PipelineServiceClient(\n",
    "        client_options=client_options\n",
    "    )\n",
    "    return client\n",
    "\n",
    "\n",
    "\n",
    "clients = {}\n",
    "clients['dataset'] = create_dataset_client()\n",
    "clients['model'] = create_model_client()\n",
    "clients['pipeline'] = create_pipeline_client()\n",
    "\n",
    "for client in clients.items():\n",
    "    print(client)"
   ]
  },
  {
   "cell_type": "markdown",
   "metadata": {
    "id": "create_aip_dataset"
   },
   "source": [
    "## Dataset\n",
    "\n",
    "Now that your clients are ready, your first step in training a model is to create a managed dataset instance, and then upload your labeled data to it.\n",
    "\n",
    "### Create `Dataset` resource instance\n",
    "\n",
    "Use the helper function `create_dataset` to create the instance of a `Dataset` resource. This function does the following:\n",
    "\n",
    "1. Uses the dataset client service.\n",
    "2. Creates an AI Platform (Unified) `Dataset` resource (`aip.Dataset`), with the following parameters:\n",
    " - `display_name`: The human-readable name you choose to give it.\n",
    " - `metadata_schema_uri`: The schema for the dataset type.\n",
    "3. Calls the client dataset service method `create_dataset`, with the following parameters:\n",
    " - `parent`: The AI Platform (Unified) location root path for your `Database`, `Model` and `Endpoint` resources.\n",
    " - `dataset`: The AI Platform (Unified) dataset object instance you created.\n",
    "4. The method returns an `operation` object.\n",
    "\n",
    "An `operation` object is how AI Platform (Unified) handles asynchronous calls for long running operations. While this step usually goes fast, when you first use it in your project, there is a longer delay due to provisioning.\n",
    "\n",
    "You can use the `operation` object to get status on the operation (e.g., create `Dataset` resource) or to cancel the operation, by invoking an operation method:\n",
    "\n",
    "| Method      | Description |\n",
    "| ----------- | ----------- |\n",
    "| result()    | Waits for the operation to complete and returns a result object in JSON format.      |\n",
    "| running()   | Returns True/False on whether the operation is still running.        |\n",
    "| done()      | Returns True/False on whether the operation is completed. |\n",
    "| canceled()  | Returns True/False on whether the operation was canceled. |\n",
    "| cancel()    | Cancels the operation (this may take up to 30 seconds). |"
   ]
  },
  {
   "cell_type": "code",
   "execution_count": 19,
   "metadata": {
    "id": "create_aip_dataset"
   },
   "outputs": [
    {
     "name": "stdout",
     "output_type": "stream",
     "text": [
      "Long running operation: projects/759209241365/locations/us-central1/datasets/5516962320086990848/operations/4383300960663896064\n",
      "time: 5.463537216186523\n",
      "response\n",
      " name: projects/759209241365/locations/us-central1/datasets/5516962320086990848\n",
      " display_name: flowers-20210322213438\n",
      " metadata_schema_uri: gs://google-cloud-aiplatform/schema/dataset/metadata/image_1.0.0.yaml\n",
      " metadata: {'dataItemSchemaUri': 'gs://google-cloud-aiplatform/schema/dataset/dataitem/image_1.0.0.yaml'}\n",
      " create_time: None\n",
      " update_time: None\n",
      " etag: \n",
      " labels: {'aiplatform.googleapis.com/dataset_metadata_schema': 'IMAGE'}\n"
     ]
    }
   ],
   "source": [
    "TIMEOUT = 90\n",
    "\n",
    "def create_dataset(name, schema, labels=None, timeout=TIMEOUT):\n",
    "    start_time = time.time()\n",
    "    try:\n",
    "        dataset = aip.Dataset(display_name=name, metadata_schema_uri=\"gs://\" + schema, labels=labels)\n",
    "\n",
    "        operation = clients['dataset'].create_dataset(parent=PARENT, dataset=dataset)\n",
    "        print(\"Long running operation:\", operation.operation.name)\n",
    "        result = operation.result(timeout=TIMEOUT)\n",
    "        print(\"time:\", time.time() - start_time)\n",
    "        print(\"response\")\n",
    "        print(\" name:\", result.name)\n",
    "        print(\" display_name:\", result.display_name)\n",
    "        print(\" metadata_schema_uri:\", result.metadata_schema_uri)\n",
    "        print(\" metadata:\", dict(result.metadata))\n",
    "        print(\" create_time:\", result.create_time)\n",
    "        print(\" update_time:\", result.update_time)\n",
    "        print(\" etag:\", result.etag)\n",
    "        print(\" labels:\", dict(result.labels))\n",
    "        return result\n",
    "    except Exception as e:\n",
    "        print(\"exception:\", e)\n",
    "        return None\n",
    "\n",
    "\n",
    "result = create_dataset(\"flowers-\" + TIMESTAMP, DATA_SCHEMA)"
   ]
  },
  {
   "cell_type": "markdown",
   "metadata": {
    "id": "dataset_id:result"
   },
   "source": [
    "Now save the unique dataset identifier for the `Dataset` resource instance you created."
   ]
  },
  {
   "cell_type": "code",
   "execution_count": 20,
   "metadata": {
    "id": "dataset_id:result"
   },
   "outputs": [
    {
     "name": "stdout",
     "output_type": "stream",
     "text": [
      "projects/759209241365/locations/us-central1/datasets/5516962320086990848\n"
     ]
    }
   ],
   "source": [
    "# The full unique ID for the dataset\n",
    "dataset_id = result.name\n",
    "# The short numeric ID for the dataset\n",
    "dataset_short_id = dataset_id.split('/')[-1]\n",
    "\n",
    "print(dataset_id)"
   ]
  },
  {
   "cell_type": "markdown",
   "metadata": {
    "id": "data_preparation:image,u_dataset"
   },
   "source": [
    "### Data preparation\n",
    "\n",
    "The AI Platform (Unified) `Dataset` resource for images has some requirements for your data:\n",
    "\n",
    "- Images must be stored in a Cloud Storage bucket.\n",
    "- Each image file must be in an image format (PNG, JPEG, BMP, ...).\n",
    "- There must be an index file stored in your Cloud Storage bucket that contains the path and label for each image.\n",
    "- The index file must be either CSV or JSONL."
   ]
  },
  {
   "cell_type": "markdown",
   "metadata": {
    "id": "data_import_format:icn,u_dataset,csv"
   },
   "source": [
    "#### CSV\n",
    "\n",
    "For image classification, the CSV index file has the requirements:\n",
    "\n",
    "- No heading.\n",
    "- First column is the Cloud Storage path to the image.\n",
    "- Second column is the label."
   ]
  },
  {
   "cell_type": "markdown",
   "metadata": {
    "id": "import_file:u_dataset,csv"
   },
   "source": [
    "#### Location of Cloud Storage training data.\n",
    "\n",
    "Now set the variable `IMPORT_FILE` to the location of the CSV index file in Cloud Storage."
   ]
  },
  {
   "cell_type": "code",
   "execution_count": 21,
   "metadata": {
    "id": "import_file:flowers,csv,icn"
   },
   "outputs": [],
   "source": [
    "IMPORT_FILE = 'gs://cloud-samples-data/vision/automl_classification/flowers/all_data_v2.csv'"
   ]
  },
  {
   "cell_type": "markdown",
   "metadata": {
    "id": "quick_peek:csv"
   },
   "source": [
    "#### Quick peek at your data\n",
    "\n",
    "You will use a version of the Flowers dataset that is stored in a public Cloud Storage bucket, using a CSV index file.\n",
    "\n",
    "Let's start by doing a quick peek at the data. You count the number of examples by counting the number of rows in the CSV index file  (`wc -l`) and then peek at the first few rows."
   ]
  },
  {
   "cell_type": "code",
   "execution_count": 22,
   "metadata": {
    "id": "quick_peek:csv"
   },
   "outputs": [
    {
     "name": "stdout",
     "output_type": "stream",
     "text": [
      "Number of Examples 3669\n",
      "First 10 rows\n",
      "gs://cloud-ml-data/img/flower_photos/daisy/100080576_f52e8ee070_n.jpg,daisy\n",
      "gs://cloud-ml-data/img/flower_photos/daisy/10140303196_b88d3d6cec.jpg,daisy\n",
      "gs://cloud-ml-data/img/flower_photos/daisy/10172379554_b296050f82_n.jpg,daisy\n",
      "gs://cloud-ml-data/img/flower_photos/daisy/10172567486_2748826a8b.jpg,daisy\n",
      "gs://cloud-ml-data/img/flower_photos/daisy/10172636503_21bededa75_n.jpg,daisy\n",
      "gs://cloud-ml-data/img/flower_photos/daisy/102841525_bd6628ae3c.jpg,daisy\n",
      "gs://cloud-ml-data/img/flower_photos/daisy/1031799732_e7f4008c03.jpg,daisy\n",
      "gs://cloud-ml-data/img/flower_photos/daisy/10391248763_1d16681106_n.jpg,daisy\n",
      "gs://cloud-ml-data/img/flower_photos/daisy/10437754174_22ec990b77_m.jpg,daisy\n",
      "gs://cloud-ml-data/img/flower_photos/daisy/10437770546_8bb6f7bdd3_m.jpg,daisy\n"
     ]
    }
   ],
   "source": [
    "if 'IMPORT_FILES' in globals():\n",
    "    FILE = IMPORT_FILES[0]\n",
    "else:\n",
    "    FILE = IMPORT_FILE\n",
    "\n",
    "count = ! gsutil cat $FILE | wc -l\n",
    "print(\"Number of Examples\", int(count[0]))\n",
    "\n",
    "print(\"First 10 rows\")\n",
    "! gsutil cat $FILE | head"
   ]
  },
  {
   "cell_type": "markdown",
   "metadata": {
    "id": "import_data"
   },
   "source": [
    "### Import data\n",
    "\n",
    "Now, import the data into your AI Platform (Unified) Dataset resource. Use this helper function `import_data` to import the data. The function does the following:\n",
    "\n",
    "- Uses the `Dataset` client.\n",
    "- Calls the client method `import_data`, with the following parameters:\n",
    " - `name`: The human readable name you give to the `Dataset` resource (e.g., flowers).\n",
    " - `import_configs`: The import configuration.\n",
    "\n",
    "- `import_configs`: A Python list containing a dictionary, with the key/value entries:\n",
    " - `gcs_sources`: A list of URIs to the paths of the one or more index files.\n",
    " - `import_schema_uri`: The schema identifying the labeling type.\n",
    "\n",
    "The `import_data()` method returns a long running `operation` object. This will take a few minutes to complete. If you are in a live tutorial, this would be a good time to ask questions, or take a personal break."
   ]
  },
  {
   "cell_type": "code",
   "execution_count": 23,
   "metadata": {
    "id": "import_data"
   },
   "outputs": [
    {
     "name": "stdout",
     "output_type": "stream",
     "text": [
      "dataset: projects/759209241365/locations/us-central1/datasets/5516962320086990848\n",
      "Long running operation: projects/759209241365/locations/us-central1/datasets/5516962320086990848/operations/7015654942861950976\n",
      "result: \n",
      "time: 886 secs\n",
      "error: None\n",
      "meta : generic_metadata {\n",
      "  partial_failures {\n",
      "    code: 6\n",
      "    message: \"Warning: Annotation `sunflowers` is deduped. for: gs://cloud-samples-data/vision/automl_classification/flowers/all_data_v2.csv line 2241,gs://cloud-samples-data/vision/automl_classification/flowers/all_data_v2.csv line 2268\"\n",
      "  }\n",
      "  partial_failures {\n",
      "    code: 6\n",
      "    message: \"Warning: Annotation `sunflowers` is deduped. for: gs://cloud-samples-data/vision/automl_classification/flowers/all_data_v2.csv line 2269,gs://cloud-samples-data/vision/automl_classification/flowers/all_data_v2.csv line 2270\"\n",
      "  }\n",
      "  create_time {\n",
      "    seconds: 1616448888\n",
      "    nanos: 939269000\n",
      "  }\n",
      "  update_time {\n",
      "    seconds: 1616449716\n",
      "    nanos: 906810000\n",
      "  }\n",
      "}\n",
      "\n",
      "after: running: False done: True cancelled: False\n"
     ]
    },
    {
     "data": {
      "text/plain": [
       "<google.api_core.operation.Operation at 0x7f6f941a4fd0>"
      ]
     },
     "execution_count": 23,
     "metadata": {},
     "output_type": "execute_result"
    }
   ],
   "source": [
    "def import_data(dataset, gcs_sources, schema):\n",
    "    config = [{\n",
    "        'gcs_source': {'uris': gcs_sources},\n",
    "        'import_schema_uri': schema\n",
    "    }]\n",
    "    print(\"dataset:\", dataset_id)\n",
    "    start_time = time.time()\n",
    "    try:\n",
    "        operation = clients['dataset'].import_data(name=dataset_id, import_configs=config)\n",
    "        print(\"Long running operation:\", operation.operation.name)\n",
    "\n",
    "        result = operation.result()\n",
    "        print(\"result:\", result)\n",
    "        print(\"time:\", int(time.time() - start_time), \"secs\")\n",
    "        print(\"error:\", operation.exception())\n",
    "        print(\"meta :\", operation.metadata)\n",
    "        print(\"after: running:\", operation.running(), \"done:\", operation.done(), \"cancelled:\", operation.cancelled())\n",
    "\n",
    "        return operation\n",
    "    except Exception as e:\n",
    "        print(\"exception:\", e)\n",
    "        return None\n",
    "\n",
    "\n",
    "import_data(dataset_id, [IMPORT_FILE], LABEL_SCHEMA)"
   ]
  },
  {
   "cell_type": "markdown",
   "metadata": {
    "id": "train_automl_model"
   },
   "source": [
    "## Train the model\n",
    "\n",
    "Now train an AutoML image classification model using your AI Platform (Unified) `Dataset` resource. To train the model, do the following steps:\n",
    "\n",
    "1. Create an AI Platform (Unified) training pipeline for the `Dataset` resource.\n",
    "2. Execute the pipeline to start the training."
   ]
  },
  {
   "cell_type": "markdown",
   "metadata": {
    "id": "create_pipeline:automl"
   },
   "source": [
    "### Create a training pipeline\n",
    "\n",
    "You may ask, what do we use a pipeline for? You typically use pipelines when the job (such as training) has multiple steps, generally in sequential order: do step A, do step B, etc. By putting the steps into a pipeline, we gain the benefits of:\n",
    "\n",
    "1. Being reusable for subsequent training jobs.\n",
    "2. Can be containerized and ran as a batch job.\n",
    "3. Can be distributed.\n",
    "4. All the steps are associated with the same pipeline job for tracking progress.\n",
    "\n",
    "Use this helper function `create_pipeline`, which takes the following parameters:\n",
    "\n",
    "- `pipeline_name`: A human readable name for the pipeline job.\n",
    "- `model_name`: A human readable name for the model.\n",
    "- `dataset`: The AI Platform (Unified) fully qualified dataset identifier.\n",
    "- `schema`: The dataset labeling (annotation) training schema.\n",
    "- `task`: A dictionary describing the requirements for the training job.\n",
    "\n",
    "The helper function calls the `Pipeline` client service'smethod `create_pipeline`, which takes the following parameters:\n",
    "\n",
    "- `parent`: The AI Platform (Unified) location root path for your `Dataset`, `Model` and `Endpoint` resources.\n",
    "- `training_pipeline`: the full specification for the pipeline training job.\n",
    "\n",
    "Let's look now deeper into the *minimal* requirements for constructing a `training_pipeline` specification:\n",
    "\n",
    "- `display_name`: A human readable name for the pipeline job.\n",
    "- `training_task_definition`: The dataset labeling (annotation) training schema.\n",
    "- `training_task_inputs`: A dictionary describing the requirements for the training job.\n",
    "- `model_to_upload`: A human readable name for the model.\n",
    "- `input_data_config`: The dataset specification.\n",
    " - `dataset_id`: The AI Platform (Unified) dataset identifier only (non-fully qualified) -- this is the last part of the fully-qualified identifier.\n",
    " - `fraction_split`: If specified, the percentages of the dataset to use for training, test and validation. Otherwise, the percentages are automatically selected by AutoML."
   ]
  },
  {
   "cell_type": "code",
   "execution_count": 24,
   "metadata": {
    "id": "create_pipeline:automl"
   },
   "outputs": [],
   "source": [
    "def create_pipeline(pipeline_name, model_name, dataset, schema, task):\n",
    "\n",
    "    dataset_id = dataset.split('/')[-1]\n",
    "\n",
    "    input_config = {'dataset_id': dataset_id,\n",
    "                    'fraction_split': {\n",
    "                        'training_fraction': 0.8,\n",
    "                        'validation_fraction': 0.1,\n",
    "                        'test_fraction': 0.1\n",
    "                    }}\n",
    "\n",
    "    training_pipeline = {\n",
    "        \"display_name\": pipeline_name,\n",
    "        \"training_task_definition\": schema,\n",
    "        \"training_task_inputs\": task,\n",
    "        \"input_data_config\": input_config,\n",
    "        \"model_to_upload\": {\"display_name\": model_name},\n",
    "    }\n",
    "\n",
    "    try:\n",
    "        pipeline = clients['pipeline'].create_training_pipeline(parent=PARENT, training_pipeline=training_pipeline)\n",
    "        print(pipeline)\n",
    "    except Exception as e:\n",
    "        print(\"exception:\", e)\n",
    "        return None\n",
    "    return pipeline"
   ]
  },
  {
   "cell_type": "markdown",
   "metadata": {
    "id": "task_requirements:automl,icn,edge"
   },
   "source": [
    "### Construct the task requirements\n",
    "\n",
    "Next, construct the task requirements. Unlike other parameters which take a Python (JSON-like) dictionary, the `task` field takes a Google protobuf Struct, which is very similar to a Python dictionary. Use the `json_format.ParseDict` method for the conversion.\n",
    "\n",
    "The minimal fields we need to specify are:\n",
    "\n",
    "- `multi_label`: Whether True/False this is a multi-label (vs single) classification.\n",
    "- `budget_milli_node_hours`: The maximum time to budget (billed) for training the model, where 1000 = 1 hour. For image classification, the budget must be a minimum of 8 hours.\n",
    "- `model_type`: The type of deployed model:\n",
    "  - `CLOUD`: For deploying to Google Cloud.\n",
    "  - `MOBILE_TF_LOW_LATENCY_1`: For deploying to the edge and optimizing for latency (response time).\n",
    "  - `MOBILE_TF_HIGH_ACCURACY_1`: For deploying to the edge and optimizing for accuracy.\n",
    "  - `MOBILE_TF_VERSATILE_1`: For deploying to the edge and optimizing for a trade off between latency and accuracy.\n",
    "- `disable_early_stopping`: Whether True/False to let AutoML use its judgement to stop training early or train for the entire budget.\n",
    "\n",
    "Finally, create the pipeline by calling the helper function `create_pipeline`, which returns an instance of a training pipeline object."
   ]
  },
  {
   "cell_type": "code",
   "execution_count": 25,
   "metadata": {
    "id": "task_requirements:automl,icn,edge"
   },
   "outputs": [
    {
     "name": "stdout",
     "output_type": "stream",
     "text": [
      "name: \"projects/759209241365/locations/us-central1/trainingPipelines/4350837879853809664\"\n",
      "display_name: \"flowers_pipe-20210322213438\"\n",
      "input_data_config {\n",
      "  dataset_id: \"5516962320086990848\"\n",
      "  fraction_split {\n",
      "    training_fraction: 0.8\n",
      "    validation_fraction: 0.1\n",
      "    test_fraction: 0.1\n",
      "  }\n",
      "}\n",
      "training_task_definition: \"gs://google-cloud-aiplatform/schema/trainingjob/definition/automl_image_classification_1.0.0.yaml\"\n",
      "training_task_inputs {\n",
      "  struct_value {\n",
      "    fields {\n",
      "      key: \"budgetMilliNodeHours\"\n",
      "      value {\n",
      "        string_value: \"8000\"\n",
      "      }\n",
      "    }\n",
      "    fields {\n",
      "      key: \"modelType\"\n",
      "      value {\n",
      "        string_value: \"MOBILE_TF_LOW_LATENCY_1\"\n",
      "      }\n",
      "    }\n",
      "  }\n",
      "}\n",
      "model_to_upload {\n",
      "  display_name: \"flowers_model-20210322213438\"\n",
      "}\n",
      "state: PIPELINE_STATE_PENDING\n",
      "create_time {\n",
      "  seconds: 1616449775\n",
      "  nanos: 383725000\n",
      "}\n",
      "update_time {\n",
      "  seconds: 1616449775\n",
      "  nanos: 383725000\n",
      "}\n",
      "\n"
     ]
    }
   ],
   "source": [
    "PIPE_NAME = \"flowers_pipe-\" + TIMESTAMP\n",
    "MODEL_NAME = \"flowers_model-\" + TIMESTAMP\n",
    "\n",
    "task = json_format.ParseDict({'multi_label': False,\n",
    "                              'budget_milli_node_hours': 8000,\n",
    "                              'model_type': \"MOBILE_TF_LOW_LATENCY_1\",\n",
    "                              'disable_early_stopping': False\n",
    "                             }, Value())\n",
    "\n",
    "response = create_pipeline(PIPE_NAME, MODEL_NAME, dataset_id, TRAINING_SCHEMA, task)"
   ]
  },
  {
   "cell_type": "markdown",
   "metadata": {
    "id": "pipeline_id:response"
   },
   "source": [
    "Now save the unique identifier of the training pipeline you created."
   ]
  },
  {
   "cell_type": "code",
   "execution_count": 26,
   "metadata": {
    "id": "pipeline_id:response"
   },
   "outputs": [
    {
     "name": "stdout",
     "output_type": "stream",
     "text": [
      "projects/759209241365/locations/us-central1/trainingPipelines/4350837879853809664\n"
     ]
    }
   ],
   "source": [
    "# The full unique ID for the pipeline\n",
    "pipeline_id = response.name\n",
    "# The short numeric ID for the pipeline\n",
    "pipeline_short_id = pipeline_id.split('/')[-1]\n",
    "\n",
    "print(pipeline_id)"
   ]
  },
  {
   "cell_type": "markdown",
   "metadata": {
    "id": "get_training_pipeline"
   },
   "source": [
    "### Get information on a training pipeline\n",
    "\n",
    "Now get pipeline information for just this training pipeline instance. The helper function  gets the job information for just this job by calling the the job client service's `get_training_pipeline` method, with the following parameter:\n",
    "\n",
    "- `name`: The AI Platform (Unified) fully qualified pipeline identifier.\n",
    "\n",
    "When the model is done training, the pipeline state will be `PIPELINE_STATE_SUCCEEDED`."
   ]
  },
  {
   "cell_type": "code",
   "execution_count": 27,
   "metadata": {
    "id": "get_training_pipeline"
   },
   "outputs": [
    {
     "name": "stdout",
     "output_type": "stream",
     "text": [
      "pipeline\n",
      " name: projects/759209241365/locations/us-central1/trainingPipelines/4350837879853809664\n",
      " display_name: flowers_pipe-20210322213438\n",
      " state: PipelineState.PIPELINE_STATE_PENDING\n",
      " training_task_definition: gs://google-cloud-aiplatform/schema/trainingjob/definition/automl_image_classification_1.0.0.yaml\n",
      " training_task_inputs: {'budgetMilliNodeHours': '8000', 'modelType': 'MOBILE_TF_LOW_LATENCY_1'}\n",
      " create_time: 2021-03-22 21:49:35.383725+00:00\n",
      " start_time: None\n",
      " end_time: None\n",
      " update_time: 2021-03-22 21:49:35.383725+00:00\n",
      " labels: {}\n"
     ]
    }
   ],
   "source": [
    "def get_training_pipeline(name, silent=False):\n",
    "    response = clients['pipeline'].get_training_pipeline(name=name)\n",
    "    if silent:\n",
    "        return response\n",
    "\n",
    "    print(\"pipeline\")\n",
    "    print(\" name:\", response.name)\n",
    "    print(\" display_name:\", response.display_name)\n",
    "    print(\" state:\", response.state)\n",
    "    print(\" training_task_definition:\", response.training_task_definition)\n",
    "    print(\" training_task_inputs:\", dict(response.training_task_inputs))\n",
    "    print(\" create_time:\", response.create_time)\n",
    "    print(\" start_time:\", response.start_time)\n",
    "    print(\" end_time:\", response.end_time)\n",
    "    print(\" update_time:\", response.update_time)\n",
    "    print(\" labels:\", dict(response.labels))\n",
    "    return response\n",
    "\n",
    "\n",
    "response = get_training_pipeline(pipeline_id)"
   ]
  },
  {
   "cell_type": "markdown",
   "metadata": {
    "id": "wait_training_complete"
   },
   "source": [
    "# Deployment\n",
    "\n",
    "Training the above model may take upwards of 30 minutes time.\n",
    "\n",
    "Once your model is done training, you can calculate the actual time it took to train the model by subtracting `end_time` from `start_time`. For your model, you will need to know the fully qualified AI Platform (Unified) Model resource identifier, which the pipeline service assigned to it. You can get this from the returned pipeline instance as the field `model_to_deploy.name`."
   ]
  },
  {
   "cell_type": "code",
   "execution_count": 28,
   "metadata": {
    "id": "wait_training_complete"
   },
   "outputs": [
    {
     "name": "stdout",
     "output_type": "stream",
     "text": [
      "Training job has not completed: PipelineState.PIPELINE_STATE_RUNNING\n",
      "Training job has not completed: PipelineState.PIPELINE_STATE_RUNNING\n",
      "Training job has not completed: PipelineState.PIPELINE_STATE_RUNNING\n",
      "Training job has not completed: PipelineState.PIPELINE_STATE_RUNNING\n",
      "Training job has not completed: PipelineState.PIPELINE_STATE_RUNNING\n",
      "Training job has not completed: PipelineState.PIPELINE_STATE_RUNNING\n",
      "Training job has not completed: PipelineState.PIPELINE_STATE_RUNNING\n",
      "Training job has not completed: PipelineState.PIPELINE_STATE_RUNNING\n",
      "Training job has not completed: PipelineState.PIPELINE_STATE_RUNNING\n",
      "Training job has not completed: PipelineState.PIPELINE_STATE_RUNNING\n",
      "Training job has not completed: PipelineState.PIPELINE_STATE_RUNNING\n",
      "Training job has not completed: PipelineState.PIPELINE_STATE_RUNNING\n",
      "Training job has not completed: PipelineState.PIPELINE_STATE_RUNNING\n",
      "Training job has not completed: PipelineState.PIPELINE_STATE_RUNNING\n",
      "Training job has not completed: PipelineState.PIPELINE_STATE_RUNNING\n",
      "Training job has not completed: PipelineState.PIPELINE_STATE_RUNNING\n",
      "Training job has not completed: PipelineState.PIPELINE_STATE_RUNNING\n",
      "Training job has not completed: PipelineState.PIPELINE_STATE_RUNNING\n",
      "Training job has not completed: PipelineState.PIPELINE_STATE_RUNNING\n",
      "Training job has not completed: PipelineState.PIPELINE_STATE_RUNNING\n",
      "Training job has not completed: PipelineState.PIPELINE_STATE_RUNNING\n",
      "Training job has not completed: PipelineState.PIPELINE_STATE_RUNNING\n",
      "Training job has not completed: PipelineState.PIPELINE_STATE_RUNNING\n",
      "Training job has not completed: PipelineState.PIPELINE_STATE_RUNNING\n",
      "Training job has not completed: PipelineState.PIPELINE_STATE_RUNNING\n",
      "Training job has not completed: PipelineState.PIPELINE_STATE_RUNNING\n",
      "Training job has not completed: PipelineState.PIPELINE_STATE_RUNNING\n",
      "Training job has not completed: PipelineState.PIPELINE_STATE_RUNNING\n",
      "Training job has not completed: PipelineState.PIPELINE_STATE_RUNNING\n",
      "Training job has not completed: PipelineState.PIPELINE_STATE_RUNNING\n",
      "Training job has not completed: PipelineState.PIPELINE_STATE_RUNNING\n",
      "Training job has not completed: PipelineState.PIPELINE_STATE_RUNNING\n",
      "Training job has not completed: PipelineState.PIPELINE_STATE_RUNNING\n",
      "Training job has not completed: PipelineState.PIPELINE_STATE_RUNNING\n",
      "Training job has not completed: PipelineState.PIPELINE_STATE_RUNNING\n",
      "Training job has not completed: PipelineState.PIPELINE_STATE_RUNNING\n",
      "Training job has not completed: PipelineState.PIPELINE_STATE_RUNNING\n",
      "Training job has not completed: PipelineState.PIPELINE_STATE_RUNNING\n",
      "Training job has not completed: PipelineState.PIPELINE_STATE_RUNNING\n",
      "Training job has not completed: PipelineState.PIPELINE_STATE_RUNNING\n",
      "Training job has not completed: PipelineState.PIPELINE_STATE_RUNNING\n",
      "Training job has not completed: PipelineState.PIPELINE_STATE_RUNNING\n",
      "Training job has not completed: PipelineState.PIPELINE_STATE_RUNNING\n",
      "Training job has not completed: PipelineState.PIPELINE_STATE_RUNNING\n",
      "Training job has not completed: PipelineState.PIPELINE_STATE_RUNNING\n",
      "Training job has not completed: PipelineState.PIPELINE_STATE_RUNNING\n",
      "Training job has not completed: PipelineState.PIPELINE_STATE_RUNNING\n",
      "Training job has not completed: PipelineState.PIPELINE_STATE_RUNNING\n",
      "Training job has not completed: PipelineState.PIPELINE_STATE_RUNNING\n",
      "Training job has not completed: PipelineState.PIPELINE_STATE_RUNNING\n",
      "Training job has not completed: PipelineState.PIPELINE_STATE_RUNNING\n",
      "Training job has not completed: PipelineState.PIPELINE_STATE_RUNNING\n",
      "Training job has not completed: PipelineState.PIPELINE_STATE_RUNNING\n",
      "Training job has not completed: PipelineState.PIPELINE_STATE_RUNNING\n",
      "Training job has not completed: PipelineState.PIPELINE_STATE_RUNNING\n",
      "Training job has not completed: PipelineState.PIPELINE_STATE_RUNNING\n",
      "Training job has not completed: PipelineState.PIPELINE_STATE_RUNNING\n",
      "Training job has not completed: PipelineState.PIPELINE_STATE_RUNNING\n",
      "Training job has not completed: PipelineState.PIPELINE_STATE_RUNNING\n",
      "Training job has not completed: PipelineState.PIPELINE_STATE_RUNNING\n",
      "Training job has not completed: PipelineState.PIPELINE_STATE_RUNNING\n",
      "Training job has not completed: PipelineState.PIPELINE_STATE_RUNNING\n",
      "Training job has not completed: PipelineState.PIPELINE_STATE_RUNNING\n",
      "Training job has not completed: PipelineState.PIPELINE_STATE_RUNNING\n",
      "Training job has not completed: PipelineState.PIPELINE_STATE_RUNNING\n",
      "Training job has not completed: PipelineState.PIPELINE_STATE_RUNNING\n",
      "Training job has not completed: PipelineState.PIPELINE_STATE_RUNNING\n",
      "Training job has not completed: PipelineState.PIPELINE_STATE_RUNNING\n",
      "Training job has not completed: PipelineState.PIPELINE_STATE_RUNNING\n",
      "Training job has not completed: PipelineState.PIPELINE_STATE_RUNNING\n",
      "Training job has not completed: PipelineState.PIPELINE_STATE_RUNNING\n",
      "Training job has not completed: PipelineState.PIPELINE_STATE_RUNNING\n",
      "Training job has not completed: PipelineState.PIPELINE_STATE_RUNNING\n",
      "Training Time: 1:13:22.934007\n",
      "model to deploy: projects/759209241365/locations/us-central1/models/5339668269131366400\n"
     ]
    }
   ],
   "source": [
    "while True:\n",
    "    response = get_training_pipeline(pipeline_id, True)\n",
    "    if response.state != aip.PipelineState.PIPELINE_STATE_SUCCEEDED:\n",
    "        print(\"Training job has not completed:\", response.state)\n",
    "        model_to_deploy_id = None\n",
    "        if response.state == aip.PipelineState.PIPELINE_STATE_FAILED:\n",
    "            raise Exception(\"Training Job Failed\")\n",
    "    else:\n",
    "        model_to_deploy = response.model_to_upload\n",
    "        model_to_deploy_id = model_to_deploy.name\n",
    "        print(\"Training Time:\", response.end_time - response.start_time)\n",
    "        break\n",
    "    time.sleep(60)\n",
    "\n",
    "print(\"model to deploy:\", model_to_deploy_id)"
   ]
  },
  {
   "cell_type": "markdown",
   "metadata": {
    "id": "model_information"
   },
   "source": [
    "## Model information\n",
    "\n",
    "Now that your model is trained, you can get some information on your model."
   ]
  },
  {
   "cell_type": "markdown",
   "metadata": {
    "id": "evaluate_the_model:automl"
   },
   "source": [
    "## Evaluate the Model resource\n",
    "\n",
    "Now find out how good the model service believes your model is. As part of training, some portion of the dataset was set aside as the test (holdout) data, which is used by the pipeline service to evaluate the model."
   ]
  },
  {
   "cell_type": "markdown",
   "metadata": {
    "id": "list_model_evaluations:automl,icn"
   },
   "source": [
    "### List evaluations for all slices\n",
    "\n",
    "Use this helper function `list_model_evaluations`, which takes the following parameter:\n",
    "\n",
    "- `name`: The AI Platform (Unified) fully qualified model identifier for the `Model` resource.\n",
    "\n",
    "This helper function uses the model client service's `list_model_evaluations` method, which takes the same parameter. The response object from the call is a list, where each element is an evaluation metric.\n",
    "\n",
    "For each evaluation (you probably only have one) we then print all the key names for each metric in the evaluation, and for a small set (`logLoss` and `auPrc`) you will print the result."
   ]
  },
  {
   "cell_type": "code",
   "execution_count": 29,
   "metadata": {
    "id": "list_model_evaluations:automl,icn"
   },
   "outputs": [
    {
     "name": "stdout",
     "output_type": "stream",
     "text": [
      "model_evaluation\n",
      " name: projects/759209241365/locations/us-central1/models/5339668269131366400/evaluations/4370802811990966272\n",
      " metrics_schema_uri: gs://google-cloud-aiplatform/schema/modelevaluation/classification_metrics_1.0.0.yaml\n",
      "confusionMatrix\n",
      "confidenceMetrics\n",
      "auPrc\n",
      "logLoss\n",
      "logloss 0.116246305\n",
      "auPrc 0.9707106\n"
     ]
    }
   ],
   "source": [
    "def list_model_evaluations(name):\n",
    "    response = clients['model'].list_model_evaluations(parent=name)\n",
    "    for evaluation in response:\n",
    "        print(\"model_evaluation\")\n",
    "        print(\" name:\", evaluation.name)\n",
    "        print(\" metrics_schema_uri:\", evaluation.metrics_schema_uri)\n",
    "        metrics = json_format.MessageToDict(evaluation._pb.metrics)\n",
    "        for metric in metrics.keys():\n",
    "            print(metric)\n",
    "        print('logloss', metrics['logLoss'])\n",
    "        print('auPrc', metrics['auPrc'])\n",
    "\n",
    "\n",
    "    return evaluation.name\n",
    "\n",
    "\n",
    "last_evaluation = list_model_evaluations(model_to_deploy_id)"
   ]
  },
  {
   "cell_type": "markdown",
   "metadata": {
    "id": "export_model:export_edge"
   },
   "source": [
    "## Export as Edge model\n",
    "\n",
    "You can export an AutoML image classification model as an Edge model which you can then custom deploy to an edge device, such as a mobile phone or IoT device, or download locally. Use this helper function `export_model` to export the model to Google Cloud, which takes the following parameters:\n",
    "\n",
    "- `name`: The AI Platform (Unified) fully qualified identifier for the `Model` resource.\n",
    "- `gcs_dest`: The Cloud Storage location to store the SavedFormat model artifacts to.\n",
    "\n",
    "This function calls the `Model` client service's method `export_model`, with the following parameters:\n",
    "\n",
    "- `name`: The AI Platform (Unified) fully qualified identifier for the `Model` resource.\n",
    "- `output_config`: The destination information for the exported model.\n",
    "  - `artifact_destination.output_uri_prefix`: The Cloud Storage location to store the SavedFormat model artifacts to.\n",
    "  - `export_format_id`: The format to save the model format as. For AutoML image classification:\n",
    "   - `tf-saved-model`: TensorFlow SavedFormat for deployment to a container.\n",
    "   - `tflite`: TensorFlow Lite for deployment to an edge or mobile device.\n",
    "   - `edgetpu-tflite`: TensorFlow Lite for TPU\n",
    "   - `tf-js`: TensorFlow for web client\n",
    "   - `coral-ml`: for Coral devices\n",
    "\n",
    "The method returns a long running operation `response`. We will wait sychronously for the operation to complete by calling the `response.result()`, which will block until the model is exported."
   ]
  },
  {
   "cell_type": "code",
   "execution_count": 30,
   "metadata": {
    "id": "export_model:export_edge"
   },
   "outputs": [
    {
     "name": "stdout",
     "output_type": "stream",
     "text": [
      "Long running operation: projects/759209241365/locations/us-central1/models/5339668269131366400/operations/5790112894263754752\n",
      "Artifact Uri gs://andy-1234-221921aip-20210322213438/flowers/model-5339668269131366400/tflite/2021-03-22T23:03:20.935787Z\n"
     ]
    }
   ],
   "source": [
    "MODEL_DIR = BUCKET_NAME + '/' + \"flowers\"\n",
    "\n",
    "def export_model(name, gcs_dest):\n",
    "    output_config = {\n",
    "        \"artifact_destination\": {\"output_uri_prefix\": gcs_dest},\n",
    "        \"export_format_id\": \"tflite\",\n",
    "    }\n",
    "    response = clients['model'].export_model(name=name, output_config=output_config)\n",
    "    print(\"Long running operation:\", response.operation.name)\n",
    "    result = response.result(timeout=1800)\n",
    "    metadata = response.operation.metadata\n",
    "    artifact_uri = str(metadata.value).split(\"\\\\\")[-1][4:-1]\n",
    "    print(\"Artifact Uri\", artifact_uri)\n",
    "    return artifact_uri\n",
    "\n",
    "\n",
    "model_package = export_model(model_to_deploy_id, MODEL_DIR)"
   ]
  },
  {
   "cell_type": "markdown",
   "metadata": {
    "id": "download_model_artifacts:tflite"
   },
   "source": [
    "#### Download the TFLite model artifacts\n",
    "\n",
    "Now that you have an exported TFLite version of your model, you can test the exported model locally, but first downloading it from Cloud Storage."
   ]
  },
  {
   "cell_type": "code",
   "execution_count": 31,
   "metadata": {
    "id": "download_model_artifacts:tflite"
   },
   "outputs": [
    {
     "name": "stdout",
     "output_type": "stream",
     "text": [
      "gs://andy-1234-221921aip-20210322213438/flowers/model-5339668269131366400/tflite/2021-03-22T23:03:20.935787Z/model.tflite\n",
      "Copying gs://andy-1234-221921aip-20210322213438/flowers/model-5339668269131366400/tflite/2021-03-22T23:03:20.935787Z/model.tflite...\n",
      "/ [1 files][553.6 KiB/553.6 KiB]                                                \n",
      "Operation completed over 1 objects/553.6 KiB.                                    \n"
     ]
    }
   ],
   "source": [
    "! gsutil ls $model_package\n",
    "# Download the model artifacts\n",
    "! gsutil cp -r $model_package tflite\n",
    "\n",
    "tflite_path = 'tflite/model.tflite'"
   ]
  },
  {
   "cell_type": "markdown",
   "metadata": {
    "id": "instantiate_tflite_interpreter"
   },
   "source": [
    "#### Instantiate a TFLite interpreter\n",
    "\n",
    "The TFLite version of the model is not a TensorFlow SavedModel format. You cannot directly use methods like predict(). Instead, one uses the TFLite interpreter. You must first setup the interpreter for the TFLite model as follows:\n",
    "\n",
    "- Instantiate an TFLite interpreter for the TFLite model.\n",
    "- Instruct the interpreter to allocate input and output tensors for the model.\n",
    "- Get detail information about the models input and output tensors that will need to be known for prediction."
   ]
  },
  {
   "cell_type": "code",
   "execution_count": 32,
   "metadata": {
    "id": "instantiate_tflite_interpreter"
   },
   "outputs": [
    {
     "name": "stdout",
     "output_type": "stream",
     "text": [
      "input tensor shape [  1 224 224   3]\n"
     ]
    }
   ],
   "source": [
    "import tensorflow as tf\n",
    "\n",
    "interpreter = tf.lite.Interpreter(model_path=tflite_path)\n",
    "interpreter.allocate_tensors()\n",
    "\n",
    "input_details = interpreter.get_input_details()\n",
    "output_details = interpreter.get_output_details()\n",
    "input_shape = input_details[0]['shape']\n",
    "\n",
    "print(\"input tensor shape\", input_shape)"
   ]
  },
  {
   "cell_type": "markdown",
   "metadata": {
    "id": "get_test_item"
   },
   "source": [
    "### Get test item\n",
    "\n",
    "You will use an arbitrary example out of the dataset as a test item. Don't be concerned that the example was likely used in training the model -- we just want to demonstrate how to make a prediction."
   ]
  },
  {
   "cell_type": "code",
   "execution_count": 33,
   "metadata": {
    "id": "get_test_item:image,224x224"
   },
   "outputs": [
    {
     "name": "stdout",
     "output_type": "stream",
     "text": [
      "test image shape (263, 320, 3)\n",
      "test image shape (224, 224, 3) <dtype: 'float32'>\n"
     ]
    }
   ],
   "source": [
    "test_items = ! gsutil cat $IMPORT_FILE | head -n1\n",
    "test_item = test_items[0].split(',')[0]\n",
    "\n",
    "with tf.io.gfile.GFile(test_item, \"rb\") as f:\n",
    "        content = f.read()\n",
    "test_image = tf.io.decode_jpeg(content)\n",
    "print(\"test image shape\", test_image.shape)\n",
    "\n",
    "test_image = tf.image.resize(test_image, (224, 224))\n",
    "print(\"test image shape\", test_image.shape, test_image.dtype)\n",
    "\n",
    "test_image = tf.cast(test_image, dtype=tf.uint8).numpy()"
   ]
  },
  {
   "cell_type": "markdown",
   "metadata": {
    "id": "invoke_tflite_interpreter"
   },
   "source": [
    "#### Make a prediction with TFLite model\n",
    "\n",
    "Finally, you do a prediction using your TFLite model, as follows:\n",
    "\n",
    "- Convert the test image into a batch of a single image (`np.expand_dims`)\n",
    "- Set the input tensor for the interpreter to your batch of a single image (`data`).\n",
    "- Invoke the interpreter.\n",
    "- Retrieve the softmax probabilities for the prediction (`get_tensor`).\n",
    "- Determine which label had the highest probability (`np.argmax`)."
   ]
  },
  {
   "cell_type": "code",
   "execution_count": 34,
   "metadata": {
    "id": "invoke_tflite_interpreter"
   },
   "outputs": [
    {
     "name": "stdout",
     "output_type": "stream",
     "text": [
      "4\n"
     ]
    }
   ],
   "source": [
    "import numpy as np\n",
    "\n",
    "data = np.expand_dims(test_image, axis=0)\n",
    "\n",
    "interpreter.set_tensor(input_details[0]['index'], data)\n",
    "\n",
    "interpreter.invoke()\n",
    "\n",
    "softmax = interpreter.get_tensor(output_details[0]['index'])\n",
    "\n",
    "label = np.argmax(softmax)\n",
    "\n",
    "print(label)"
   ]
  },
  {
   "cell_type": "markdown",
   "metadata": {
    "id": "cleanup"
   },
   "source": [
    "# Cleaning up\n",
    "\n",
    "To clean up all GCP resources used in this project, you can [delete the GCP\n",
    "project](https://cloud.google.com/resource-manager/docs/creating-managing-projects#shutting_down_projects) you used for the tutorial.\n",
    "\n",
    "Otherwise, you can delete the individual resources you created in this tutorial:\n",
    "\n",
    "- Dataset\n",
    "- Pipeline\n",
    "- Model\n",
    "- Endpoint\n",
    "- Batch Job\n",
    "- Cloud Storage Bucket"
   ]
  },
  {
   "cell_type": "code",
   "execution_count": 35,
   "metadata": {
    "id": "cleanup"
   },
   "outputs": [
    {
     "name": "stdout",
     "output_type": "stream",
     "text": [
      "'endpoint'\n",
      "'job'\n",
      "Removing gs://andy-1234-221921aip-20210322213438/flowers/model-5339668269131366400/tflite/2021-03-22T23:03:20.935787Z/model.tflite#1616454204503970...\n",
      "/ [1 objects]                                                                   \n",
      "Operation completed over 1 objects.                                              \n",
      "Removing gs://andy-1234-221921aip-20210322213438/...\n"
     ]
    }
   ],
   "source": [
    "delete_dataset = True\n",
    "delete_pipeline = True\n",
    "delete_model = True\n",
    "delete_endpoint = True\n",
    "delete_batchjob = True\n",
    "delete_bucket = True\n",
    "\n",
    "# Delete the dataset using the AI Platform (Unified) fully qualified identifier for the dataset\n",
    "try:\n",
    "    if delete_dataset:\n",
    "        clients['dataset'].delete_dataset(name=dataset_id)\n",
    "except Exception as e:\n",
    "    print(e)\n",
    "\n",
    "# Delete the training pipeline using the AI Platform (Unified) fully qualified identifier for the pipeline\n",
    "try:\n",
    "    if delete_pipeline:\n",
    "        clients['pipeline'].delete_training_pipeline(name=pipeline_id)\n",
    "except Exception as e:\n",
    "    print(e)\n",
    "\n",
    "# Delete the model using the AI Platform (Unified) fully qualified identifier for the model\n",
    "try:\n",
    "    if delete_model:\n",
    "        clients['model'].delete_model(name=model_to_deploy_id)\n",
    "except Exception as e:\n",
    "    print(e)\n",
    "\n",
    "# Delete the endpoint using the AI Platform (Unified) fully qualified identifier for the endpoint\n",
    "try:\n",
    "    if delete_endpoint:\n",
    "        clients['endpoint'].delete_endpoint(name=endpoint_id)\n",
    "except Exception as e:\n",
    "    print(e)\n",
    "\n",
    "# Delete the batch job using the AI Platform (Unified) fully qualified identifier for the batch job\n",
    "try:\n",
    "    if delete_batchjob:\n",
    "        clients['job'].delete_batch_prediction_job(name=batch_job_id)\n",
    "except Exception as e:\n",
    "    print(e)\n",
    "\n",
    "if delete_bucket and 'BUCKET_NAME' in globals():\n",
    "    ! gsutil rm -r $BUCKET_NAME"
   ]
  },
  {
   "cell_type": "markdown",
   "metadata": {},
   "source": []
  }
 ],
 "metadata": {
  "kernelspec": {
   "display_name": "Python 3",
   "language": "python",
   "name": "python3"
  },
  "language_info": {
   "codemirror_mode": {
    "name": "ipython",
    "version": 3
   },
   "file_extension": ".py",
   "mimetype": "text/x-python",
   "name": "python",
   "nbconvert_exporter": "python",
   "pygments_lexer": "ipython3",
   "version": "3.7.6"
  }
 },
 "nbformat": 4,
 "nbformat_minor": 4
}
