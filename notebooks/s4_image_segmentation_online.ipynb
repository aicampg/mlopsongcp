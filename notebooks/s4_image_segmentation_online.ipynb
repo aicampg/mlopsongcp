{
 "cells": [
  {
   "cell_type": "code",
   "execution_count": 1,
   "metadata": {
    "id": "copyright"
   },
   "outputs": [],
   "source": [
    "# Copyright 2020 Google LLC\n",
    "#\n",
    "# Licensed under the Apache License, Version 2.0 (the \"License\");\n",
    "# you may not use this file except in compliance with the License.\n",
    "# You may obtain a copy of the License at\n",
    "#\n",
    "#     https://www.apache.org/licenses/LICENSE-2.0\n",
    "#\n",
    "# Unless required by applicable law or agreed to in writing, software\n",
    "# distributed under the License is distributed on an \"AS IS\" BASIS,\n",
    "# WITHOUT WARRANTIES OR CONDITIONS OF ANY KIND, either express or implied.\n",
    "# See the License for the specific language governing permissions and\n",
    "# limitations under the License."
   ]
  },
  {
   "cell_type": "markdown",
   "metadata": {
    "id": "title"
   },
   "source": [
    "# AI Platform (Unified) client library: AutoML image segmentation model for online prediction\n",
    "\n",
    "<table align=\"left\">\n",
    "  <td>\n",
    "    <a href=\"https://colab.research.google.com/github/GoogleCloudPlatform/ai-platform-samples/blob/master/ai-platform-unified/showcase_automl_image_segmentation_online.ipynb\">\n",
    "      <img src=\"https://cloud.google.com/ml-engine/images/colab-logo-32px.png\" alt=\"Colab logo\"> Run in Colab\n",
    "    </a>\n",
    "  </td>\n",
    "  <td>\n",
    "    <a href=\"https://github.com/GoogleCloudPlatform/ai-platform-samples/blob/master/ai-platform-unified/showcase_automl_image_segmentation_online.ipynb\">\n",
    "      <img src=\"https://cloud.google.com/ml-engine/images/github-logo-32px.png\" alt=\"GitHub logo\">\n",
    "      View on GitHub\n",
    "    </a>\n",
    "  </td>\n",
    "</table>\n",
    "<br/><br/><br/>"
   ]
  },
  {
   "cell_type": "markdown",
   "metadata": {
    "id": "overview:automl"
   },
   "source": [
    "## Overview\n",
    "\n",
    "\n",
    "This tutorial demonstrates how to use the AI Platform (Unified) Python client library to create image segmentation models and do online prediction using Google Cloud's [AutoML](https://cloud.google.com/ai-platform-unified/docs/start/automl-users)."
   ]
  },
  {
   "cell_type": "markdown",
   "metadata": {
    "id": "dataset:isg_unknown,isg"
   },
   "source": [
    "### Dataset\n",
    "\n",
    "The dataset used for this tutorial is the [TODO](https://). This dataset does not require any feature engineering. The version of the dataset you will use in this tutorial is stored in a public Cloud Storage bucket."
   ]
  },
  {
   "cell_type": "markdown",
   "metadata": {
    "id": "objective:automl,training,online_prediction"
   },
   "source": [
    "### Objective\n",
    "\n",
    "In this notebook, you will create an AutoML image segmentation model and deploy for online prediction from a Python script using the AI Platform (Unified) client library. You can alternatively create and deploy models using the `gcloud` command-line tool or online using the Google Cloud Console.\n",
    "\n",
    "The steps performed include:\n",
    "\n",
    "- Create an AI Platform (Unified) `Dataset` resource.\n",
    "- Train the model.\n",
    "- View the model evaluation.\n",
    "- Deploy the `Model` resource to a serving `Endpoint` resource.\n",
    "- Make a prediction.\n",
    "- Undeploy the `Model`."
   ]
  },
  {
   "cell_type": "markdown",
   "metadata": {
    "id": "costs"
   },
   "source": [
    "### Costs\n",
    "\n",
    "This tutorial uses billable components of Google Cloud (GCP):\n",
    "\n",
    "* AI Platform (Unified)\n",
    "* Cloud Storage\n",
    "\n",
    "Learn about [Cloud AI Platform\n",
    "pricing](https://cloud.google.com/ai-platform-unified/pricing) and [Cloud Storage\n",
    "pricing](https://cloud.google.com/storage/pricing), and use the [Pricing\n",
    "Calculator](https://cloud.google.com/products/calculator/)\n",
    "to generate a cost estimate based on your projected usage."
   ]
  },
  {
   "cell_type": "markdown",
   "metadata": {
    "id": "install_aip"
   },
   "source": [
    "## Installation\n",
    "\n",
    "Install the latest (preview) version of AI Platform (Unified) client library."
   ]
  },
  {
   "cell_type": "code",
   "execution_count": 2,
   "metadata": {
    "id": "install_aip"
   },
   "outputs": [
    {
     "name": "stdout",
     "output_type": "stream",
     "text": [
      "Error processing line 1 of /home/jupyter/.local/lib/python3.7/site-packages/google-cloud-aiplatform-nspkg.pth:\n",
      "\n",
      "  Traceback (most recent call last):\n",
      "    File \"/opt/conda/lib/python3.7/site.py\", line 168, in addpackage\n",
      "      exec(line)\n",
      "    File \"<string>\", line 1, in <module>\n",
      "    File \"<frozen importlib._bootstrap>\", line 580, in module_from_spec\n",
      "  AttributeError: 'NoneType' object has no attribute 'loader'\n",
      "\n",
      "Remainder of file ignored\n",
      "Error processing line 1 of /opt/conda/lib/python3.7/site-packages/google-cloud-aiplatform-nspkg.pth:\n",
      "\n",
      "  Traceback (most recent call last):\n",
      "    File \"/opt/conda/lib/python3.7/site.py\", line 168, in addpackage\n",
      "      exec(line)\n",
      "    File \"<string>\", line 1, in <module>\n",
      "    File \"<frozen importlib._bootstrap>\", line 580, in module_from_spec\n",
      "  AttributeError: 'NoneType' object has no attribute 'loader'\n",
      "\n",
      "Remainder of file ignored\n",
      "Requirement already up-to-date: google-cloud-aiplatform in ./.local/lib/python3.7/site-packages (0.6.0)\n",
      "Requirement already satisfied, skipping upgrade: google-cloud-storage<2.0.0dev,>=1.26.0 in /opt/conda/lib/python3.7/site-packages (from google-cloud-aiplatform) (1.36.2)\n",
      "Requirement already satisfied, skipping upgrade: proto-plus>=1.10.1 in /opt/conda/lib/python3.7/site-packages (from google-cloud-aiplatform) (1.10.1)\n",
      "Requirement already satisfied, skipping upgrade: google-api-core[grpc]<2.0.0dev,>=1.22.2 in /opt/conda/lib/python3.7/site-packages (from google-cloud-aiplatform) (1.22.4)\n",
      "Requirement already satisfied, skipping upgrade: requests<3.0.0dev,>=2.18.0 in /opt/conda/lib/python3.7/site-packages (from google-cloud-storage<2.0.0dev,>=1.26.0->google-cloud-aiplatform) (2.24.0)\n",
      "Requirement already satisfied, skipping upgrade: google-resumable-media<2.0dev,>=1.2.0 in /opt/conda/lib/python3.7/site-packages (from google-cloud-storage<2.0.0dev,>=1.26.0->google-cloud-aiplatform) (1.2.0)\n",
      "Requirement already satisfied, skipping upgrade: google-cloud-core<2.0dev,>=1.4.1 in /opt/conda/lib/python3.7/site-packages (from google-cloud-storage<2.0.0dev,>=1.26.0->google-cloud-aiplatform) (1.6.0)\n",
      "Requirement already satisfied, skipping upgrade: google-auth<2.0dev,>=1.11.0 in /opt/conda/lib/python3.7/site-packages (from google-cloud-storage<2.0.0dev,>=1.26.0->google-cloud-aiplatform) (1.22.1)\n",
      "Requirement already satisfied, skipping upgrade: protobuf>=3.12.0 in /opt/conda/lib/python3.7/site-packages (from proto-plus>=1.10.1->google-cloud-aiplatform) (3.12.2)\n",
      "Requirement already satisfied, skipping upgrade: googleapis-common-protos<2.0dev,>=1.6.0 in /opt/conda/lib/python3.7/site-packages (from google-api-core[grpc]<2.0.0dev,>=1.22.2->google-cloud-aiplatform) (1.51.0)\n",
      "Requirement already satisfied, skipping upgrade: pytz in /opt/conda/lib/python3.7/site-packages (from google-api-core[grpc]<2.0.0dev,>=1.22.2->google-cloud-aiplatform) (2019.3)\n",
      "Requirement already satisfied, skipping upgrade: six>=1.13.0 in /opt/conda/lib/python3.7/site-packages (from google-api-core[grpc]<2.0.0dev,>=1.22.2->google-cloud-aiplatform) (1.14.0)\n",
      "Requirement already satisfied, skipping upgrade: setuptools>=34.0.0 in /opt/conda/lib/python3.7/site-packages (from google-api-core[grpc]<2.0.0dev,>=1.22.2->google-cloud-aiplatform) (45.2.0.post20200209)\n",
      "Requirement already satisfied, skipping upgrade: grpcio<2.0dev,>=1.29.0; extra == \"grpc\" in ./.local/lib/python3.7/site-packages (from google-api-core[grpc]<2.0.0dev,>=1.22.2->google-cloud-aiplatform) (1.29.0)\n",
      "Requirement already satisfied, skipping upgrade: urllib3!=1.25.0,!=1.25.1,<1.26,>=1.21.1 in /opt/conda/lib/python3.7/site-packages (from requests<3.0.0dev,>=2.18.0->google-cloud-storage<2.0.0dev,>=1.26.0->google-cloud-aiplatform) (1.25.8)\n",
      "Requirement already satisfied, skipping upgrade: idna<3,>=2.5 in /opt/conda/lib/python3.7/site-packages (from requests<3.0.0dev,>=2.18.0->google-cloud-storage<2.0.0dev,>=1.26.0->google-cloud-aiplatform) (2.9)\n",
      "Requirement already satisfied, skipping upgrade: certifi>=2017.4.17 in /opt/conda/lib/python3.7/site-packages (from requests<3.0.0dev,>=2.18.0->google-cloud-storage<2.0.0dev,>=1.26.0->google-cloud-aiplatform) (2020.6.20)\n",
      "Requirement already satisfied, skipping upgrade: chardet<4,>=3.0.2 in /opt/conda/lib/python3.7/site-packages (from requests<3.0.0dev,>=2.18.0->google-cloud-storage<2.0.0dev,>=1.26.0->google-cloud-aiplatform) (3.0.4)\n",
      "Requirement already satisfied, skipping upgrade: google-crc32c<2.0dev,>=1.0; python_version >= \"3.5\" in /opt/conda/lib/python3.7/site-packages (from google-resumable-media<2.0dev,>=1.2.0->google-cloud-storage<2.0.0dev,>=1.26.0->google-cloud-aiplatform) (1.1.2)\n",
      "Requirement already satisfied, skipping upgrade: cachetools<5.0,>=2.0.0 in ./.local/lib/python3.7/site-packages (from google-auth<2.0dev,>=1.11.0->google-cloud-storage<2.0.0dev,>=1.26.0->google-cloud-aiplatform) (3.1.1)\n",
      "Requirement already satisfied, skipping upgrade: pyasn1-modules>=0.2.1 in /opt/conda/lib/python3.7/site-packages (from google-auth<2.0dev,>=1.11.0->google-cloud-storage<2.0.0dev,>=1.26.0->google-cloud-aiplatform) (0.2.8)\n",
      "Requirement already satisfied, skipping upgrade: rsa<5,>=3.1.4; python_version >= \"3.5\" in /opt/conda/lib/python3.7/site-packages (from google-auth<2.0dev,>=1.11.0->google-cloud-storage<2.0.0dev,>=1.26.0->google-cloud-aiplatform) (4.0)\n",
      "Requirement already satisfied, skipping upgrade: cffi>=1.0.0 in /opt/conda/lib/python3.7/site-packages (from google-crc32c<2.0dev,>=1.0; python_version >= \"3.5\"->google-resumable-media<2.0dev,>=1.2.0->google-cloud-storage<2.0.0dev,>=1.26.0->google-cloud-aiplatform) (1.13.2)\n",
      "Requirement already satisfied, skipping upgrade: pyasn1<0.5.0,>=0.4.6 in /opt/conda/lib/python3.7/site-packages (from pyasn1-modules>=0.2.1->google-auth<2.0dev,>=1.11.0->google-cloud-storage<2.0.0dev,>=1.26.0->google-cloud-aiplatform) (0.4.8)\n",
      "Requirement already satisfied, skipping upgrade: pycparser in /opt/conda/lib/python3.7/site-packages (from cffi>=1.0.0->google-crc32c<2.0dev,>=1.0; python_version >= \"3.5\"->google-resumable-media<2.0dev,>=1.2.0->google-cloud-storage<2.0.0dev,>=1.26.0->google-cloud-aiplatform) (2.19)\n",
      "\u001b[33mWARNING: You are using pip version 20.1.1; however, version 21.0.1 is available.\n",
      "You should consider upgrading via the '/opt/conda/bin/python3.7 -m pip install --upgrade pip' command.\u001b[0m\n"
     ]
    }
   ],
   "source": [
    "! pip3 install -U google-cloud-aiplatform --user"
   ]
  },
  {
   "cell_type": "markdown",
   "metadata": {
    "id": "install_storage"
   },
   "source": [
    "Install the latest GA version of *google-cloud-storage* library as well."
   ]
  },
  {
   "cell_type": "code",
   "execution_count": 3,
   "metadata": {
    "id": "install_storage"
   },
   "outputs": [
    {
     "name": "stdout",
     "output_type": "stream",
     "text": [
      "Error processing line 1 of /home/jupyter/.local/lib/python3.7/site-packages/google-cloud-aiplatform-nspkg.pth:\n",
      "\n",
      "  Traceback (most recent call last):\n",
      "    File \"/opt/conda/lib/python3.7/site.py\", line 168, in addpackage\n",
      "      exec(line)\n",
      "    File \"<string>\", line 1, in <module>\n",
      "    File \"<frozen importlib._bootstrap>\", line 580, in module_from_spec\n",
      "  AttributeError: 'NoneType' object has no attribute 'loader'\n",
      "\n",
      "Remainder of file ignored\n",
      "Error processing line 1 of /opt/conda/lib/python3.7/site-packages/google-cloud-aiplatform-nspkg.pth:\n",
      "\n",
      "  Traceback (most recent call last):\n",
      "    File \"/opt/conda/lib/python3.7/site.py\", line 168, in addpackage\n",
      "      exec(line)\n",
      "    File \"<string>\", line 1, in <module>\n",
      "    File \"<frozen importlib._bootstrap>\", line 580, in module_from_spec\n",
      "  AttributeError: 'NoneType' object has no attribute 'loader'\n",
      "\n",
      "Remainder of file ignored\n",
      "Requirement already up-to-date: google-cloud-storage in /opt/conda/lib/python3.7/site-packages (1.36.2)\n",
      "Requirement already satisfied, skipping upgrade: google-cloud-core<2.0dev,>=1.4.1 in /opt/conda/lib/python3.7/site-packages (from google-cloud-storage) (1.6.0)\n",
      "Requirement already satisfied, skipping upgrade: google-resumable-media<2.0dev,>=1.2.0 in /opt/conda/lib/python3.7/site-packages (from google-cloud-storage) (1.2.0)\n",
      "Requirement already satisfied, skipping upgrade: requests<3.0.0dev,>=2.18.0 in /opt/conda/lib/python3.7/site-packages (from google-cloud-storage) (2.24.0)\n",
      "Requirement already satisfied, skipping upgrade: google-auth<2.0dev,>=1.11.0 in /opt/conda/lib/python3.7/site-packages (from google-cloud-storage) (1.22.1)\n",
      "Requirement already satisfied, skipping upgrade: google-api-core<2.0.0dev,>=1.21.0 in /opt/conda/lib/python3.7/site-packages (from google-cloud-core<2.0dev,>=1.4.1->google-cloud-storage) (1.22.4)\n",
      "Requirement already satisfied, skipping upgrade: six>=1.12.0 in /opt/conda/lib/python3.7/site-packages (from google-cloud-core<2.0dev,>=1.4.1->google-cloud-storage) (1.14.0)\n",
      "Requirement already satisfied, skipping upgrade: google-crc32c<2.0dev,>=1.0; python_version >= \"3.5\" in /opt/conda/lib/python3.7/site-packages (from google-resumable-media<2.0dev,>=1.2.0->google-cloud-storage) (1.1.2)\n",
      "Requirement already satisfied, skipping upgrade: chardet<4,>=3.0.2 in /opt/conda/lib/python3.7/site-packages (from requests<3.0.0dev,>=2.18.0->google-cloud-storage) (3.0.4)\n",
      "Requirement already satisfied, skipping upgrade: certifi>=2017.4.17 in /opt/conda/lib/python3.7/site-packages (from requests<3.0.0dev,>=2.18.0->google-cloud-storage) (2020.6.20)\n",
      "Requirement already satisfied, skipping upgrade: urllib3!=1.25.0,!=1.25.1,<1.26,>=1.21.1 in /opt/conda/lib/python3.7/site-packages (from requests<3.0.0dev,>=2.18.0->google-cloud-storage) (1.25.8)\n",
      "Requirement already satisfied, skipping upgrade: idna<3,>=2.5 in /opt/conda/lib/python3.7/site-packages (from requests<3.0.0dev,>=2.18.0->google-cloud-storage) (2.9)\n",
      "Requirement already satisfied, skipping upgrade: setuptools>=40.3.0 in /opt/conda/lib/python3.7/site-packages (from google-auth<2.0dev,>=1.11.0->google-cloud-storage) (45.2.0.post20200209)\n",
      "Requirement already satisfied, skipping upgrade: pyasn1-modules>=0.2.1 in /opt/conda/lib/python3.7/site-packages (from google-auth<2.0dev,>=1.11.0->google-cloud-storage) (0.2.8)\n",
      "Requirement already satisfied, skipping upgrade: rsa<5,>=3.1.4; python_version >= \"3.5\" in /opt/conda/lib/python3.7/site-packages (from google-auth<2.0dev,>=1.11.0->google-cloud-storage) (4.0)\n",
      "Requirement already satisfied, skipping upgrade: cachetools<5.0,>=2.0.0 in ./.local/lib/python3.7/site-packages (from google-auth<2.0dev,>=1.11.0->google-cloud-storage) (3.1.1)\n",
      "Requirement already satisfied, skipping upgrade: pytz in /opt/conda/lib/python3.7/site-packages (from google-api-core<2.0.0dev,>=1.21.0->google-cloud-core<2.0dev,>=1.4.1->google-cloud-storage) (2019.3)\n",
      "Requirement already satisfied, skipping upgrade: protobuf>=3.12.0 in /opt/conda/lib/python3.7/site-packages (from google-api-core<2.0.0dev,>=1.21.0->google-cloud-core<2.0dev,>=1.4.1->google-cloud-storage) (3.12.2)\n",
      "Requirement already satisfied, skipping upgrade: googleapis-common-protos<2.0dev,>=1.6.0 in /opt/conda/lib/python3.7/site-packages (from google-api-core<2.0.0dev,>=1.21.0->google-cloud-core<2.0dev,>=1.4.1->google-cloud-storage) (1.51.0)\n",
      "Requirement already satisfied, skipping upgrade: cffi>=1.0.0 in /opt/conda/lib/python3.7/site-packages (from google-crc32c<2.0dev,>=1.0; python_version >= \"3.5\"->google-resumable-media<2.0dev,>=1.2.0->google-cloud-storage) (1.13.2)\n",
      "Requirement already satisfied, skipping upgrade: pyasn1<0.5.0,>=0.4.6 in /opt/conda/lib/python3.7/site-packages (from pyasn1-modules>=0.2.1->google-auth<2.0dev,>=1.11.0->google-cloud-storage) (0.4.8)\n",
      "Requirement already satisfied, skipping upgrade: pycparser in /opt/conda/lib/python3.7/site-packages (from cffi>=1.0.0->google-crc32c<2.0dev,>=1.0; python_version >= \"3.5\"->google-resumable-media<2.0dev,>=1.2.0->google-cloud-storage) (2.19)\n",
      "\u001b[33mWARNING: You are using pip version 20.1.1; however, version 21.0.1 is available.\n",
      "You should consider upgrading via the '/opt/conda/bin/python3.7 -m pip install --upgrade pip' command.\u001b[0m\n"
     ]
    }
   ],
   "source": [
    "! pip3 install -U google-cloud-storage"
   ]
  },
  {
   "cell_type": "markdown",
   "metadata": {
    "id": "restart"
   },
   "source": [
    "### Restart the kernel\n",
    "\n",
    "Once you've installed the AI Platform (Unified) client library and Google *cloud-storage*, you need to restart the notebook kernel so it can find the packages."
   ]
  },
  {
   "cell_type": "code",
   "execution_count": 4,
   "metadata": {
    "id": "restart"
   },
   "outputs": [],
   "source": [
    "import os\n",
    "if not os.getenv(\"AUTORUN\"):\n",
    "    # Automatically restart kernel after installs\n",
    "    import IPython\n",
    "    app = IPython.Application.instance()\n",
    "    app.kernel.do_shutdown(True)"
   ]
  },
  {
   "cell_type": "markdown",
   "metadata": {
    "id": "before_you_begin"
   },
   "source": [
    "## Before you begin\n",
    "\n",
    "### GPU runtime\n",
    "\n",
    "*Make sure you're running this notebook in a GPU runtime if you have that option. In Colab, select* **Runtime > Change Runtime Type > GPU**\n",
    "\n",
    "### Set up your Google Cloud project\n",
    "\n",
    "**The following steps are required, regardless of your notebook environment.**\n",
    "\n",
    "1. [Select or create a Google Cloud project](https://console.cloud.google.com/cloud-resource-manager). When you first create an account, you get a $300 free credit towards your compute/storage costs.\n",
    "\n",
    "2. [Make sure that billing is enabled for your project.](https://cloud.google.com/billing/docs/how-to/modify-project)\n",
    "\n",
    "3. [Enable the AI Platform APIs and Compute Engine APIs.](https://console.cloud.google.com/flows/enableapi?apiid=ml.googleapis.com,compute_component)\n",
    "\n",
    "4. [The Google Cloud SDK](https://cloud.google.com/sdk) is already installed in AI Platform Notebooks.\n",
    "\n",
    "5. Enter your project ID in the cell below. Then run the  cell to make sure the\n",
    "Cloud SDK uses the right project for all the commands in this notebook.\n",
    "\n",
    "**Note**: Jupyter runs lines prefixed with `!` as shell commands, and it interpolates Python variables prefixed with `$` into these commands."
   ]
  },
  {
   "cell_type": "code",
   "execution_count": 5,
   "metadata": {
    "id": "set_project_id"
   },
   "outputs": [],
   "source": [
    "PROJECT_ID = \"[your-project-id]\" #@param {type:\"string\"}"
   ]
  },
  {
   "cell_type": "code",
   "execution_count": 6,
   "metadata": {
    "id": "autoset_project_id"
   },
   "outputs": [
    {
     "name": "stdout",
     "output_type": "stream",
     "text": [
      "Project ID: andy-1234-221921\n"
     ]
    }
   ],
   "source": [
    "if PROJECT_ID == \"\" or PROJECT_ID is None or PROJECT_ID == \"[your-project-id]\":\n",
    "    # Get your GCP project id from gcloud\n",
    "    shell_output = !gcloud config list --format 'value(core.project)' 2>/dev/null\n",
    "    PROJECT_ID = shell_output[0]\n",
    "    print(\"Project ID:\", PROJECT_ID)"
   ]
  },
  {
   "cell_type": "code",
   "execution_count": 7,
   "metadata": {
    "id": "set_gcloud_project_id"
   },
   "outputs": [
    {
     "name": "stdout",
     "output_type": "stream",
     "text": [
      "Updated property [core/project].\n"
     ]
    }
   ],
   "source": [
    "! gcloud config set project $PROJECT_ID"
   ]
  },
  {
   "cell_type": "markdown",
   "metadata": {
    "id": "region"
   },
   "source": [
    "#### Region\n",
    "\n",
    "You can also change the `REGION` variable, which is used for operations\n",
    "throughout the rest of this notebook.  Below are regions supported for AI Platform (Unified). We recommend that you choose the region closest to you.\n",
    "\n",
    "- Americas: `us-central1`\n",
    "- Europe: `europe-west4`\n",
    "- Asia Pacific: `asia-east1`\n",
    "\n",
    "You may not use a multi-regional bucket for training with AI Platform (Unified). Not all regions provide support for all AI Platform (Unified) services. For the latest support per region, see the [AI Platform (Unified) locations documentation](https://cloud.google.com/ai-platform-unified/docs/general/locations)"
   ]
  },
  {
   "cell_type": "code",
   "execution_count": 8,
   "metadata": {
    "id": "region"
   },
   "outputs": [],
   "source": [
    "REGION = 'us-central1' #@param {type: \"string\"}"
   ]
  },
  {
   "cell_type": "markdown",
   "metadata": {
    "id": "timestamp"
   },
   "source": [
    "#### Timestamp\n",
    "\n",
    "If you are in a live tutorial session, you might be using a shared test account or project. To avoid name collisions between users on resources created, you create a timestamp for each instance session, and append onto the name of resources which will be created in this tutorial."
   ]
  },
  {
   "cell_type": "code",
   "execution_count": 9,
   "metadata": {
    "id": "timestamp"
   },
   "outputs": [],
   "source": [
    "from datetime import datetime\n",
    "\n",
    "TIMESTAMP = datetime.now().strftime(\"%Y%m%d%H%M%S\")"
   ]
  },
  {
   "cell_type": "markdown",
   "metadata": {
    "id": "gcp_authenticate"
   },
   "source": [
    "### Authenticate your Google Cloud account\n",
    "\n",
    "**If you are using AI Platform notebooks**, your environment is already\n",
    "authenticated. Skip this step.\n",
    "\n",
    "*Note: If you are on an AI Platform notebook and run the cell, the cell knows to skip executing the authentication steps.*"
   ]
  },
  {
   "cell_type": "code",
   "execution_count": 10,
   "metadata": {
    "id": "gcp_authenticate"
   },
   "outputs": [],
   "source": [
    "import os\n",
    "import sys\n",
    "\n",
    "# If you are running this notebook in Colab, run this cell and follow the\n",
    "# instructions to authenticate your Google Cloud account. This provides access\n",
    "# to your Cloud Storage bucket and lets you submit training jobs and prediction\n",
    "# requests.\n",
    "\n",
    "# If on AI Platform Notebooks, then don't execute this code\n",
    "if not os.path.exists('/opt/deeplearning/metadata/env_version'):\n",
    "    if 'google.colab' in sys.modules:\n",
    "        from google.colab import auth as google_auth\n",
    "        google_auth.authenticate_user()\n",
    "\n",
    "    # If you are running this tutorial in a notebook locally, replace the string\n",
    "    # below with the path to your service account key and run this cell to\n",
    "    # authenticate your Google Cloud account.\n",
    "    else:\n",
    "        %env GOOGLE_APPLICATION_CREDENTIALS your_path_to_credentials.json\n",
    "\n",
    "    # Log in to your account on Google Cloud\n",
    "    ! gcloud auth login"
   ]
  },
  {
   "cell_type": "markdown",
   "metadata": {
    "id": "setup_vars"
   },
   "source": [
    "### Set up variables\n",
    "\n",
    "Next, set up some variables used throughout the tutorial.\n",
    "### Import libraries and define constants"
   ]
  },
  {
   "cell_type": "markdown",
   "metadata": {
    "id": "import_aip"
   },
   "source": [
    "#### Import AI Platform (Unified) client library\n",
    "\n",
    "Import the AI Platform (Unified) client library into our Python environment."
   ]
  },
  {
   "cell_type": "code",
   "execution_count": 11,
   "metadata": {
    "id": "import_aip"
   },
   "outputs": [],
   "source": [
    "import os\n",
    "import sys\n",
    "import time\n",
    "\n",
    "import google.cloud.aiplatform_v1 as aip\n",
    "\n",
    "from google.protobuf import json_format\n",
    "from google.protobuf.struct_pb2 import Value\n",
    "from google.protobuf.struct_pb2 import Struct\n",
    "from google.protobuf.json_format import MessageToJson\n",
    "from google.protobuf.json_format import ParseDict"
   ]
  },
  {
   "cell_type": "markdown",
   "metadata": {
    "id": "aip_constants"
   },
   "source": [
    "#### AI Platform (Unified) constants\n",
    "\n",
    "Setup up the following constants for AI Platform (Unified):\n",
    "\n",
    "- `API_ENDPOINT`: The AI Platform (Unified) API service endpoint for dataset, model, job, pipeline and endpoint services.\n",
    "- `PARENT`: The AI Platform (Unified) location root path for dataset, model and endpoint resources."
   ]
  },
  {
   "cell_type": "code",
   "execution_count": 12,
   "metadata": {
    "id": "aip_constants"
   },
   "outputs": [],
   "source": [
    "# API service endpoint\n",
    "API_ENDPOINT = \"{0}-aiplatform.googleapis.com\".format(REGION)\n",
    "\n",
    "# AI Platform (Unified) location root path for your dataset, model and endpoint resources\n",
    "PARENT = \"projects/\" + PROJECT_ID + \"/locations/\" + REGION"
   ]
  },
  {
   "cell_type": "markdown",
   "metadata": {
    "id": "automl_constants"
   },
   "source": [
    "#### AutoML constants\n",
    "\n",
    "Set constants unique to AutoML datasets and training:\n",
    "\n",
    "- Dataset Schemas: Tells the `Dataset` resource service which type of dataset it is.\n",
    "- Data Labeling (Annotations) Schemas: Tells the `Dataset` resource service how the data is labeled (annotated).\n",
    "- Dataset Training Schemas: Tells the `Pipeline` resource service the task (e.g., classification) to train the model for."
   ]
  },
  {
   "cell_type": "code",
   "execution_count": 13,
   "metadata": {
    "id": "automl_constants:isg"
   },
   "outputs": [],
   "source": [
    "# Image Dataset type\n",
    "DATA_SCHEMA = 'google-cloud-aiplatform/schema/dataset/metadata/image_1.0.0.yaml'\n",
    "# Image Labeling type\n",
    "LABEL_SCHEMA = \"gs://google-cloud-aiplatform/schema/dataset/ioformat/image_segmentation_io_format_1.0.0.yaml\"\n",
    "# Image Training task\n",
    "TRAINING_SCHEMA = \"gs://google-cloud-aiplatform/schema/trainingjob/definition/automl_image_segmentation_1.0.0.yaml\""
   ]
  },
  {
   "cell_type": "markdown",
   "metadata": {
    "id": "tutorial_start:automl"
   },
   "source": [
    "# Tutorial\n",
    "\n",
    "Now you are ready to start creating your own AutoML image segmentation model."
   ]
  },
  {
   "cell_type": "markdown",
   "metadata": {
    "id": "clients:automl,online_prediction"
   },
   "source": [
    "## Set up clients\n",
    "\n",
    "The AI Platform (Unified) client library works as a client/server model. On your side (the Python script) you will create a client that sends requests and receives responses from the server (AI Platform).\n",
    "\n",
    "You will use different clients in this tutorial for different steps in the workflow. So set them all up upfront.\n",
    "\n",
    "- Dataset Service for `Dataset` resources.\n",
    "- Model Service for `Model` resources.\n",
    "- Pipeline Service for training.\n",
    "- Endpoint Service for deployment.\n",
    "- Prediction Service for serving."
   ]
  },
  {
   "cell_type": "code",
   "execution_count": 14,
   "metadata": {
    "id": "clients:automl,online_prediction"
   },
   "outputs": [
    {
     "name": "stdout",
     "output_type": "stream",
     "text": [
      "('dataset', <google.cloud.aiplatform_v1.services.dataset_service.client.DatasetServiceClient object at 0x7f6e6d7e2350>)\n",
      "('model', <google.cloud.aiplatform_v1.services.model_service.client.ModelServiceClient object at 0x7f6e6d7e2390>)\n",
      "('pipeline', <google.cloud.aiplatform_v1.services.pipeline_service.client.PipelineServiceClient object at 0x7f6e6d7e23d0>)\n",
      "('endpoint', <google.cloud.aiplatform_v1.services.endpoint_service.client.EndpointServiceClient object at 0x7f6e6d7f6250>)\n",
      "('prediction', <google.cloud.aiplatform_v1.services.prediction_service.client.PredictionServiceClient object at 0x7f6e6d800490>)\n"
     ]
    }
   ],
   "source": [
    "# client options same for all services\n",
    "client_options = {\"api_endpoint\": API_ENDPOINT}\n",
    "\n",
    "\n",
    "def create_dataset_client():\n",
    "    client = aip.DatasetServiceClient(\n",
    "        client_options=client_options\n",
    "    )\n",
    "    return client\n",
    "\n",
    "\n",
    "def create_model_client():\n",
    "    client = aip.ModelServiceClient(\n",
    "        client_options=client_options\n",
    "    )\n",
    "    return client\n",
    "\n",
    "\n",
    "def create_pipeline_client():\n",
    "    client = aip.PipelineServiceClient(\n",
    "        client_options=client_options\n",
    "    )\n",
    "    return client\n",
    "\n",
    "\n",
    "def create_endpoint_client():\n",
    "    client = aip.EndpointServiceClient(\n",
    "        client_options=client_options\n",
    "    )\n",
    "    return client\n",
    "\n",
    "\n",
    "def create_prediction_client():\n",
    "    client = aip.PredictionServiceClient(\n",
    "        client_options=client_options\n",
    "    )\n",
    "    return client\n",
    "\n",
    "\n",
    "clients = {}\n",
    "clients['dataset'] = create_dataset_client()\n",
    "clients['model'] = create_model_client()\n",
    "clients['pipeline'] = create_pipeline_client()\n",
    "clients['endpoint'] = create_endpoint_client()\n",
    "clients['prediction'] = create_prediction_client()\n",
    "\n",
    "for client in clients.items():\n",
    "    print(client)"
   ]
  },
  {
   "cell_type": "markdown",
   "metadata": {
    "id": "create_aip_dataset"
   },
   "source": [
    "## Dataset\n",
    "\n",
    "Now that your clients are ready, your first step in training a model is to create a managed dataset instance, and then upload your labeled data to it.\n",
    "\n",
    "### Create `Dataset` resource instance\n",
    "\n",
    "Use the helper function `create_dataset` to create the instance of a `Dataset` resource. This function does the following:\n",
    "\n",
    "1. Uses the dataset client service.\n",
    "2. Creates an AI Platform (Unified) `Dataset` resource (`aip.Dataset`), with the following parameters:\n",
    " - `display_name`: The human-readable name you choose to give it.\n",
    " - `metadata_schema_uri`: The schema for the dataset type.\n",
    "3. Calls the client dataset service method `create_dataset`, with the following parameters:\n",
    " - `parent`: The AI Platform (Unified) location root path for your `Database`, `Model` and `Endpoint` resources.\n",
    " - `dataset`: The AI Platform (Unified) dataset object instance you created.\n",
    "4. The method returns an `operation` object.\n",
    "\n",
    "An `operation` object is how AI Platform (Unified) handles asynchronous calls for long running operations. While this step usually goes fast, when you first use it in your project, there is a longer delay due to provisioning.\n",
    "\n",
    "You can use the `operation` object to get status on the operation (e.g., create `Dataset` resource) or to cancel the operation, by invoking an operation method:\n",
    "\n",
    "| Method      | Description |\n",
    "| ----------- | ----------- |\n",
    "| result()    | Waits for the operation to complete and returns a result object in JSON format.      |\n",
    "| running()   | Returns True/False on whether the operation is still running.        |\n",
    "| done()      | Returns True/False on whether the operation is completed. |\n",
    "| canceled()  | Returns True/False on whether the operation was canceled. |\n",
    "| cancel()    | Cancels the operation (this may take up to 30 seconds). |"
   ]
  },
  {
   "cell_type": "code",
   "execution_count": 15,
   "metadata": {
    "id": "create_aip_dataset"
   },
   "outputs": [
    {
     "name": "stdout",
     "output_type": "stream",
     "text": [
      "Long running operation: projects/759209241365/locations/us-central1/datasets/4875762323140116480/operations/6263800095695699968\n",
      "time: 5.400383949279785\n",
      "response\n",
      " name: projects/759209241365/locations/us-central1/datasets/4875762323140116480\n",
      " display_name: unknown-20210325024109\n",
      " metadata_schema_uri: gs://google-cloud-aiplatform/schema/dataset/metadata/image_1.0.0.yaml\n",
      " metadata: {'dataItemSchemaUri': 'gs://google-cloud-aiplatform/schema/dataset/dataitem/image_1.0.0.yaml'}\n",
      " create_time: None\n",
      " update_time: None\n",
      " etag: \n",
      " labels: {'aiplatform.googleapis.com/dataset_metadata_schema': 'IMAGE'}\n"
     ]
    }
   ],
   "source": [
    "TIMEOUT = 90\n",
    "\n",
    "def create_dataset(name, schema, labels=None, timeout=TIMEOUT):\n",
    "    start_time = time.time()\n",
    "    try:\n",
    "        dataset = aip.Dataset(display_name=name, metadata_schema_uri=\"gs://\" + schema, labels=labels)\n",
    "\n",
    "        operation = clients['dataset'].create_dataset(parent=PARENT, dataset=dataset)\n",
    "        print(\"Long running operation:\", operation.operation.name)\n",
    "        result = operation.result(timeout=TIMEOUT)\n",
    "        print(\"time:\", time.time() - start_time)\n",
    "        print(\"response\")\n",
    "        print(\" name:\", result.name)\n",
    "        print(\" display_name:\", result.display_name)\n",
    "        print(\" metadata_schema_uri:\", result.metadata_schema_uri)\n",
    "        print(\" metadata:\", dict(result.metadata))\n",
    "        print(\" create_time:\", result.create_time)\n",
    "        print(\" update_time:\", result.update_time)\n",
    "        print(\" etag:\", result.etag)\n",
    "        print(\" labels:\", dict(result.labels))\n",
    "        return result\n",
    "    except Exception as e:\n",
    "        print(\"exception:\", e)\n",
    "        return None\n",
    "\n",
    "\n",
    "result = create_dataset(\"unknown-\" + TIMESTAMP, DATA_SCHEMA)"
   ]
  },
  {
   "cell_type": "markdown",
   "metadata": {
    "id": "dataset_id:result"
   },
   "source": [
    "Now save the unique dataset identifier for the `Dataset` resource instance you created."
   ]
  },
  {
   "cell_type": "code",
   "execution_count": 16,
   "metadata": {
    "id": "dataset_id:result"
   },
   "outputs": [
    {
     "name": "stdout",
     "output_type": "stream",
     "text": [
      "projects/759209241365/locations/us-central1/datasets/4875762323140116480\n"
     ]
    }
   ],
   "source": [
    "# The full unique ID for the dataset\n",
    "dataset_id = result.name\n",
    "# The short numeric ID for the dataset\n",
    "dataset_short_id = dataset_id.split('/')[-1]\n",
    "\n",
    "print(dataset_id)"
   ]
  },
  {
   "cell_type": "markdown",
   "metadata": {
    "id": "data_preparation:image,u_dataset"
   },
   "source": [
    "### Data preparation\n",
    "\n",
    "The AI Platform (Unified) `Dataset` resource for images has some requirements for your data:\n",
    "\n",
    "- Images must be stored in a Cloud Storage bucket.\n",
    "- Each image file must be in an image format (PNG, JPEG, BMP, ...).\n",
    "- There must be an index file stored in your Cloud Storage bucket that contains the path and label for each image.\n",
    "- The index file must be either CSV or JSONL."
   ]
  },
  {
   "cell_type": "markdown",
   "metadata": {
    "id": "data_import_format:isg,u_dataset,jsonl"
   },
   "source": [
    "#### JSONL\n",
    "\n",
    "For image segmentation, the JSONL index file has the requirements:\n",
    "\n",
    "- Each data item is a separate JSON object, on a separate line.\n",
    "- The key/value pair `image_gcs_uri` is the Cloud Storage path to the image.\n",
    "- The key/value pair `category_mask_uri`  is the Cloud Storage path to the mask image in PNG format.\n",
    "- The key/value pair `'annotation_spec_colors'` is a list mapping mask colors to a label.\n",
    "  - The key/value pair pair `display_name` is the label for the pixel color mask.\n",
    "  - The key/value pair pair `color` are the RGB normalized pixel values (between 0 and 1) of the mask for the corresponding label.\n",
    "\n",
    "    { 'image_gcs_uri': image, 'segmentation_annotations': { 'category_mask_uri': mask_image, 'annotation_spec_colors' : [ { 'display_name': label, 'color': {\"red\": value, \"blue\", value, \"green\": value} }, ...] }\n",
    "\n",
    "*Note*: The dictionary key fields may alternatively be in camelCase. For example, 'image_gcs_uri' can also be 'imageGcsUri'."
   ]
  },
  {
   "cell_type": "markdown",
   "metadata": {
    "id": "import_file:u_dataset,jsonl"
   },
   "source": [
    "#### Location of Cloud Storage training data.\n",
    "\n",
    "Now set the variable `IMPORT_FILE` to the location of the JSONL index file in Cloud Storage."
   ]
  },
  {
   "cell_type": "code",
   "execution_count": 17,
   "metadata": {
    "id": "import_file:isg_unknown,jsonl,isg"
   },
   "outputs": [],
   "source": [
    "IMPORT_FILE = 'gs://ucaip-test-us-central1/dataset/isg_data.jsonl'"
   ]
  },
  {
   "cell_type": "markdown",
   "metadata": {
    "id": "quick_peek:jsonl"
   },
   "source": [
    "#### Quick peek at your data\n",
    "\n",
    "You will use a version of the Unknown dataset that is stored in a public Cloud Storage bucket, using a JSONL index file.\n",
    "\n",
    "Let's start by doing a quick peek at the data. You count the number of examples by counting the number of objects in a JSONL index file  (`wc -l`) and then peek at the first few rows."
   ]
  },
  {
   "cell_type": "code",
   "execution_count": 18,
   "metadata": {
    "id": "quick_peek:jsonl"
   },
   "outputs": [
    {
     "name": "stdout",
     "output_type": "stream",
     "text": [
      "Number of Examples 150\n",
      "First 10 rows\n",
      "{\"imageGcsUri\": \"gs://ucaip-test-us-central1/dataset/image/isg_data/MjAwN18wMDA0NTI_image.png\", \"segmentationAnnotation\": {\"categoryMaskGcsUri\": \"gs://ucaip-test-us-central1/dataset/image/isg_data/MjAwN18wMDA0NTI_category_color_trivial_.png\", \"annotationSpecColors\": [{\"color\": {\"red\": 0.00392156862745098, \"blue\": 0.00392156862745098, \"green\": 0.00392156862745098}, \"displayName\": \"background\"}, {\"color\": {\"red\": 0.00784313725490196, \"blue\": 0.00784313725490196, \"green\": 0.00784313725490196}, \"displayName\": \"aeroplane\"}, {\"color\": {\"red\": 0.011764705882352941, \"blue\": 0.011764705882352941, \"green\": 0.011764705882352941}, \"displayName\": \"bicycle\"}, {\"color\": {\"red\": 0.01568627450980392, \"blue\": 0.01568627450980392, \"green\": 0.01568627450980392}, \"displayName\": \"bird\"}, {\"color\": {\"red\": 0.0196078431372549, \"blue\": 0.0196078431372549, \"green\": 0.0196078431372549}, \"displayName\": \"boat\"}, {\"color\": {\"red\": 0.023529411764705882, \"blue\": 0.023529411764705882, \"green\": 0.023529411764705882}, \"displayName\": \"bottle\"}, {\"color\": {\"red\": 0.027450980392156862, \"blue\": 0.027450980392156862, \"green\": 0.027450980392156862}, \"displayName\": \"bus\"}, {\"color\": {\"red\": 0.03137254901960784, \"blue\": 0.03137254901960784, \"green\": 0.03137254901960784}, \"displayName\": \"car\"}, {\"color\": {\"red\": 0.03529411764705882, \"blue\": 0.03529411764705882, \"green\": 0.03529411764705882}, \"displayName\": \"cat\"}, {\"color\": {\"red\": 0.0392156862745098, \"blue\": 0.0392156862745098, \"green\": 0.0392156862745098}, \"displayName\": \"chair\"}, {\"color\": {\"red\": 0.043137254901960784, \"blue\": 0.043137254901960784, \"green\": 0.043137254901960784}, \"displayName\": \"cow\"}, {\"color\": {\"red\": 0.047058823529411764, \"blue\": 0.047058823529411764, \"green\": 0.047058823529411764}, \"displayName\": \"diningtable\"}, {\"color\": {\"red\": 0.050980392156862744, \"blue\": 0.050980392156862744, \"green\": 0.050980392156862744}, \"displayName\": \"dog\"}, {\"color\": {\"red\": 0.054901960784313725, \"blue\": 0.054901960784313725, \"green\": 0.054901960784313725}, \"displayName\": \"horse\"}, {\"color\": {\"red\": 0.058823529411764705, \"blue\": 0.058823529411764705, \"green\": 0.058823529411764705}, \"displayName\": \"motorbike\"}, {\"color\": {\"red\": 0.06274509803921569, \"blue\": 0.06274509803921569, \"green\": 0.06274509803921569}, \"displayName\": \"person\"}, {\"color\": {\"red\": 0.06666666666666667, \"blue\": 0.06666666666666667, \"green\": 0.06666666666666667}, \"displayName\": \"pottedplant\"}, {\"color\": {\"red\": 0.07058823529411765, \"blue\": 0.07058823529411765, \"green\": 0.07058823529411765}, \"displayName\": \"sheep\"}, {\"color\": {\"red\": 0.07450980392156863, \"blue\": 0.07450980392156863, \"green\": 0.07450980392156863}, \"displayName\": \"sofa\"}, {\"color\": {\"red\": 0.0784313725490196, \"blue\": 0.0784313725490196, \"green\": 0.0784313725490196}, \"displayName\": \"train\"}, {\"color\": {\"red\": 0.08235294117647059, \"blue\": 0.08235294117647059, \"green\": 0.08235294117647059}, \"displayName\": \"tv\"}]}, \"dataItemResourceLabels\": {\"aiplatform.googleapis.com/ml_use\": \"training\"}}\n",
      "{\"imageGcsUri\": \"gs://ucaip-test-us-central1/dataset/image/isg_data/MjAwN18wMDA0NjQ_image.png\", \"segmentationAnnotation\": {\"categoryMaskGcsUri\": \"gs://ucaip-test-us-central1/dataset/image/isg_data/MjAwN18wMDA0NjQ_category_color_trivial_.png\", \"annotationSpecColors\": [{\"color\": {\"red\": 0.00392156862745098, \"blue\": 0.00392156862745098, \"green\": 0.00392156862745098}, \"displayName\": \"background\"}, {\"color\": {\"red\": 0.00784313725490196, \"blue\": 0.00784313725490196, \"green\": 0.00784313725490196}, \"displayName\": \"aeroplane\"}, {\"color\": {\"red\": 0.011764705882352941, \"blue\": 0.011764705882352941, \"green\": 0.011764705882352941}, \"displayName\": \"bicycle\"}, {\"color\": {\"red\": 0.01568627450980392, \"blue\": 0.01568627450980392, \"green\": 0.01568627450980392}, \"displayName\": \"bird\"}, {\"color\": {\"red\": 0.0196078431372549, \"blue\": 0.0196078431372549, \"green\": 0.0196078431372549}, \"displayName\": \"boat\"}, {\"color\": {\"red\": 0.023529411764705882, \"blue\": 0.023529411764705882, \"green\": 0.023529411764705882}, \"displayName\": \"bottle\"}, {\"color\": {\"red\": 0.027450980392156862, \"blue\": 0.027450980392156862, \"green\": 0.027450980392156862}, \"displayName\": \"bus\"}, {\"color\": {\"red\": 0.03137254901960784, \"blue\": 0.03137254901960784, \"green\": 0.03137254901960784}, \"displayName\": \"car\"}, {\"color\": {\"red\": 0.03529411764705882, \"blue\": 0.03529411764705882, \"green\": 0.03529411764705882}, \"displayName\": \"cat\"}, {\"color\": {\"red\": 0.0392156862745098, \"blue\": 0.0392156862745098, \"green\": 0.0392156862745098}, \"displayName\": \"chair\"}, {\"color\": {\"red\": 0.043137254901960784, \"blue\": 0.043137254901960784, \"green\": 0.043137254901960784}, \"displayName\": \"cow\"}, {\"color\": {\"red\": 0.047058823529411764, \"blue\": 0.047058823529411764, \"green\": 0.047058823529411764}, \"displayName\": \"diningtable\"}, {\"color\": {\"red\": 0.050980392156862744, \"blue\": 0.050980392156862744, \"green\": 0.050980392156862744}, \"displayName\": \"dog\"}, {\"color\": {\"red\": 0.054901960784313725, \"blue\": 0.054901960784313725, \"green\": 0.054901960784313725}, \"displayName\": \"horse\"}, {\"color\": {\"red\": 0.058823529411764705, \"blue\": 0.058823529411764705, \"green\": 0.058823529411764705}, \"displayName\": \"motorbike\"}, {\"color\": {\"red\": 0.06274509803921569, \"blue\": 0.06274509803921569, \"green\": 0.06274509803921569}, \"displayName\": \"person\"}, {\"color\": {\"red\": 0.06666666666666667, \"blue\": 0.06666666666666667, \"green\": 0.06666666666666667}, \"displayName\": \"pottedplant\"}, {\"color\": {\"red\": 0.07058823529411765, \"blue\": 0.07058823529411765, \"green\": 0.07058823529411765}, \"displayName\": \"sheep\"}, {\"color\": {\"red\": 0.07450980392156863, \"blue\": 0.07450980392156863, \"green\": 0.07450980392156863}, \"displayName\": \"sofa\"}, {\"color\": {\"red\": 0.0784313725490196, \"blue\": 0.0784313725490196, \"green\": 0.0784313725490196}, \"displayName\": \"train\"}, {\"color\": {\"red\": 0.08235294117647059, \"blue\": 0.08235294117647059, \"green\": 0.08235294117647059}, \"displayName\": \"tv\"}]}, \"dataItemResourceLabels\": {\"aiplatform.googleapis.com/ml_use\": \"training\"}}\n",
      "{\"imageGcsUri\": \"gs://ucaip-test-us-central1/dataset/image/isg_data/MjAwN18wMDA0ODA_image.png\", \"segmentationAnnotation\": {\"categoryMaskGcsUri\": \"gs://ucaip-test-us-central1/dataset/image/isg_data/MjAwN18wMDA0ODA_category_color_trivial_.png\", \"annotationSpecColors\": [{\"color\": {\"red\": 0.00392156862745098, \"blue\": 0.00392156862745098, \"green\": 0.00392156862745098}, \"displayName\": \"background\"}, {\"color\": {\"red\": 0.00784313725490196, \"blue\": 0.00784313725490196, \"green\": 0.00784313725490196}, \"displayName\": \"aeroplane\"}, {\"color\": {\"red\": 0.011764705882352941, \"blue\": 0.011764705882352941, \"green\": 0.011764705882352941}, \"displayName\": \"bicycle\"}, {\"color\": {\"red\": 0.01568627450980392, \"blue\": 0.01568627450980392, \"green\": 0.01568627450980392}, \"displayName\": \"bird\"}, {\"color\": {\"red\": 0.0196078431372549, \"blue\": 0.0196078431372549, \"green\": 0.0196078431372549}, \"displayName\": \"boat\"}, {\"color\": {\"red\": 0.023529411764705882, \"blue\": 0.023529411764705882, \"green\": 0.023529411764705882}, \"displayName\": \"bottle\"}, {\"color\": {\"red\": 0.027450980392156862, \"blue\": 0.027450980392156862, \"green\": 0.027450980392156862}, \"displayName\": \"bus\"}, {\"color\": {\"red\": 0.03137254901960784, \"blue\": 0.03137254901960784, \"green\": 0.03137254901960784}, \"displayName\": \"car\"}, {\"color\": {\"red\": 0.03529411764705882, \"blue\": 0.03529411764705882, \"green\": 0.03529411764705882}, \"displayName\": \"cat\"}, {\"color\": {\"red\": 0.0392156862745098, \"blue\": 0.0392156862745098, \"green\": 0.0392156862745098}, \"displayName\": \"chair\"}, {\"color\": {\"red\": 0.043137254901960784, \"blue\": 0.043137254901960784, \"green\": 0.043137254901960784}, \"displayName\": \"cow\"}, {\"color\": {\"red\": 0.047058823529411764, \"blue\": 0.047058823529411764, \"green\": 0.047058823529411764}, \"displayName\": \"diningtable\"}, {\"color\": {\"red\": 0.050980392156862744, \"blue\": 0.050980392156862744, \"green\": 0.050980392156862744}, \"displayName\": \"dog\"}, {\"color\": {\"red\": 0.054901960784313725, \"blue\": 0.054901960784313725, \"green\": 0.054901960784313725}, \"displayName\": \"horse\"}, {\"color\": {\"red\": 0.058823529411764705, \"blue\": 0.058823529411764705, \"green\": 0.058823529411764705}, \"displayName\": \"motorbike\"}, {\"color\": {\"red\": 0.06274509803921569, \"blue\": 0.06274509803921569, \"green\": 0.06274509803921569}, \"displayName\": \"person\"}, {\"color\": {\"red\": 0.06666666666666667, \"blue\": 0.06666666666666667, \"green\": 0.06666666666666667}, \"displayName\": \"pottedplant\"}, {\"color\": {\"red\": 0.07058823529411765, \"blue\": 0.07058823529411765, \"green\": 0.07058823529411765}, \"displayName\": \"sheep\"}, {\"color\": {\"red\": 0.07450980392156863, \"blue\": 0.07450980392156863, \"green\": 0.07450980392156863}, \"displayName\": \"sofa\"}, {\"color\": {\"red\": 0.0784313725490196, \"blue\": 0.0784313725490196, \"green\": 0.0784313725490196}, \"displayName\": \"train\"}, {\"color\": {\"red\": 0.08235294117647059, \"blue\": 0.08235294117647059, \"green\": 0.08235294117647059}, \"displayName\": \"tv\"}]}, \"dataItemResourceLabels\": {\"aiplatform.googleapis.com/ml_use\": \"training\"}}\n",
      "{\"imageGcsUri\": \"gs://ucaip-test-us-central1/dataset/image/isg_data/MjAwN18wMDA0OTE_image.png\", \"segmentationAnnotation\": {\"categoryMaskGcsUri\": \"gs://ucaip-test-us-central1/dataset/image/isg_data/MjAwN18wMDA0OTE_category_color_trivial_.png\", \"annotationSpecColors\": [{\"color\": {\"red\": 0.00392156862745098, \"blue\": 0.00392156862745098, \"green\": 0.00392156862745098}, \"displayName\": \"background\"}, {\"color\": {\"red\": 0.00784313725490196, \"blue\": 0.00784313725490196, \"green\": 0.00784313725490196}, \"displayName\": \"aeroplane\"}, {\"color\": {\"red\": 0.011764705882352941, \"blue\": 0.011764705882352941, \"green\": 0.011764705882352941}, \"displayName\": \"bicycle\"}, {\"color\": {\"red\": 0.01568627450980392, \"blue\": 0.01568627450980392, \"green\": 0.01568627450980392}, \"displayName\": \"bird\"}, {\"color\": {\"red\": 0.0196078431372549, \"blue\": 0.0196078431372549, \"green\": 0.0196078431372549}, \"displayName\": \"boat\"}, {\"color\": {\"red\": 0.023529411764705882, \"blue\": 0.023529411764705882, \"green\": 0.023529411764705882}, \"displayName\": \"bottle\"}, {\"color\": {\"red\": 0.027450980392156862, \"blue\": 0.027450980392156862, \"green\": 0.027450980392156862}, \"displayName\": \"bus\"}, {\"color\": {\"red\": 0.03137254901960784, \"blue\": 0.03137254901960784, \"green\": 0.03137254901960784}, \"displayName\": \"car\"}, {\"color\": {\"red\": 0.03529411764705882, \"blue\": 0.03529411764705882, \"green\": 0.03529411764705882}, \"displayName\": \"cat\"}, {\"color\": {\"red\": 0.0392156862745098, \"blue\": 0.0392156862745098, \"green\": 0.0392156862745098}, \"displayName\": \"chair\"}, {\"color\": {\"red\": 0.043137254901960784, \"blue\": 0.043137254901960784, \"green\": 0.043137254901960784}, \"displayName\": \"cow\"}, {\"color\": {\"red\": 0.047058823529411764, \"blue\": 0.047058823529411764, \"green\": 0.047058823529411764}, \"displayName\": \"diningtable\"}, {\"color\": {\"red\": 0.050980392156862744, \"blue\": 0.050980392156862744, \"green\": 0.050980392156862744}, \"displayName\": \"dog\"}, {\"color\": {\"red\": 0.054901960784313725, \"blue\": 0.054901960784313725, \"green\": 0.054901960784313725}, \"displayName\": \"horse\"}, {\"color\": {\"red\": 0.058823529411764705, \"blue\": 0.058823529411764705, \"green\": 0.058823529411764705}, \"displayName\": \"motorbike\"}, {\"color\": {\"red\": 0.06274509803921569, \"blue\": 0.06274509803921569, \"green\": 0.06274509803921569}, \"displayName\": \"person\"}, {\"color\": {\"red\": 0.06666666666666667, \"blue\": 0.06666666666666667, \"green\": 0.06666666666666667}, \"displayName\": \"pottedplant\"}, {\"color\": {\"red\": 0.07058823529411765, \"blue\": 0.07058823529411765, \"green\": 0.07058823529411765}, \"displayName\": \"sheep\"}, {\"color\": {\"red\": 0.07450980392156863, \"blue\": 0.07450980392156863, \"green\": 0.07450980392156863}, \"displayName\": \"sofa\"}, {\"color\": {\"red\": 0.0784313725490196, \"blue\": 0.0784313725490196, \"green\": 0.0784313725490196}, \"displayName\": \"train\"}, {\"color\": {\"red\": 0.08235294117647059, \"blue\": 0.08235294117647059, \"green\": 0.08235294117647059}, \"displayName\": \"tv\"}]}, \"dataItemResourceLabels\": {\"aiplatform.googleapis.com/ml_use\": \"training\"}}\n",
      "{\"imageGcsUri\": \"gs://ucaip-test-us-central1/dataset/image/isg_data/MjAwN18wMDA1MDQ_image.png\", \"segmentationAnnotation\": {\"categoryMaskGcsUri\": \"gs://ucaip-test-us-central1/dataset/image/isg_data/MjAwN18wMDA1MDQ_category_color_trivial_.png\", \"annotationSpecColors\": [{\"color\": {\"red\": 0.00392156862745098, \"blue\": 0.00392156862745098, \"green\": 0.00392156862745098}, \"displayName\": \"background\"}, {\"color\": {\"red\": 0.00784313725490196, \"blue\": 0.00784313725490196, \"green\": 0.00784313725490196}, \"displayName\": \"aeroplane\"}, {\"color\": {\"red\": 0.011764705882352941, \"blue\": 0.011764705882352941, \"green\": 0.011764705882352941}, \"displayName\": \"bicycle\"}, {\"color\": {\"red\": 0.01568627450980392, \"blue\": 0.01568627450980392, \"green\": 0.01568627450980392}, \"displayName\": \"bird\"}, {\"color\": {\"red\": 0.0196078431372549, \"blue\": 0.0196078431372549, \"green\": 0.0196078431372549}, \"displayName\": \"boat\"}, {\"color\": {\"red\": 0.023529411764705882, \"blue\": 0.023529411764705882, \"green\": 0.023529411764705882}, \"displayName\": \"bottle\"}, {\"color\": {\"red\": 0.027450980392156862, \"blue\": 0.027450980392156862, \"green\": 0.027450980392156862}, \"displayName\": \"bus\"}, {\"color\": {\"red\": 0.03137254901960784, \"blue\": 0.03137254901960784, \"green\": 0.03137254901960784}, \"displayName\": \"car\"}, {\"color\": {\"red\": 0.03529411764705882, \"blue\": 0.03529411764705882, \"green\": 0.03529411764705882}, \"displayName\": \"cat\"}, {\"color\": {\"red\": 0.0392156862745098, \"blue\": 0.0392156862745098, \"green\": 0.0392156862745098}, \"displayName\": \"chair\"}, {\"color\": {\"red\": 0.043137254901960784, \"blue\": 0.043137254901960784, \"green\": 0.043137254901960784}, \"displayName\": \"cow\"}, {\"color\": {\"red\": 0.047058823529411764, \"blue\": 0.047058823529411764, \"green\": 0.047058823529411764}, \"displayName\": \"diningtable\"}, {\"color\": {\"red\": 0.050980392156862744, \"blue\": 0.050980392156862744, \"green\": 0.050980392156862744}, \"displayName\": \"dog\"}, {\"color\": {\"red\": 0.054901960784313725, \"blue\": 0.054901960784313725, \"green\": 0.054901960784313725}, \"displayName\": \"horse\"}, {\"color\": {\"red\": 0.058823529411764705, \"blue\": 0.058823529411764705, \"green\": 0.058823529411764705}, \"displayName\": \"motorbike\"}, {\"color\": {\"red\": 0.06274509803921569, \"blue\": 0.06274509803921569, \"green\": 0.06274509803921569}, \"displayName\": \"person\"}, {\"color\": {\"red\": 0.06666666666666667, \"blue\": 0.06666666666666667, \"green\": 0.06666666666666667}, \"displayName\": \"pottedplant\"}, {\"color\": {\"red\": 0.07058823529411765, \"blue\": 0.07058823529411765, \"green\": 0.07058823529411765}, \"displayName\": \"sheep\"}, {\"color\": {\"red\": 0.07450980392156863, \"blue\": 0.07450980392156863, \"green\": 0.07450980392156863}, \"displayName\": \"sofa\"}, {\"color\": {\"red\": 0.0784313725490196, \"blue\": 0.0784313725490196, \"green\": 0.0784313725490196}, \"displayName\": \"train\"}, {\"color\": {\"red\": 0.08235294117647059, \"blue\": 0.08235294117647059, \"green\": 0.08235294117647059}, \"displayName\": \"tv\"}]}, \"dataItemResourceLabels\": {\"aiplatform.googleapis.com/ml_use\": \"training\"}}\n",
      "{\"imageGcsUri\": \"gs://ucaip-test-us-central1/dataset/image/isg_data/MjAwN18wMDA1MTU_image.png\", \"segmentationAnnotation\": {\"categoryMaskGcsUri\": \"gs://ucaip-test-us-central1/dataset/image/isg_data/MjAwN18wMDA1MTU_category_color_trivial_.png\", \"annotationSpecColors\": [{\"color\": {\"red\": 0.00392156862745098, \"blue\": 0.00392156862745098, \"green\": 0.00392156862745098}, \"displayName\": \"background\"}, {\"color\": {\"red\": 0.00784313725490196, \"blue\": 0.00784313725490196, \"green\": 0.00784313725490196}, \"displayName\": \"aeroplane\"}, {\"color\": {\"red\": 0.011764705882352941, \"blue\": 0.011764705882352941, \"green\": 0.011764705882352941}, \"displayName\": \"bicycle\"}, {\"color\": {\"red\": 0.01568627450980392, \"blue\": 0.01568627450980392, \"green\": 0.01568627450980392}, \"displayName\": \"bird\"}, {\"color\": {\"red\": 0.0196078431372549, \"blue\": 0.0196078431372549, \"green\": 0.0196078431372549}, \"displayName\": \"boat\"}, {\"color\": {\"red\": 0.023529411764705882, \"blue\": 0.023529411764705882, \"green\": 0.023529411764705882}, \"displayName\": \"bottle\"}, {\"color\": {\"red\": 0.027450980392156862, \"blue\": 0.027450980392156862, \"green\": 0.027450980392156862}, \"displayName\": \"bus\"}, {\"color\": {\"red\": 0.03137254901960784, \"blue\": 0.03137254901960784, \"green\": 0.03137254901960784}, \"displayName\": \"car\"}, {\"color\": {\"red\": 0.03529411764705882, \"blue\": 0.03529411764705882, \"green\": 0.03529411764705882}, \"displayName\": \"cat\"}, {\"color\": {\"red\": 0.0392156862745098, \"blue\": 0.0392156862745098, \"green\": 0.0392156862745098}, \"displayName\": \"chair\"}, {\"color\": {\"red\": 0.043137254901960784, \"blue\": 0.043137254901960784, \"green\": 0.043137254901960784}, \"displayName\": \"cow\"}, {\"color\": {\"red\": 0.047058823529411764, \"blue\": 0.047058823529411764, \"green\": 0.047058823529411764}, \"displayName\": \"diningtable\"}, {\"color\": {\"red\": 0.050980392156862744, \"blue\": 0.050980392156862744, \"green\": 0.050980392156862744}, \"displayName\": \"dog\"}, {\"color\": {\"red\": 0.054901960784313725, \"blue\": 0.054901960784313725, \"green\": 0.054901960784313725}, \"displayName\": \"horse\"}, {\"color\": {\"red\": 0.058823529411764705, \"blue\": 0.058823529411764705, \"green\": 0.058823529411764705}, \"displayName\": \"motorbike\"}, {\"color\": {\"red\": 0.06274509803921569, \"blue\": 0.06274509803921569, \"green\": 0.06274509803921569}, \"displayName\": \"person\"}, {\"color\": {\"red\": 0.06666666666666667, \"blue\": 0.06666666666666667, \"green\": 0.06666666666666667}, \"displayName\": \"pottedplant\"}, {\"color\": {\"red\": 0.07058823529411765, \"blue\": 0.07058823529411765, \"green\": 0.07058823529411765}, \"displayName\": \"sheep\"}, {\"color\": {\"red\": 0.07450980392156863, \"blue\": 0.07450980392156863, \"green\": 0.07450980392156863}, \"displayName\": \"sofa\"}, {\"color\": {\"red\": 0.0784313725490196, \"blue\": 0.0784313725490196, \"green\": 0.0784313725490196}, \"displayName\": \"train\"}, {\"color\": {\"red\": 0.08235294117647059, \"blue\": 0.08235294117647059, \"green\": 0.08235294117647059}, \"displayName\": \"tv\"}]}, \"dataItemResourceLabels\": {\"aiplatform.googleapis.com/ml_use\": \"training\"}}\n",
      "{\"imageGcsUri\": \"gs://ucaip-test-us-central1/dataset/image/isg_data/MjAwN18wMDA1Mjg_image.png\", \"segmentationAnnotation\": {\"categoryMaskGcsUri\": \"gs://ucaip-test-us-central1/dataset/image/isg_data/MjAwN18wMDA1Mjg_category_color_trivial_.png\", \"annotationSpecColors\": [{\"color\": {\"red\": 0.00392156862745098, \"blue\": 0.00392156862745098, \"green\": 0.00392156862745098}, \"displayName\": \"background\"}, {\"color\": {\"red\": 0.00784313725490196, \"blue\": 0.00784313725490196, \"green\": 0.00784313725490196}, \"displayName\": \"aeroplane\"}, {\"color\": {\"red\": 0.011764705882352941, \"blue\": 0.011764705882352941, \"green\": 0.011764705882352941}, \"displayName\": \"bicycle\"}, {\"color\": {\"red\": 0.01568627450980392, \"blue\": 0.01568627450980392, \"green\": 0.01568627450980392}, \"displayName\": \"bird\"}, {\"color\": {\"red\": 0.0196078431372549, \"blue\": 0.0196078431372549, \"green\": 0.0196078431372549}, \"displayName\": \"boat\"}, {\"color\": {\"red\": 0.023529411764705882, \"blue\": 0.023529411764705882, \"green\": 0.023529411764705882}, \"displayName\": \"bottle\"}, {\"color\": {\"red\": 0.027450980392156862, \"blue\": 0.027450980392156862, \"green\": 0.027450980392156862}, \"displayName\": \"bus\"}, {\"color\": {\"red\": 0.03137254901960784, \"blue\": 0.03137254901960784, \"green\": 0.03137254901960784}, \"displayName\": \"car\"}, {\"color\": {\"red\": 0.03529411764705882, \"blue\": 0.03529411764705882, \"green\": 0.03529411764705882}, \"displayName\": \"cat\"}, {\"color\": {\"red\": 0.0392156862745098, \"blue\": 0.0392156862745098, \"green\": 0.0392156862745098}, \"displayName\": \"chair\"}, {\"color\": {\"red\": 0.043137254901960784, \"blue\": 0.043137254901960784, \"green\": 0.043137254901960784}, \"displayName\": \"cow\"}, {\"color\": {\"red\": 0.047058823529411764, \"blue\": 0.047058823529411764, \"green\": 0.047058823529411764}, \"displayName\": \"diningtable\"}, {\"color\": {\"red\": 0.050980392156862744, \"blue\": 0.050980392156862744, \"green\": 0.050980392156862744}, \"displayName\": \"dog\"}, {\"color\": {\"red\": 0.054901960784313725, \"blue\": 0.054901960784313725, \"green\": 0.054901960784313725}, \"displayName\": \"horse\"}, {\"color\": {\"red\": 0.058823529411764705, \"blue\": 0.058823529411764705, \"green\": 0.058823529411764705}, \"displayName\": \"motorbike\"}, {\"color\": {\"red\": 0.06274509803921569, \"blue\": 0.06274509803921569, \"green\": 0.06274509803921569}, \"displayName\": \"person\"}, {\"color\": {\"red\": 0.06666666666666667, \"blue\": 0.06666666666666667, \"green\": 0.06666666666666667}, \"displayName\": \"pottedplant\"}, {\"color\": {\"red\": 0.07058823529411765, \"blue\": 0.07058823529411765, \"green\": 0.07058823529411765}, \"displayName\": \"sheep\"}, {\"color\": {\"red\": 0.07450980392156863, \"blue\": 0.07450980392156863, \"green\": 0.07450980392156863}, \"displayName\": \"sofa\"}, {\"color\": {\"red\": 0.0784313725490196, \"blue\": 0.0784313725490196, \"green\": 0.0784313725490196}, \"displayName\": \"train\"}, {\"color\": {\"red\": 0.08235294117647059, \"blue\": 0.08235294117647059, \"green\": 0.08235294117647059}, \"displayName\": \"tv\"}]}, \"dataItemResourceLabels\": {\"aiplatform.googleapis.com/ml_use\": \"training\"}}\n",
      "{\"imageGcsUri\": \"gs://ucaip-test-us-central1/dataset/image/isg_data/MjAwN18wMDA1Mjk_image.png\", \"segmentationAnnotation\": {\"categoryMaskGcsUri\": \"gs://ucaip-test-us-central1/dataset/image/isg_data/MjAwN18wMDA1Mjk_category_color_trivial_.png\", \"annotationSpecColors\": [{\"color\": {\"red\": 0.00392156862745098, \"blue\": 0.00392156862745098, \"green\": 0.00392156862745098}, \"displayName\": \"background\"}, {\"color\": {\"red\": 0.00784313725490196, \"blue\": 0.00784313725490196, \"green\": 0.00784313725490196}, \"displayName\": \"aeroplane\"}, {\"color\": {\"red\": 0.011764705882352941, \"blue\": 0.011764705882352941, \"green\": 0.011764705882352941}, \"displayName\": \"bicycle\"}, {\"color\": {\"red\": 0.01568627450980392, \"blue\": 0.01568627450980392, \"green\": 0.01568627450980392}, \"displayName\": \"bird\"}, {\"color\": {\"red\": 0.0196078431372549, \"blue\": 0.0196078431372549, \"green\": 0.0196078431372549}, \"displayName\": \"boat\"}, {\"color\": {\"red\": 0.023529411764705882, \"blue\": 0.023529411764705882, \"green\": 0.023529411764705882}, \"displayName\": \"bottle\"}, {\"color\": {\"red\": 0.027450980392156862, \"blue\": 0.027450980392156862, \"green\": 0.027450980392156862}, \"displayName\": \"bus\"}, {\"color\": {\"red\": 0.03137254901960784, \"blue\": 0.03137254901960784, \"green\": 0.03137254901960784}, \"displayName\": \"car\"}, {\"color\": {\"red\": 0.03529411764705882, \"blue\": 0.03529411764705882, \"green\": 0.03529411764705882}, \"displayName\": \"cat\"}, {\"color\": {\"red\": 0.0392156862745098, \"blue\": 0.0392156862745098, \"green\": 0.0392156862745098}, \"displayName\": \"chair\"}, {\"color\": {\"red\": 0.043137254901960784, \"blue\": 0.043137254901960784, \"green\": 0.043137254901960784}, \"displayName\": \"cow\"}, {\"color\": {\"red\": 0.047058823529411764, \"blue\": 0.047058823529411764, \"green\": 0.047058823529411764}, \"displayName\": \"diningtable\"}, {\"color\": {\"red\": 0.050980392156862744, \"blue\": 0.050980392156862744, \"green\": 0.050980392156862744}, \"displayName\": \"dog\"}, {\"color\": {\"red\": 0.054901960784313725, \"blue\": 0.054901960784313725, \"green\": 0.054901960784313725}, \"displayName\": \"horse\"}, {\"color\": {\"red\": 0.058823529411764705, \"blue\": 0.058823529411764705, \"green\": 0.058823529411764705}, \"displayName\": \"motorbike\"}, {\"color\": {\"red\": 0.06274509803921569, \"blue\": 0.06274509803921569, \"green\": 0.06274509803921569}, \"displayName\": \"person\"}, {\"color\": {\"red\": 0.06666666666666667, \"blue\": 0.06666666666666667, \"green\": 0.06666666666666667}, \"displayName\": \"pottedplant\"}, {\"color\": {\"red\": 0.07058823529411765, \"blue\": 0.07058823529411765, \"green\": 0.07058823529411765}, \"displayName\": \"sheep\"}, {\"color\": {\"red\": 0.07450980392156863, \"blue\": 0.07450980392156863, \"green\": 0.07450980392156863}, \"displayName\": \"sofa\"}, {\"color\": {\"red\": 0.0784313725490196, \"blue\": 0.0784313725490196, \"green\": 0.0784313725490196}, \"displayName\": \"train\"}, {\"color\": {\"red\": 0.08235294117647059, \"blue\": 0.08235294117647059, \"green\": 0.08235294117647059}, \"displayName\": \"tv\"}]}, \"dataItemResourceLabels\": {\"aiplatform.googleapis.com/ml_use\": \"training\"}}\n",
      "{\"imageGcsUri\": \"gs://ucaip-test-us-central1/dataset/image/isg_data/MjAwN18wMDA1NDk_image.png\", \"segmentationAnnotation\": {\"categoryMaskGcsUri\": \"gs://ucaip-test-us-central1/dataset/image/isg_data/MjAwN18wMDA1NDk_category_color_trivial_.png\", \"annotationSpecColors\": [{\"color\": {\"red\": 0.00392156862745098, \"blue\": 0.00392156862745098, \"green\": 0.00392156862745098}, \"displayName\": \"background\"}, {\"color\": {\"red\": 0.00784313725490196, \"blue\": 0.00784313725490196, \"green\": 0.00784313725490196}, \"displayName\": \"aeroplane\"}, {\"color\": {\"red\": 0.011764705882352941, \"blue\": 0.011764705882352941, \"green\": 0.011764705882352941}, \"displayName\": \"bicycle\"}, {\"color\": {\"red\": 0.01568627450980392, \"blue\": 0.01568627450980392, \"green\": 0.01568627450980392}, \"displayName\": \"bird\"}, {\"color\": {\"red\": 0.0196078431372549, \"blue\": 0.0196078431372549, \"green\": 0.0196078431372549}, \"displayName\": \"boat\"}, {\"color\": {\"red\": 0.023529411764705882, \"blue\": 0.023529411764705882, \"green\": 0.023529411764705882}, \"displayName\": \"bottle\"}, {\"color\": {\"red\": 0.027450980392156862, \"blue\": 0.027450980392156862, \"green\": 0.027450980392156862}, \"displayName\": \"bus\"}, {\"color\": {\"red\": 0.03137254901960784, \"blue\": 0.03137254901960784, \"green\": 0.03137254901960784}, \"displayName\": \"car\"}, {\"color\": {\"red\": 0.03529411764705882, \"blue\": 0.03529411764705882, \"green\": 0.03529411764705882}, \"displayName\": \"cat\"}, {\"color\": {\"red\": 0.0392156862745098, \"blue\": 0.0392156862745098, \"green\": 0.0392156862745098}, \"displayName\": \"chair\"}, {\"color\": {\"red\": 0.043137254901960784, \"blue\": 0.043137254901960784, \"green\": 0.043137254901960784}, \"displayName\": \"cow\"}, {\"color\": {\"red\": 0.047058823529411764, \"blue\": 0.047058823529411764, \"green\": 0.047058823529411764}, \"displayName\": \"diningtable\"}, {\"color\": {\"red\": 0.050980392156862744, \"blue\": 0.050980392156862744, \"green\": 0.050980392156862744}, \"displayName\": \"dog\"}, {\"color\": {\"red\": 0.054901960784313725, \"blue\": 0.054901960784313725, \"green\": 0.054901960784313725}, \"displayName\": \"horse\"}, {\"color\": {\"red\": 0.058823529411764705, \"blue\": 0.058823529411764705, \"green\": 0.058823529411764705}, \"displayName\": \"motorbike\"}, {\"color\": {\"red\": 0.06274509803921569, \"blue\": 0.06274509803921569, \"green\": 0.06274509803921569}, \"displayName\": \"person\"}, {\"color\": {\"red\": 0.06666666666666667, \"blue\": 0.06666666666666667, \"green\": 0.06666666666666667}, \"displayName\": \"pottedplant\"}, {\"color\": {\"red\": 0.07058823529411765, \"blue\": 0.07058823529411765, \"green\": 0.07058823529411765}, \"displayName\": \"sheep\"}, {\"color\": {\"red\": 0.07450980392156863, \"blue\": 0.07450980392156863, \"green\": 0.07450980392156863}, \"displayName\": \"sofa\"}, {\"color\": {\"red\": 0.0784313725490196, \"blue\": 0.0784313725490196, \"green\": 0.0784313725490196}, \"displayName\": \"train\"}, {\"color\": {\"red\": 0.08235294117647059, \"blue\": 0.08235294117647059, \"green\": 0.08235294117647059}, \"displayName\": \"tv\"}]}, \"dataItemResourceLabels\": {\"aiplatform.googleapis.com/ml_use\": \"training\"}}\n",
      "{\"imageGcsUri\": \"gs://ucaip-test-us-central1/dataset/image/isg_data/MjAwN18wMDA1NTk_image.png\", \"segmentationAnnotation\": {\"categoryMaskGcsUri\": \"gs://ucaip-test-us-central1/dataset/image/isg_data/MjAwN18wMDA1NTk_category_color_trivial_.png\", \"annotationSpecColors\": [{\"color\": {\"red\": 0.00392156862745098, \"blue\": 0.00392156862745098, \"green\": 0.00392156862745098}, \"displayName\": \"background\"}, {\"color\": {\"red\": 0.00784313725490196, \"blue\": 0.00784313725490196, \"green\": 0.00784313725490196}, \"displayName\": \"aeroplane\"}, {\"color\": {\"red\": 0.011764705882352941, \"blue\": 0.011764705882352941, \"green\": 0.011764705882352941}, \"displayName\": \"bicycle\"}, {\"color\": {\"red\": 0.01568627450980392, \"blue\": 0.01568627450980392, \"green\": 0.01568627450980392}, \"displayName\": \"bird\"}, {\"color\": {\"red\": 0.0196078431372549, \"blue\": 0.0196078431372549, \"green\": 0.0196078431372549}, \"displayName\": \"boat\"}, {\"color\": {\"red\": 0.023529411764705882, \"blue\": 0.023529411764705882, \"green\": 0.023529411764705882}, \"displayName\": \"bottle\"}, {\"color\": {\"red\": 0.027450980392156862, \"blue\": 0.027450980392156862, \"green\": 0.027450980392156862}, \"displayName\": \"bus\"}, {\"color\": {\"red\": 0.03137254901960784, \"blue\": 0.03137254901960784, \"green\": 0.03137254901960784}, \"displayName\": \"car\"}, {\"color\": {\"red\": 0.03529411764705882, \"blue\": 0.03529411764705882, \"green\": 0.03529411764705882}, \"displayName\": \"cat\"}, {\"color\": {\"red\": 0.0392156862745098, \"blue\": 0.0392156862745098, \"green\": 0.0392156862745098}, \"displayName\": \"chair\"}, {\"color\": {\"red\": 0.043137254901960784, \"blue\": 0.043137254901960784, \"green\": 0.043137254901960784}, \"displayName\": \"cow\"}, {\"color\": {\"red\": 0.047058823529411764, \"blue\": 0.047058823529411764, \"green\": 0.047058823529411764}, \"displayName\": \"diningtable\"}, {\"color\": {\"red\": 0.050980392156862744, \"blue\": 0.050980392156862744, \"green\": 0.050980392156862744}, \"displayName\": \"dog\"}, {\"color\": {\"red\": 0.054901960784313725, \"blue\": 0.054901960784313725, \"green\": 0.054901960784313725}, \"displayName\": \"horse\"}, {\"color\": {\"red\": 0.058823529411764705, \"blue\": 0.058823529411764705, \"green\": 0.058823529411764705}, \"displayName\": \"motorbike\"}, {\"color\": {\"red\": 0.06274509803921569, \"blue\": 0.06274509803921569, \"green\": 0.06274509803921569}, \"displayName\": \"person\"}, {\"color\": {\"red\": 0.06666666666666667, \"blue\": 0.06666666666666667, \"green\": 0.06666666666666667}, \"displayName\": \"pottedplant\"}, {\"color\": {\"red\": 0.07058823529411765, \"blue\": 0.07058823529411765, \"green\": 0.07058823529411765}, \"displayName\": \"sheep\"}, {\"color\": {\"red\": 0.07450980392156863, \"blue\": 0.07450980392156863, \"green\": 0.07450980392156863}, \"displayName\": \"sofa\"}, {\"color\": {\"red\": 0.0784313725490196, \"blue\": 0.0784313725490196, \"green\": 0.0784313725490196}, \"displayName\": \"train\"}, {\"color\": {\"red\": 0.08235294117647059, \"blue\": 0.08235294117647059, \"green\": 0.08235294117647059}, \"displayName\": \"tv\"}]}, \"dataItemResourceLabels\": {\"aiplatform.googleapis.com/ml_use\": \"training\"}}\n"
     ]
    }
   ],
   "source": [
    "if 'IMPORT_FILES' in globals():\n",
    "    FILE = IMPORT_FILES[0]\n",
    "else:\n",
    "    FILE = IMPORT_FILE\n",
    "\n",
    "count = ! gsutil cat $FILE | wc -l\n",
    "print(\"Number of Examples\", int(count[0]))\n",
    "\n",
    "print(\"First 10 rows\")\n",
    "! gsutil cat $FILE | head"
   ]
  },
  {
   "cell_type": "markdown",
   "metadata": {
    "id": "import_data"
   },
   "source": [
    "### Import data\n",
    "\n",
    "Now, import the data into your AI Platform (Unified) Dataset resource. Use this helper function `import_data` to import the data. The function does the following:\n",
    "\n",
    "- Uses the `Dataset` client.\n",
    "- Calls the client method `import_data`, with the following parameters:\n",
    " - `name`: The human readable name you give to the `Dataset` resource (e.g., unknown).\n",
    " - `import_configs`: The import configuration.\n",
    "\n",
    "- `import_configs`: A Python list containing a dictionary, with the key/value entries:\n",
    " - `gcs_sources`: A list of URIs to the paths of the one or more index files.\n",
    " - `import_schema_uri`: The schema identifying the labeling type.\n",
    "\n",
    "The `import_data()` method returns a long running `operation` object. This will take a few minutes to complete. If you are in a live tutorial, this would be a good time to ask questions, or take a personal break."
   ]
  },
  {
   "cell_type": "code",
   "execution_count": 19,
   "metadata": {
    "id": "import_data"
   },
   "outputs": [
    {
     "name": "stdout",
     "output_type": "stream",
     "text": [
      "dataset: projects/759209241365/locations/us-central1/datasets/4875762323140116480\n",
      "Long running operation: projects/759209241365/locations/us-central1/datasets/4875762323140116480/operations/3521107922627067904\n",
      "result: \n",
      "time: 312 secs\n",
      "error: None\n",
      "meta : generic_metadata {\n",
      "  create_time {\n",
      "    seconds: 1616640077\n",
      "    nanos: 292801000\n",
      "  }\n",
      "  update_time {\n",
      "    seconds: 1616640338\n",
      "    nanos: 639627000\n",
      "  }\n",
      "}\n",
      "\n",
      "after: running: False done: True cancelled: False\n"
     ]
    },
    {
     "data": {
      "text/plain": [
       "<google.api_core.operation.Operation at 0x7f6e6cf50d50>"
      ]
     },
     "execution_count": 19,
     "metadata": {},
     "output_type": "execute_result"
    }
   ],
   "source": [
    "def import_data(dataset, gcs_sources, schema):\n",
    "    config = [{\n",
    "        'gcs_source': {'uris': gcs_sources},\n",
    "        'import_schema_uri': schema\n",
    "    }]\n",
    "    print(\"dataset:\", dataset_id)\n",
    "    start_time = time.time()\n",
    "    try:\n",
    "        operation = clients['dataset'].import_data(name=dataset_id, import_configs=config)\n",
    "        print(\"Long running operation:\", operation.operation.name)\n",
    "\n",
    "        result = operation.result()\n",
    "        print(\"result:\", result)\n",
    "        print(\"time:\", int(time.time() - start_time), \"secs\")\n",
    "        print(\"error:\", operation.exception())\n",
    "        print(\"meta :\", operation.metadata)\n",
    "        print(\"after: running:\", operation.running(), \"done:\", operation.done(), \"cancelled:\", operation.cancelled())\n",
    "\n",
    "        return operation\n",
    "    except Exception as e:\n",
    "        print(\"exception:\", e)\n",
    "        return None\n",
    "\n",
    "\n",
    "import_data(dataset_id, [IMPORT_FILE], LABEL_SCHEMA)"
   ]
  },
  {
   "cell_type": "markdown",
   "metadata": {
    "id": "train_automl_model"
   },
   "source": [
    "## Train the model\n",
    "\n",
    "Now train an AutoML image segmentation model using your AI Platform (Unified) `Dataset` resource. To train the model, do the following steps:\n",
    "\n",
    "1. Create an AI Platform (Unified) training pipeline for the `Dataset` resource.\n",
    "2. Execute the pipeline to start the training."
   ]
  },
  {
   "cell_type": "markdown",
   "metadata": {
    "id": "create_pipeline:automl"
   },
   "source": [
    "### Create a training pipeline\n",
    "\n",
    "You may ask, what do we use a pipeline for? You typically use pipelines when the job (such as training) has multiple steps, generally in sequential order: do step A, do step B, etc. By putting the steps into a pipeline, we gain the benefits of:\n",
    "\n",
    "1. Being reusable for subsequent training jobs.\n",
    "2. Can be containerized and ran as a batch job.\n",
    "3. Can be distributed.\n",
    "4. All the steps are associated with the same pipeline job for tracking progress.\n",
    "\n",
    "Use this helper function `create_pipeline`, which takes the following parameters:\n",
    "\n",
    "- `pipeline_name`: A human readable name for the pipeline job.\n",
    "- `model_name`: A human readable name for the model.\n",
    "- `dataset`: The AI Platform (Unified) fully qualified dataset identifier.\n",
    "- `schema`: The dataset labeling (annotation) training schema.\n",
    "- `task`: A dictionary describing the requirements for the training job.\n",
    "\n",
    "The helper function calls the `Pipeline` client service'smethod `create_pipeline`, which takes the following parameters:\n",
    "\n",
    "- `parent`: The AI Platform (Unified) location root path for your `Dataset`, `Model` and `Endpoint` resources.\n",
    "- `training_pipeline`: the full specification for the pipeline training job.\n",
    "\n",
    "Let's look now deeper into the *minimal* requirements for constructing a `training_pipeline` specification:\n",
    "\n",
    "- `display_name`: A human readable name for the pipeline job.\n",
    "- `training_task_definition`: The dataset labeling (annotation) training schema.\n",
    "- `training_task_inputs`: A dictionary describing the requirements for the training job.\n",
    "- `model_to_upload`: A human readable name for the model.\n",
    "- `input_data_config`: The dataset specification.\n",
    " - `dataset_id`: The AI Platform (Unified) dataset identifier only (non-fully qualified) -- this is the last part of the fully-qualified identifier.\n",
    " - `fraction_split`: If specified, the percentages of the dataset to use for training, test and validation. Otherwise, the percentages are automatically selected by AutoML."
   ]
  },
  {
   "cell_type": "code",
   "execution_count": 20,
   "metadata": {
    "id": "create_pipeline:automl"
   },
   "outputs": [],
   "source": [
    "def create_pipeline(pipeline_name, model_name, dataset, schema, task):\n",
    "\n",
    "    dataset_id = dataset.split('/')[-1]\n",
    "\n",
    "    input_config = {'dataset_id': dataset_id,\n",
    "                    'fraction_split': {\n",
    "                        'training_fraction': 0.8,\n",
    "                        'validation_fraction': 0.1,\n",
    "                        'test_fraction': 0.1\n",
    "                    }}\n",
    "\n",
    "    training_pipeline = {\n",
    "        \"display_name\": pipeline_name,\n",
    "        \"training_task_definition\": schema,\n",
    "        \"training_task_inputs\": task,\n",
    "        \"input_data_config\": input_config,\n",
    "        \"model_to_upload\": {\"display_name\": model_name},\n",
    "    }\n",
    "\n",
    "    try:\n",
    "        pipeline = clients['pipeline'].create_training_pipeline(parent=PARENT, training_pipeline=training_pipeline)\n",
    "        print(pipeline)\n",
    "    except Exception as e:\n",
    "        print(\"exception:\", e)\n",
    "        return None\n",
    "    return pipeline"
   ]
  },
  {
   "cell_type": "markdown",
   "metadata": {
    "id": "task_requirements:automl,isg"
   },
   "source": [
    "### Construct the task requirements\n",
    "\n",
    "Next, construct the task requirements. Unlike other parameters which take a Python (JSON-like) dictionary, the `task` field takes a Google protobuf Struct, which is very similar to a Python dictionary. Use the `json_format.ParseDict` method for the conversion.\n",
    "\n",
    "The minimal fields you need to specify are:\n",
    "\n",
    "- `budget_milli_node_hours`: The maximum time to budget (billed) for training the model, where 1000 = 1 hour.\n",
    "- `model_type`: The type of deployed model, ex. CLOUD_LOW_ACCURACY_1 or CLOUD_HIGH_ACCURACY_1.\n",
    "\n",
    "Finally, create the pipeline by calling the helper function `create_pipeline`, which returns an instance of a training pipeline object."
   ]
  },
  {
   "cell_type": "code",
   "execution_count": 21,
   "metadata": {
    "id": "task_requirements:automl,isg"
   },
   "outputs": [
    {
     "name": "stdout",
     "output_type": "stream",
     "text": [
      "name: \"projects/759209241365/locations/us-central1/trainingPipelines/5352748059455389696\"\n",
      "display_name: \"unknown_pipe-20210325024109\"\n",
      "input_data_config {\n",
      "  dataset_id: \"4875762323140116480\"\n",
      "  fraction_split {\n",
      "    training_fraction: 0.8\n",
      "    validation_fraction: 0.1\n",
      "    test_fraction: 0.1\n",
      "  }\n",
      "}\n",
      "training_task_definition: \"gs://google-cloud-aiplatform/schema/trainingjob/definition/automl_image_segmentation_1.0.0.yaml\"\n",
      "training_task_inputs {\n",
      "  struct_value {\n",
      "    fields {\n",
      "      key: \"budgetMilliNodeHours\"\n",
      "      value {\n",
      "        string_value: \"2000\"\n",
      "      }\n",
      "    }\n",
      "    fields {\n",
      "      key: \"modelType\"\n",
      "      value {\n",
      "        string_value: \"CLOUD_LOW_ACCURACY_1\"\n",
      "      }\n",
      "    }\n",
      "  }\n",
      "}\n",
      "model_to_upload {\n",
      "  display_name: \"unknown_model-20210325024109\"\n",
      "}\n",
      "state: PIPELINE_STATE_PENDING\n",
      "create_time {\n",
      "  seconds: 1616640389\n",
      "  nanos: 937190000\n",
      "}\n",
      "update_time {\n",
      "  seconds: 1616640389\n",
      "  nanos: 937190000\n",
      "}\n",
      "\n"
     ]
    }
   ],
   "source": [
    "PIPE_NAME = \"unknown_pipe-\" + TIMESTAMP\n",
    "MODEL_NAME = \"unknown_model-\" + TIMESTAMP\n",
    "\n",
    "task = json_format.ParseDict({'budget_milli_node_hours': 2000,\n",
    "                              'model_type': \"CLOUD_LOW_ACCURACY_1\"\n",
    "                             }, Value())\n",
    "\n",
    "response = create_pipeline(PIPE_NAME, MODEL_NAME, dataset_id, TRAINING_SCHEMA, task)"
   ]
  },
  {
   "cell_type": "markdown",
   "metadata": {
    "id": "pipeline_id:response"
   },
   "source": [
    "Now save the unique identifier of the training pipeline you created."
   ]
  },
  {
   "cell_type": "code",
   "execution_count": 22,
   "metadata": {
    "id": "pipeline_id:response"
   },
   "outputs": [
    {
     "name": "stdout",
     "output_type": "stream",
     "text": [
      "projects/759209241365/locations/us-central1/trainingPipelines/5352748059455389696\n"
     ]
    }
   ],
   "source": [
    "# The full unique ID for the pipeline\n",
    "pipeline_id = response.name\n",
    "# The short numeric ID for the pipeline\n",
    "pipeline_short_id = pipeline_id.split('/')[-1]\n",
    "\n",
    "print(pipeline_id)"
   ]
  },
  {
   "cell_type": "markdown",
   "metadata": {
    "id": "get_training_pipeline"
   },
   "source": [
    "### Get information on a training pipeline\n",
    "\n",
    "Now get pipeline information for just this training pipeline instance. The helper function  gets the job information for just this job by calling the the job client service's `get_training_pipeline` method, with the following parameter:\n",
    "\n",
    "- `name`: The AI Platform (Unified) fully qualified pipeline identifier.\n",
    "\n",
    "When the model is done training, the pipeline state will be `PIPELINE_STATE_SUCCEEDED`."
   ]
  },
  {
   "cell_type": "code",
   "execution_count": 23,
   "metadata": {
    "id": "get_training_pipeline"
   },
   "outputs": [
    {
     "name": "stdout",
     "output_type": "stream",
     "text": [
      "pipeline\n",
      " name: projects/759209241365/locations/us-central1/trainingPipelines/5352748059455389696\n",
      " display_name: unknown_pipe-20210325024109\n",
      " state: PipelineState.PIPELINE_STATE_PENDING\n",
      " training_task_definition: gs://google-cloud-aiplatform/schema/trainingjob/definition/automl_image_segmentation_1.0.0.yaml\n",
      " training_task_inputs: {'modelType': 'CLOUD_LOW_ACCURACY_1', 'budgetMilliNodeHours': '2000'}\n",
      " create_time: 2021-03-25 02:46:29.937190+00:00\n",
      " start_time: None\n",
      " end_time: None\n",
      " update_time: 2021-03-25 02:46:29.937190+00:00\n",
      " labels: {}\n"
     ]
    }
   ],
   "source": [
    "def get_training_pipeline(name, silent=False):\n",
    "    response = clients['pipeline'].get_training_pipeline(name=name)\n",
    "    if silent:\n",
    "        return response\n",
    "\n",
    "    print(\"pipeline\")\n",
    "    print(\" name:\", response.name)\n",
    "    print(\" display_name:\", response.display_name)\n",
    "    print(\" state:\", response.state)\n",
    "    print(\" training_task_definition:\", response.training_task_definition)\n",
    "    print(\" training_task_inputs:\", dict(response.training_task_inputs))\n",
    "    print(\" create_time:\", response.create_time)\n",
    "    print(\" start_time:\", response.start_time)\n",
    "    print(\" end_time:\", response.end_time)\n",
    "    print(\" update_time:\", response.update_time)\n",
    "    print(\" labels:\", dict(response.labels))\n",
    "    return response\n",
    "\n",
    "\n",
    "response = get_training_pipeline(pipeline_id)"
   ]
  },
  {
   "cell_type": "markdown",
   "metadata": {
    "id": "wait_training_complete"
   },
   "source": [
    "# Deployment\n",
    "\n",
    "Training the above model may take upwards of 30 minutes time.\n",
    "\n",
    "Once your model is done training, you can calculate the actual time it took to train the model by subtracting `end_time` from `start_time`. For your model, you will need to know the fully qualified AI Platform (Unified) Model resource identifier, which the pipeline service assigned to it. You can get this from the returned pipeline instance as the field `model_to_deploy.name`."
   ]
  },
  {
   "cell_type": "code",
   "execution_count": 24,
   "metadata": {
    "id": "wait_training_complete"
   },
   "outputs": [
    {
     "name": "stdout",
     "output_type": "stream",
     "text": [
      "Training job has not completed: PipelineState.PIPELINE_STATE_PENDING\n",
      "Training job has not completed: PipelineState.PIPELINE_STATE_RUNNING\n",
      "Training job has not completed: PipelineState.PIPELINE_STATE_RUNNING\n",
      "Training job has not completed: PipelineState.PIPELINE_STATE_RUNNING\n",
      "Training job has not completed: PipelineState.PIPELINE_STATE_RUNNING\n",
      "Training job has not completed: PipelineState.PIPELINE_STATE_RUNNING\n",
      "Training job has not completed: PipelineState.PIPELINE_STATE_RUNNING\n",
      "Training job has not completed: PipelineState.PIPELINE_STATE_RUNNING\n",
      "Training job has not completed: PipelineState.PIPELINE_STATE_RUNNING\n",
      "Training job has not completed: PipelineState.PIPELINE_STATE_RUNNING\n",
      "Training job has not completed: PipelineState.PIPELINE_STATE_RUNNING\n",
      "Training job has not completed: PipelineState.PIPELINE_STATE_RUNNING\n",
      "Training job has not completed: PipelineState.PIPELINE_STATE_RUNNING\n",
      "Training job has not completed: PipelineState.PIPELINE_STATE_RUNNING\n",
      "Training job has not completed: PipelineState.PIPELINE_STATE_RUNNING\n",
      "Training job has not completed: PipelineState.PIPELINE_STATE_RUNNING\n",
      "Training job has not completed: PipelineState.PIPELINE_STATE_RUNNING\n",
      "Training job has not completed: PipelineState.PIPELINE_STATE_RUNNING\n",
      "Training job has not completed: PipelineState.PIPELINE_STATE_RUNNING\n",
      "Training Time: 0:23:57.466591\n",
      "model to deploy: projects/759209241365/locations/us-central1/models/5366408391918878720\n"
     ]
    }
   ],
   "source": [
    "while True:\n",
    "    response = get_training_pipeline(pipeline_id, True)\n",
    "    if response.state != aip.PipelineState.PIPELINE_STATE_SUCCEEDED:\n",
    "        print(\"Training job has not completed:\", response.state)\n",
    "        model_to_deploy_id = None\n",
    "        if response.state == aip.PipelineState.PIPELINE_STATE_FAILED:\n",
    "            raise Exception(\"Training Job Failed\")\n",
    "    else:\n",
    "        model_to_deploy = response.model_to_upload\n",
    "        model_to_deploy_id = model_to_deploy.name\n",
    "        print(\"Training Time:\", response.end_time - response.start_time)\n",
    "        break\n",
    "    time.sleep(60)\n",
    "\n",
    "print(\"model to deploy:\", model_to_deploy_id)"
   ]
  },
  {
   "cell_type": "markdown",
   "metadata": {
    "id": "model_information"
   },
   "source": [
    "## Model information\n",
    "\n",
    "Now that your model is trained, you can get some information on your model."
   ]
  },
  {
   "cell_type": "markdown",
   "metadata": {
    "id": "evaluate_the_model:automl"
   },
   "source": [
    "## Evaluate the Model resource\n",
    "\n",
    "Now find out how good the model service believes your model is. As part of training, some portion of the dataset was set aside as the test (holdout) data, which is used by the pipeline service to evaluate the model."
   ]
  },
  {
   "cell_type": "markdown",
   "metadata": {
    "id": "list_model_evaluations:automl,isg"
   },
   "source": [
    "### List evaluations for all slices\n",
    "\n",
    "Use this helper function `list_model_evaluations`, which takes the following parameter:\n",
    "\n",
    "- `name`: The AI Platform (Unified) fully qualified model identifier for the `Model` resource.\n",
    "\n",
    "This helper function uses the model client service's `list_model_evaluations` method, which takes the same parameter. The response object from the call is a list, where each element is an evaluation metric.\n",
    "\n",
    "For each evaluation -- you probably only have one, we then print all the key names for each metric in the evaluation, and for a small set (`confidenceMetricsEntries`) you will print the result."
   ]
  },
  {
   "cell_type": "code",
   "execution_count": 25,
   "metadata": {
    "id": "list_model_evaluations:automl,isg"
   },
   "outputs": [
    {
     "name": "stdout",
     "output_type": "stream",
     "text": [
      "model_evaluation\n",
      " name: projects/759209241365/locations/us-central1/models/5366408391918878720/evaluations/4655233275957084160\n",
      " metrics_schema_uri: gs://google-cloud-aiplatform/schema/modelevaluation/image_segmentation_metrics_1.0.0.yaml\n",
      "confidenceMetricsEntries\n",
      "confidenceMetricsEntries [{'recall': 0.047715817, 'confidenceThreshold': 0.3, 'precision': 0.073922254, 'diceScoreCoefficient': 0.042653445, 'confusionMatrix': {'annotationSpecs': [{'id': '0'}, {'id': '417824314159529984', 'displayName': 'aeroplane'}, {'displayName': 'background', 'id': '994285066462953472'}, {'id': '1570745818766376960', 'displayName': 'diningtable'}, {'displayName': 'sofa', 'id': '1858976194918088704'}, {'id': '2147206571069800448', 'displayName': 'dog'}, {'id': '2723667323373223936', 'displayName': 'pottedplant'}, {'displayName': 'bus', 'id': '3011897699524935680'}, {'id': '3300128075676647424', 'displayName': 'bird'}, {'id': '3876588827980070912', 'displayName': 'horse'}, {'id': '4164819204131782656', 'displayName': 'bicycle'}, {'id': '4453049580283494400', 'displayName': 'train'}, {'displayName': 'cow', 'id': '5029510332586917888'}, {'id': '5605971084890341376', 'displayName': 'person'}, {'id': '6182431837193764864', 'displayName': 'boat'}, {'id': '6470662213345476608', 'displayName': 'tv'}, {'id': '6758892589497188352', 'displayName': 'sheep'}, {'id': '7335353341800611840', 'displayName': 'bottle'}, {'id': '7623583717952323584', 'displayName': 'motorbike'}, {'id': '7911814094104035328', 'displayName': 'cat'}, {'id': '8488274846407458816', 'displayName': 'car'}, {'id': '8776505222559170560', 'displayName': 'chair'}], 'rows': [['2010108', '0', '0', '0', '0', '0', '0', '0', '0', '0', '0', '0', '0', '0', '0', '0', '0', '0', '688', '0', '0', '0'], ['1478', '0', '0', '0', '0', '0', '0', '0', '0', '0', '0', '0', '0', '0', '0', '0', '0', '0', '0', '0', '0', '0'], ['38847', '0', '0', '0', '0', '0', '0', '0', '0', '0', '0', '0', '0', '0', '0', '0', '0', '0', '0', '0', '0', '0'], ['69610', '0', '0', '0', '0', '0', '0', '0', '0', '0', '0', '0', '0', '0', '0', '0', '0', '0', '0', '0', '0', '0'], ['0', '0', '0', '0', '0', '0', '0', '0', '0', '0', '0', '0', '0', '0', '0', '0', '0', '0', '0', '0', '0', '0'], ['55635', '0', '0', '0', '0', '0', '0', '0', '0', '0', '0', '0', '0', '0', '0', '0', '0', '0', '0', '0', '0', '0'], ['13009', '0', '0', '0', '0', '0', '0', '0', '0', '0', '0', '0', '0', '0', '0', '0', '0', '0', '0', '0', '0', '0'], ['0', '0', '0', '0', '0', '0', '0', '0', '0', '0', '0', '0', '0', '0', '0', '0', '0', '0', '0', '0', '0', '0'], ['44103', '0', '0', '0', '0', '0', '0', '0', '0', '0', '0', '0', '0', '0', '0', '0', '0', '0', '0', '0', '0', '0'], ['53289', '0', '0', '0', '0', '0', '0', '0', '0', '0', '0', '0', '0', '0', '0', '0', '0', '0', '0', '0', '0', '0'], ['0', '0', '0', '0', '0', '0', '0', '0', '0', '0', '0', '0', '0', '0', '0', '0', '0', '0', '0', '0', '0', '0'], ['125798', '0', '0', '0', '0', '0', '0', '0', '0', '0', '0', '0', '0', '0', '0', '0', '0', '0', '0', '0', '0', '0'], ['0', '0', '0', '0', '0', '0', '0', '0', '0', '0', '0', '0', '0', '0', '0', '0', '0', '0', '0', '0', '0', '0'], ['0', '0', '0', '0', '0', '0', '0', '0', '0', '0', '0', '0', '0', '0', '0', '0', '0', '0', '0', '0', '0', '0'], ['3814', '0', '0', '0', '0', '0', '0', '0', '0', '0', '0', '0', '0', '0', '0', '0', '0', '0', '0', '0', '0', '0'], ['0', '0', '0', '0', '0', '0', '0', '0', '0', '0', '0', '0', '0', '0', '0', '0', '0', '0', '0', '0', '0', '0'], ['109716', '0', '0', '0', '0', '0', '0', '0', '0', '0', '0', '0', '0', '0', '0', '0', '0', '0', '0', '0', '0', '0'], ['0', '0', '0', '0', '0', '0', '0', '0', '0', '0', '0', '0', '0', '0', '0', '0', '0', '0', '0', '0', '0', '0'], ['113329', '0', '0', '0', '0', '0', '0', '0', '0', '0', '0', '0', '0', '0', '0', '0', '0', '0', '5976', '0', '0', '0'], ['27310', '0', '0', '0', '0', '0', '0', '0', '0', '0', '0', '0', '0', '0', '0', '0', '0', '0', '0', '0', '0', '0'], ['34997', '0', '0', '0', '0', '0', '0', '0', '0', '0', '0', '0', '0', '0', '0', '0', '0', '0', '0', '0', '0', '0'], ['54300', '0', '0', '0', '0', '0', '0', '0', '0', '0', '0', '0', '0', '0', '0', '0', '0', '0', '0', '0', '0', '0']]}, 'iouScore': 0.03541599}, {'diceScoreCoefficient': 0.06506912, 'confusionMatrix': {'rows': [['2004209', '0', '0', '0', '0', '0', '0', '0', '0', '0', '0', '0', '0', '0', '0', '0', '0', '0', '6587', '0', '0', '0'], ['1478', '0', '0', '0', '0', '0', '0', '0', '0', '0', '0', '0', '0', '0', '0', '0', '0', '0', '0', '0', '0', '0'], ['36422', '0', '2425', '0', '0', '0', '0', '0', '0', '0', '0', '0', '0', '0', '0', '0', '0', '0', '0', '0', '0', '0'], ['69609', '0', '0', '0', '0', '0', '0', '0', '0', '0', '0', '0', '0', '0', '0', '0', '0', '0', '1', '0', '0', '0'], ['0', '0', '0', '0', '0', '0', '0', '0', '0', '0', '0', '0', '0', '0', '0', '0', '0', '0', '0', '0', '0', '0'], ['55505', '0', '0', '0', '0', '0', '0', '0', '0', '0', '0', '0', '0', '0', '0', '0', '0', '0', '130', '0', '0', '0'], ['13009', '0', '0', '0', '0', '0', '0', '0', '0', '0', '0', '0', '0', '0', '0', '0', '0', '0', '0', '0', '0', '0'], ['0', '0', '0', '0', '0', '0', '0', '0', '0', '0', '0', '0', '0', '0', '0', '0', '0', '0', '0', '0', '0', '0'], ['44103', '0', '0', '0', '0', '0', '0', '0', '0', '0', '0', '0', '0', '0', '0', '0', '0', '0', '0', '0', '0', '0'], ['53289', '0', '0', '0', '0', '0', '0', '0', '0', '0', '0', '0', '0', '0', '0', '0', '0', '0', '0', '0', '0', '0'], ['0', '0', '0', '0', '0', '0', '0', '0', '0', '0', '0', '0', '0', '0', '0', '0', '0', '0', '0', '0', '0', '0'], ['125798', '0', '0', '0', '0', '0', '0', '0', '0', '0', '0', '0', '0', '0', '0', '0', '0', '0', '0', '0', '0', '0'], ['0', '0', '0', '0', '0', '0', '0', '0', '0', '0', '0', '0', '0', '0', '0', '0', '0', '0', '0', '0', '0', '0'], ['0', '0', '0', '0', '0', '0', '0', '0', '0', '0', '0', '0', '0', '0', '0', '0', '0', '0', '0', '0', '0', '0'], ['3814', '0', '0', '0', '0', '0', '0', '0', '0', '0', '0', '0', '0', '0', '0', '0', '0', '0', '0', '0', '0', '0'], ['0', '0', '0', '0', '0', '0', '0', '0', '0', '0', '0', '0', '0', '0', '0', '0', '0', '0', '0', '0', '0', '0'], ['108538', '0', '0', '0', '0', '0', '0', '0', '0', '0', '0', '0', '0', '0', '0', '0', '0', '0', '1178', '0', '0', '0'], ['0', '0', '0', '0', '0', '0', '0', '0', '0', '0', '0', '0', '0', '0', '0', '0', '0', '0', '0', '0', '0', '0'], ['80681', '0', '0', '0', '0', '0', '0', '0', '0', '38', '0', '0', '0', '0', '0', '0', '0', '0', '38586', '0', '0', '0'], ['27299', '0', '0', '0', '0', '0', '0', '0', '0', '0', '0', '0', '0', '0', '0', '0', '0', '0', '11', '0', '0', '0'], ['34997', '0', '0', '0', '0', '0', '0', '0', '0', '0', '0', '0', '0', '0', '0', '0', '0', '0', '0', '0', '0', '0'], ['54300', '0', '0', '0', '0', '0', '0', '0', '0', '0', '0', '0', '0', '0', '0', '0', '0', '0', '0', '0', '0', '0']], 'annotationSpecs': [{'id': '0'}, {'id': '417824314159529984', 'displayName': 'aeroplane'}, {'id': '994285066462953472', 'displayName': 'background'}, {'id': '1570745818766376960', 'displayName': 'diningtable'}, {'id': '1858976194918088704', 'displayName': 'sofa'}, {'id': '2147206571069800448', 'displayName': 'dog'}, {'id': '2723667323373223936', 'displayName': 'pottedplant'}, {'id': '3011897699524935680', 'displayName': 'bus'}, {'id': '3300128075676647424', 'displayName': 'bird'}, {'id': '3876588827980070912', 'displayName': 'horse'}, {'id': '4164819204131782656', 'displayName': 'bicycle'}, {'id': '4453049580283494400', 'displayName': 'train'}, {'id': '5029510332586917888', 'displayName': 'cow'}, {'id': '5605971084890341376', 'displayName': 'person'}, {'id': '6182431837193764864', 'displayName': 'boat'}, {'id': '6470662213345476608', 'displayName': 'tv'}, {'id': '6758892589497188352', 'displayName': 'sheep'}, {'id': '7335353341800611840', 'displayName': 'bottle'}, {'id': '7623583717952323584', 'displayName': 'motorbike'}, {'id': '7911814094104035328', 'displayName': 'cat'}, {'id': '8488274846407458816', 'displayName': 'car'}, {'id': '8776505222559170560', 'displayName': 'chair'}]}, 'iouScore': 0.05012202, 'recall': 0.06284417, 'confidenceThreshold': 0.2, 'precision': 0.11675728}, {'recall': 0.045454547, 'confidenceThreshold': 0.4, 'precision': 0.033091813, 'diceScoreCoefficient': 0.03830027, 'confusionMatrix': {'rows': [['2010796', '0', '0', '0', '0', '0', '0', '0', '0', '0', '0', '0', '0', '0', '0', '0', '0', '0', '0', '0', '0', '0'], ['1478', '0', '0', '0', '0', '0', '0', '0', '0', '0', '0', '0', '0', '0', '0', '0', '0', '0', '0', '0', '0', '0'], ['38847', '0', '0', '0', '0', '0', '0', '0', '0', '0', '0', '0', '0', '0', '0', '0', '0', '0', '0', '0', '0', '0'], ['69610', '0', '0', '0', '0', '0', '0', '0', '0', '0', '0', '0', '0', '0', '0', '0', '0', '0', '0', '0', '0', '0'], ['0', '0', '0', '0', '0', '0', '0', '0', '0', '0', '0', '0', '0', '0', '0', '0', '0', '0', '0', '0', '0', '0'], ['55635', '0', '0', '0', '0', '0', '0', '0', '0', '0', '0', '0', '0', '0', '0', '0', '0', '0', '0', '0', '0', '0'], ['13009', '0', '0', '0', '0', '0', '0', '0', '0', '0', '0', '0', '0', '0', '0', '0', '0', '0', '0', '0', '0', '0'], ['0', '0', '0', '0', '0', '0', '0', '0', '0', '0', '0', '0', '0', '0', '0', '0', '0', '0', '0', '0', '0', '0'], ['44103', '0', '0', '0', '0', '0', '0', '0', '0', '0', '0', '0', '0', '0', '0', '0', '0', '0', '0', '0', '0', '0'], ['53289', '0', '0', '0', '0', '0', '0', '0', '0', '0', '0', '0', '0', '0', '0', '0', '0', '0', '0', '0', '0', '0'], ['0', '0', '0', '0', '0', '0', '0', '0', '0', '0', '0', '0', '0', '0', '0', '0', '0', '0', '0', '0', '0', '0'], ['125798', '0', '0', '0', '0', '0', '0', '0', '0', '0', '0', '0', '0', '0', '0', '0', '0', '0', '0', '0', '0', '0'], ['0', '0', '0', '0', '0', '0', '0', '0', '0', '0', '0', '0', '0', '0', '0', '0', '0', '0', '0', '0', '0', '0'], ['0', '0', '0', '0', '0', '0', '0', '0', '0', '0', '0', '0', '0', '0', '0', '0', '0', '0', '0', '0', '0', '0'], ['3814', '0', '0', '0', '0', '0', '0', '0', '0', '0', '0', '0', '0', '0', '0', '0', '0', '0', '0', '0', '0', '0'], ['0', '0', '0', '0', '0', '0', '0', '0', '0', '0', '0', '0', '0', '0', '0', '0', '0', '0', '0', '0', '0', '0'], ['109716', '0', '0', '0', '0', '0', '0', '0', '0', '0', '0', '0', '0', '0', '0', '0', '0', '0', '0', '0', '0', '0'], ['0', '0', '0', '0', '0', '0', '0', '0', '0', '0', '0', '0', '0', '0', '0', '0', '0', '0', '0', '0', '0', '0'], ['119305', '0', '0', '0', '0', '0', '0', '0', '0', '0', '0', '0', '0', '0', '0', '0', '0', '0', '0', '0', '0', '0'], ['27310', '0', '0', '0', '0', '0', '0', '0', '0', '0', '0', '0', '0', '0', '0', '0', '0', '0', '0', '0', '0', '0'], ['34997', '0', '0', '0', '0', '0', '0', '0', '0', '0', '0', '0', '0', '0', '0', '0', '0', '0', '0', '0', '0', '0'], ['54300', '0', '0', '0', '0', '0', '0', '0', '0', '0', '0', '0', '0', '0', '0', '0', '0', '0', '0', '0', '0', '0']], 'annotationSpecs': [{'id': '0'}, {'id': '417824314159529984', 'displayName': 'aeroplane'}, {'displayName': 'background', 'id': '994285066462953472'}, {'id': '1570745818766376960', 'displayName': 'diningtable'}, {'id': '1858976194918088704', 'displayName': 'sofa'}, {'id': '2147206571069800448', 'displayName': 'dog'}, {'id': '2723667323373223936', 'displayName': 'pottedplant'}, {'id': '3011897699524935680', 'displayName': 'bus'}, {'id': '3300128075676647424', 'displayName': 'bird'}, {'id': '3876588827980070912', 'displayName': 'horse'}, {'id': '4164819204131782656', 'displayName': 'bicycle'}, {'id': '4453049580283494400', 'displayName': 'train'}, {'id': '5029510332586917888', 'displayName': 'cow'}, {'id': '5605971084890341376', 'displayName': 'person'}, {'displayName': 'boat', 'id': '6182431837193764864'}, {'displayName': 'tv', 'id': '6470662213345476608'}, {'id': '6758892589497188352', 'displayName': 'sheep'}, {'id': '7335353341800611840', 'displayName': 'bottle'}, {'id': '7623583717952323584', 'displayName': 'motorbike'}, {'displayName': 'cat', 'id': '7911814094104035328'}, {'id': '8488274846407458816', 'displayName': 'car'}, {'displayName': 'chair', 'id': '8776505222559170560'}]}, 'iouScore': 0.033091813}, {'recall': 0.045454547, 'confidenceThreshold': 0.6, 'precision': 0.033091813, 'diceScoreCoefficient': 0.03830027, 'confusionMatrix': {'rows': [['2010796', '0', '0', '0', '0', '0', '0', '0', '0', '0', '0', '0', '0', '0', '0', '0', '0', '0', '0', '0', '0', '0'], ['1478', '0', '0', '0', '0', '0', '0', '0', '0', '0', '0', '0', '0', '0', '0', '0', '0', '0', '0', '0', '0', '0'], ['38847', '0', '0', '0', '0', '0', '0', '0', '0', '0', '0', '0', '0', '0', '0', '0', '0', '0', '0', '0', '0', '0'], ['69610', '0', '0', '0', '0', '0', '0', '0', '0', '0', '0', '0', '0', '0', '0', '0', '0', '0', '0', '0', '0', '0'], ['0', '0', '0', '0', '0', '0', '0', '0', '0', '0', '0', '0', '0', '0', '0', '0', '0', '0', '0', '0', '0', '0'], ['55635', '0', '0', '0', '0', '0', '0', '0', '0', '0', '0', '0', '0', '0', '0', '0', '0', '0', '0', '0', '0', '0'], ['13009', '0', '0', '0', '0', '0', '0', '0', '0', '0', '0', '0', '0', '0', '0', '0', '0', '0', '0', '0', '0', '0'], ['0', '0', '0', '0', '0', '0', '0', '0', '0', '0', '0', '0', '0', '0', '0', '0', '0', '0', '0', '0', '0', '0'], ['44103', '0', '0', '0', '0', '0', '0', '0', '0', '0', '0', '0', '0', '0', '0', '0', '0', '0', '0', '0', '0', '0'], ['53289', '0', '0', '0', '0', '0', '0', '0', '0', '0', '0', '0', '0', '0', '0', '0', '0', '0', '0', '0', '0', '0'], ['0', '0', '0', '0', '0', '0', '0', '0', '0', '0', '0', '0', '0', '0', '0', '0', '0', '0', '0', '0', '0', '0'], ['125798', '0', '0', '0', '0', '0', '0', '0', '0', '0', '0', '0', '0', '0', '0', '0', '0', '0', '0', '0', '0', '0'], ['0', '0', '0', '0', '0', '0', '0', '0', '0', '0', '0', '0', '0', '0', '0', '0', '0', '0', '0', '0', '0', '0'], ['0', '0', '0', '0', '0', '0', '0', '0', '0', '0', '0', '0', '0', '0', '0', '0', '0', '0', '0', '0', '0', '0'], ['3814', '0', '0', '0', '0', '0', '0', '0', '0', '0', '0', '0', '0', '0', '0', '0', '0', '0', '0', '0', '0', '0'], ['0', '0', '0', '0', '0', '0', '0', '0', '0', '0', '0', '0', '0', '0', '0', '0', '0', '0', '0', '0', '0', '0'], ['109716', '0', '0', '0', '0', '0', '0', '0', '0', '0', '0', '0', '0', '0', '0', '0', '0', '0', '0', '0', '0', '0'], ['0', '0', '0', '0', '0', '0', '0', '0', '0', '0', '0', '0', '0', '0', '0', '0', '0', '0', '0', '0', '0', '0'], ['119305', '0', '0', '0', '0', '0', '0', '0', '0', '0', '0', '0', '0', '0', '0', '0', '0', '0', '0', '0', '0', '0'], ['27310', '0', '0', '0', '0', '0', '0', '0', '0', '0', '0', '0', '0', '0', '0', '0', '0', '0', '0', '0', '0', '0'], ['34997', '0', '0', '0', '0', '0', '0', '0', '0', '0', '0', '0', '0', '0', '0', '0', '0', '0', '0', '0', '0', '0'], ['54300', '0', '0', '0', '0', '0', '0', '0', '0', '0', '0', '0', '0', '0', '0', '0', '0', '0', '0', '0', '0', '0']], 'annotationSpecs': [{'id': '0'}, {'id': '417824314159529984', 'displayName': 'aeroplane'}, {'id': '994285066462953472', 'displayName': 'background'}, {'id': '1570745818766376960', 'displayName': 'diningtable'}, {'id': '1858976194918088704', 'displayName': 'sofa'}, {'displayName': 'dog', 'id': '2147206571069800448'}, {'id': '2723667323373223936', 'displayName': 'pottedplant'}, {'id': '3011897699524935680', 'displayName': 'bus'}, {'id': '3300128075676647424', 'displayName': 'bird'}, {'id': '3876588827980070912', 'displayName': 'horse'}, {'id': '4164819204131782656', 'displayName': 'bicycle'}, {'id': '4453049580283494400', 'displayName': 'train'}, {'id': '5029510332586917888', 'displayName': 'cow'}, {'displayName': 'person', 'id': '5605971084890341376'}, {'displayName': 'boat', 'id': '6182431837193764864'}, {'id': '6470662213345476608', 'displayName': 'tv'}, {'id': '6758892589497188352', 'displayName': 'sheep'}, {'id': '7335353341800611840', 'displayName': 'bottle'}, {'id': '7623583717952323584', 'displayName': 'motorbike'}, {'id': '7911814094104035328', 'displayName': 'cat'}, {'displayName': 'car', 'id': '8488274846407458816'}, {'id': '8776505222559170560', 'displayName': 'chair'}]}, 'iouScore': 0.033091813}, {'diceScoreCoefficient': 0.03830027, 'confusionMatrix': {'rows': [['2010796', '0', '0', '0', '0', '0', '0', '0', '0', '0', '0', '0', '0', '0', '0', '0', '0', '0', '0', '0', '0', '0'], ['1478', '0', '0', '0', '0', '0', '0', '0', '0', '0', '0', '0', '0', '0', '0', '0', '0', '0', '0', '0', '0', '0'], ['38847', '0', '0', '0', '0', '0', '0', '0', '0', '0', '0', '0', '0', '0', '0', '0', '0', '0', '0', '0', '0', '0'], ['69610', '0', '0', '0', '0', '0', '0', '0', '0', '0', '0', '0', '0', '0', '0', '0', '0', '0', '0', '0', '0', '0'], ['0', '0', '0', '0', '0', '0', '0', '0', '0', '0', '0', '0', '0', '0', '0', '0', '0', '0', '0', '0', '0', '0'], ['55635', '0', '0', '0', '0', '0', '0', '0', '0', '0', '0', '0', '0', '0', '0', '0', '0', '0', '0', '0', '0', '0'], ['13009', '0', '0', '0', '0', '0', '0', '0', '0', '0', '0', '0', '0', '0', '0', '0', '0', '0', '0', '0', '0', '0'], ['0', '0', '0', '0', '0', '0', '0', '0', '0', '0', '0', '0', '0', '0', '0', '0', '0', '0', '0', '0', '0', '0'], ['44103', '0', '0', '0', '0', '0', '0', '0', '0', '0', '0', '0', '0', '0', '0', '0', '0', '0', '0', '0', '0', '0'], ['53289', '0', '0', '0', '0', '0', '0', '0', '0', '0', '0', '0', '0', '0', '0', '0', '0', '0', '0', '0', '0', '0'], ['0', '0', '0', '0', '0', '0', '0', '0', '0', '0', '0', '0', '0', '0', '0', '0', '0', '0', '0', '0', '0', '0'], ['125798', '0', '0', '0', '0', '0', '0', '0', '0', '0', '0', '0', '0', '0', '0', '0', '0', '0', '0', '0', '0', '0'], ['0', '0', '0', '0', '0', '0', '0', '0', '0', '0', '0', '0', '0', '0', '0', '0', '0', '0', '0', '0', '0', '0'], ['0', '0', '0', '0', '0', '0', '0', '0', '0', '0', '0', '0', '0', '0', '0', '0', '0', '0', '0', '0', '0', '0'], ['3814', '0', '0', '0', '0', '0', '0', '0', '0', '0', '0', '0', '0', '0', '0', '0', '0', '0', '0', '0', '0', '0'], ['0', '0', '0', '0', '0', '0', '0', '0', '0', '0', '0', '0', '0', '0', '0', '0', '0', '0', '0', '0', '0', '0'], ['109716', '0', '0', '0', '0', '0', '0', '0', '0', '0', '0', '0', '0', '0', '0', '0', '0', '0', '0', '0', '0', '0'], ['0', '0', '0', '0', '0', '0', '0', '0', '0', '0', '0', '0', '0', '0', '0', '0', '0', '0', '0', '0', '0', '0'], ['119305', '0', '0', '0', '0', '0', '0', '0', '0', '0', '0', '0', '0', '0', '0', '0', '0', '0', '0', '0', '0', '0'], ['27310', '0', '0', '0', '0', '0', '0', '0', '0', '0', '0', '0', '0', '0', '0', '0', '0', '0', '0', '0', '0', '0'], ['34997', '0', '0', '0', '0', '0', '0', '0', '0', '0', '0', '0', '0', '0', '0', '0', '0', '0', '0', '0', '0', '0'], ['54300', '0', '0', '0', '0', '0', '0', '0', '0', '0', '0', '0', '0', '0', '0', '0', '0', '0', '0', '0', '0', '0']], 'annotationSpecs': [{'id': '0'}, {'id': '417824314159529984', 'displayName': 'aeroplane'}, {'id': '994285066462953472', 'displayName': 'background'}, {'displayName': 'diningtable', 'id': '1570745818766376960'}, {'displayName': 'sofa', 'id': '1858976194918088704'}, {'displayName': 'dog', 'id': '2147206571069800448'}, {'id': '2723667323373223936', 'displayName': 'pottedplant'}, {'id': '3011897699524935680', 'displayName': 'bus'}, {'displayName': 'bird', 'id': '3300128075676647424'}, {'id': '3876588827980070912', 'displayName': 'horse'}, {'id': '4164819204131782656', 'displayName': 'bicycle'}, {'id': '4453049580283494400', 'displayName': 'train'}, {'id': '5029510332586917888', 'displayName': 'cow'}, {'id': '5605971084890341376', 'displayName': 'person'}, {'id': '6182431837193764864', 'displayName': 'boat'}, {'id': '6470662213345476608', 'displayName': 'tv'}, {'displayName': 'sheep', 'id': '6758892589497188352'}, {'id': '7335353341800611840', 'displayName': 'bottle'}, {'id': '7623583717952323584', 'displayName': 'motorbike'}, {'id': '7911814094104035328', 'displayName': 'cat'}, {'id': '8488274846407458816', 'displayName': 'car'}, {'id': '8776505222559170560', 'displayName': 'chair'}]}, 'iouScore': 0.033091813, 'recall': 0.045454547, 'confidenceThreshold': 0.5, 'precision': 0.033091813}, {'recall': 0.045454547, 'confidenceThreshold': 0.7, 'precision': 0.033091813, 'diceScoreCoefficient': 0.03830027, 'confusionMatrix': {'rows': [['2010796', '0', '0', '0', '0', '0', '0', '0', '0', '0', '0', '0', '0', '0', '0', '0', '0', '0', '0', '0', '0', '0'], ['1478', '0', '0', '0', '0', '0', '0', '0', '0', '0', '0', '0', '0', '0', '0', '0', '0', '0', '0', '0', '0', '0'], ['38847', '0', '0', '0', '0', '0', '0', '0', '0', '0', '0', '0', '0', '0', '0', '0', '0', '0', '0', '0', '0', '0'], ['69610', '0', '0', '0', '0', '0', '0', '0', '0', '0', '0', '0', '0', '0', '0', '0', '0', '0', '0', '0', '0', '0'], ['0', '0', '0', '0', '0', '0', '0', '0', '0', '0', '0', '0', '0', '0', '0', '0', '0', '0', '0', '0', '0', '0'], ['55635', '0', '0', '0', '0', '0', '0', '0', '0', '0', '0', '0', '0', '0', '0', '0', '0', '0', '0', '0', '0', '0'], ['13009', '0', '0', '0', '0', '0', '0', '0', '0', '0', '0', '0', '0', '0', '0', '0', '0', '0', '0', '0', '0', '0'], ['0', '0', '0', '0', '0', '0', '0', '0', '0', '0', '0', '0', '0', '0', '0', '0', '0', '0', '0', '0', '0', '0'], ['44103', '0', '0', '0', '0', '0', '0', '0', '0', '0', '0', '0', '0', '0', '0', '0', '0', '0', '0', '0', '0', '0'], ['53289', '0', '0', '0', '0', '0', '0', '0', '0', '0', '0', '0', '0', '0', '0', '0', '0', '0', '0', '0', '0', '0'], ['0', '0', '0', '0', '0', '0', '0', '0', '0', '0', '0', '0', '0', '0', '0', '0', '0', '0', '0', '0', '0', '0'], ['125798', '0', '0', '0', '0', '0', '0', '0', '0', '0', '0', '0', '0', '0', '0', '0', '0', '0', '0', '0', '0', '0'], ['0', '0', '0', '0', '0', '0', '0', '0', '0', '0', '0', '0', '0', '0', '0', '0', '0', '0', '0', '0', '0', '0'], ['0', '0', '0', '0', '0', '0', '0', '0', '0', '0', '0', '0', '0', '0', '0', '0', '0', '0', '0', '0', '0', '0'], ['3814', '0', '0', '0', '0', '0', '0', '0', '0', '0', '0', '0', '0', '0', '0', '0', '0', '0', '0', '0', '0', '0'], ['0', '0', '0', '0', '0', '0', '0', '0', '0', '0', '0', '0', '0', '0', '0', '0', '0', '0', '0', '0', '0', '0'], ['109716', '0', '0', '0', '0', '0', '0', '0', '0', '0', '0', '0', '0', '0', '0', '0', '0', '0', '0', '0', '0', '0'], ['0', '0', '0', '0', '0', '0', '0', '0', '0', '0', '0', '0', '0', '0', '0', '0', '0', '0', '0', '0', '0', '0'], ['119305', '0', '0', '0', '0', '0', '0', '0', '0', '0', '0', '0', '0', '0', '0', '0', '0', '0', '0', '0', '0', '0'], ['27310', '0', '0', '0', '0', '0', '0', '0', '0', '0', '0', '0', '0', '0', '0', '0', '0', '0', '0', '0', '0', '0'], ['34997', '0', '0', '0', '0', '0', '0', '0', '0', '0', '0', '0', '0', '0', '0', '0', '0', '0', '0', '0', '0', '0'], ['54300', '0', '0', '0', '0', '0', '0', '0', '0', '0', '0', '0', '0', '0', '0', '0', '0', '0', '0', '0', '0', '0']], 'annotationSpecs': [{'id': '0'}, {'id': '417824314159529984', 'displayName': 'aeroplane'}, {'displayName': 'background', 'id': '994285066462953472'}, {'displayName': 'diningtable', 'id': '1570745818766376960'}, {'id': '1858976194918088704', 'displayName': 'sofa'}, {'displayName': 'dog', 'id': '2147206571069800448'}, {'displayName': 'pottedplant', 'id': '2723667323373223936'}, {'id': '3011897699524935680', 'displayName': 'bus'}, {'id': '3300128075676647424', 'displayName': 'bird'}, {'displayName': 'horse', 'id': '3876588827980070912'}, {'displayName': 'bicycle', 'id': '4164819204131782656'}, {'id': '4453049580283494400', 'displayName': 'train'}, {'id': '5029510332586917888', 'displayName': 'cow'}, {'id': '5605971084890341376', 'displayName': 'person'}, {'displayName': 'boat', 'id': '6182431837193764864'}, {'displayName': 'tv', 'id': '6470662213345476608'}, {'id': '6758892589497188352', 'displayName': 'sheep'}, {'displayName': 'bottle', 'id': '7335353341800611840'}, {'id': '7623583717952323584', 'displayName': 'motorbike'}, {'displayName': 'cat', 'id': '7911814094104035328'}, {'id': '8488274846407458816', 'displayName': 'car'}, {'displayName': 'chair', 'id': '8776505222559170560'}]}, 'iouScore': 0.033091813}, {'diceScoreCoefficient': 0.13637236, 'confusionMatrix': {'rows': [['1940685', '0', '3443', '0', '1681', '5652', '0', '1731', '0', '551', '0', '0', '12596', '0', '0', '0', '1077', '3', '43377', '0', '0', '0'], ['1478', '0', '0', '0', '0', '0', '0', '0', '0', '0', '0', '0', '0', '0', '0', '0', '0', '0', '0', '0', '0', '0'], ['12904', '0', '12356', '0', '929', '0', '0', '0', '0', '12284', '0', '0', '0', '0', '0', '0', '0', '12', '362', '0', '0', '0'], ['37773', '0', '0', '936', '0', '18119', '0', '0', '0', '0', '0', '0', '24', '0', '0', '0', '58', '0', '12700', '0', '0', '0'], ['0', '0', '0', '0', '0', '0', '0', '0', '0', '0', '0', '0', '0', '0', '0', '0', '0', '0', '0', '0', '0', '0'], ['9175', '0', '0', '0', '0', '42447', '0', '0', '0', '1121', '0', '0', '0', '0', '0', '0', '0', '0', '2892', '0', '0', '0'], ['10649', '0', '0', '0', '0', '2360', '0', '0', '0', '0', '0', '0', '0', '0', '0', '0', '0', '0', '0', '0', '0', '0'], ['0', '0', '0', '0', '0', '0', '0', '0', '0', '0', '0', '0', '0', '0', '0', '0', '0', '0', '0', '0', '0', '0'], ['40688', '0', '3347', '0', '38', '0', '0', '0', '0', '3', '0', '0', '0', '0', '0', '0', '0', '0', '27', '0', '0', '0'], ['35177', '0', '0', '0', '0', '31', '0', '0', '0', '16986', '0', '0', '0', '0', '0', '0', '0', '0', '1095', '0', '0', '0'], ['0', '0', '0', '0', '0', '0', '0', '0', '0', '0', '0', '0', '0', '0', '0', '0', '0', '0', '0', '0', '0', '0'], ['123811', '0', '1070', '0', '591', '0', '0', '0', '0', '0', '0', '0', '0', '0', '0', '0', '0', '190', '136', '0', '0', '0'], ['0', '0', '0', '0', '0', '0', '0', '0', '0', '0', '0', '0', '0', '0', '0', '0', '0', '0', '0', '0', '0', '0'], ['0', '0', '0', '0', '0', '0', '0', '0', '0', '0', '0', '0', '0', '0', '0', '0', '0', '0', '0', '0', '0', '0'], ['3813', '0', '0', '0', '0', '0', '0', '0', '0', '0', '0', '0', '1', '0', '0', '0', '0', '0', '0', '0', '0', '0'], ['0', '0', '0', '0', '0', '0', '0', '0', '0', '0', '0', '0', '0', '0', '0', '0', '0', '0', '0', '0', '0', '0'], ['84987', '0', '0', '106', '0', '670', '0', '0', '0', '0', '0', '0', '527', '0', '0', '0', '10747', '0', '12679', '0', '0', '0'], ['0', '0', '0', '0', '0', '0', '0', '0', '0', '0', '0', '0', '0', '0', '0', '0', '0', '0', '0', '0', '0', '0'], ['10839', '0', '156', '0', '0', '2174', '0', '0', '0', '9813', '0', '0', '1954', '0', '0', '0', '0', '0', '94369', '0', '0', '0'], ['17885', '0', '0', '0', '0', '0', '0', '0', '0', '0', '0', '0', '268', '0', '0', '0', '735', '0', '8422', '0', '0', '0'], ['20293', '0', '0', '0', '0', '11530', '3134', '0', '0', '0', '0', '0', '0', '0', '0', '0', '0', '0', '40', '0', '0', '0'], ['21370', '0', '0', '0', '0', '32930', '0', '0', '0', '0', '0', '0', '0', '0', '0', '0', '0', '0', '0', '0', '0', '0']], 'annotationSpecs': [{'id': '0'}, {'displayName': 'aeroplane', 'id': '417824314159529984'}, {'displayName': 'background', 'id': '994285066462953472'}, {'id': '1570745818766376960', 'displayName': 'diningtable'}, {'displayName': 'sofa', 'id': '1858976194918088704'}, {'id': '2147206571069800448', 'displayName': 'dog'}, {'id': '2723667323373223936', 'displayName': 'pottedplant'}, {'id': '3011897699524935680', 'displayName': 'bus'}, {'id': '3300128075676647424', 'displayName': 'bird'}, {'displayName': 'horse', 'id': '3876588827980070912'}, {'displayName': 'bicycle', 'id': '4164819204131782656'}, {'displayName': 'train', 'id': '4453049580283494400'}, {'id': '5029510332586917888', 'displayName': 'cow'}, {'id': '5605971084890341376', 'displayName': 'person'}, {'displayName': 'boat', 'id': '6182431837193764864'}, {'id': '6470662213345476608', 'displayName': 'tv'}, {'id': '6758892589497188352', 'displayName': 'sheep'}, {'id': '7335353341800611840', 'displayName': 'bottle'}, {'id': '7623583717952323584', 'displayName': 'motorbike'}, {'id': '7911814094104035328', 'displayName': 'cat'}, {'id': '8488274846407458816', 'displayName': 'car'}, {'displayName': 'chair', 'id': '8776505222559170560'}]}, 'iouScore': 0.099402554, 'recall': 0.14851351, 'confidenceThreshold': 0.1, 'precision': 0.20426098}, {'diceScoreCoefficient': 0.13160156, 'confusionMatrix': {'rows': [['1850439', '0', '13320', '0', '8150', '34940', '0', '6532', '0', '7493', '2', '0', '17919', '0', '0', '0', '3090', '59', '67989', '0', '0', '863'], ['1478', '0', '0', '0', '0', '0', '0', '0', '0', '0', '0', '0', '0', '0', '0', '0', '0', '0', '0', '0', '0', '0'], ['4361', '0', '14739', '0', '1273', '0', '0', '722', '0', '16730', '0', '0', '0', '0', '0', '0', '0', '161', '861', '0', '0', '0'], ['9158', '0', '0', '975', '0', '28414', '0', '0', '0', '140', '16', '0', '1691', '0', '0', '0', '569', '0', '28647', '0', '0', '0'], ['0', '0', '0', '0', '0', '0', '0', '0', '0', '0', '0', '0', '0', '0', '0', '0', '0', '0', '0', '0', '0', '0'], ['797', '0', '0', '0', '0', '49614', '0', '0', '0', '1622', '0', '0', '0', '0', '0', '0', '0', '0', '3602', '0', '0', '0'], ['2655', '0', '1161', '0', '0', '8052', '0', '0', '0', '23', '0', '0', '0', '0', '0', '0', '0', '0', '182', '0', '0', '936'], ['0', '0', '0', '0', '0', '0', '0', '0', '0', '0', '0', '0', '0', '0', '0', '0', '0', '0', '0', '0', '0', '0'], ['13404', '0', '23104', '0', '1224', '400', '0', '1', '0', '5370', '0', '0', '0', '0', '0', '0', '0', '0', '600', '0', '0', '0'], ['11568', '0', '0', '0', '0', '125', '0', '0', '0', '35585', '0', '0', '0', '0', '0', '0', '0', '0', '6011', '0', '0', '0'], ['0', '0', '0', '0', '0', '0', '0', '0', '0', '0', '0', '0', '0', '0', '0', '0', '0', '0', '0', '0', '0', '0'], ['103860', '0', '5289', '0', '4833', '0', '0', '1839', '0', '2742', '0', '0', '100', '0', '0', '0', '0', '5141', '1994', '0', '0', '0'], ['0', '0', '0', '0', '0', '0', '0', '0', '0', '0', '0', '0', '0', '0', '0', '0', '0', '0', '0', '0', '0', '0'], ['0', '0', '0', '0', '0', '0', '0', '0', '0', '0', '0', '0', '0', '0', '0', '0', '0', '0', '0', '0', '0', '0'], ['3314', '0', '0', '0', '0', '0', '0', '145', '0', '0', '0', '0', '353', '0', '0', '0', '0', '2', '0', '0', '0', '0'], ['0', '0', '0', '0', '0', '0', '0', '0', '0', '0', '0', '0', '0', '0', '0', '0', '0', '0', '0', '0', '0', '0'], ['61324', '0', '627', '213', '31', '5866', '5', '0', '0', '542', '15', '0', '1336', '0', '0', '0', '14026', '0', '25721', '0', '1', '9'], ['0', '0', '0', '0', '0', '0', '0', '0', '0', '0', '0', '0', '0', '0', '0', '0', '0', '0', '0', '0', '0', '0'], ['1807', '0', '459', '0', '0', '3663', '0', '120', '0', '12092', '0', '0', '1996', '0', '0', '0', '18', '0', '99150', '0', '0', '0'], ['14297', '0', '0', '0', '0', '0', '0', '0', '0', '0', '0', '0', '496', '0', '0', '0', '2536', '0', '9981', '0', '0', '0'], ['2206', '0', '0', '708', '0', '19026', '3751', '0', '0', '0', '20', '0', '0', '0', '0', '0', '0', '0', '9208', '0', '78', '0'], ['2862', '0', '13', '0', '0', '51298', '0', '0', '0', '121', '0', '0', '0', '0', '0', '0', '0', '0', '6', '0', '0', '0']], 'annotationSpecs': [{'id': '0'}, {'id': '417824314159529984', 'displayName': 'aeroplane'}, {'id': '994285066462953472', 'displayName': 'background'}, {'displayName': 'diningtable', 'id': '1570745818766376960'}, {'id': '1858976194918088704', 'displayName': 'sofa'}, {'displayName': 'dog', 'id': '2147206571069800448'}, {'displayName': 'pottedplant', 'id': '2723667323373223936'}, {'id': '3011897699524935680', 'displayName': 'bus'}, {'displayName': 'bird', 'id': '3300128075676647424'}, {'id': '3876588827980070912', 'displayName': 'horse'}, {'displayName': 'bicycle', 'id': '4164819204131782656'}, {'displayName': 'train', 'id': '4453049580283494400'}, {'displayName': 'cow', 'id': '5029510332586917888'}, {'id': '5605971084890341376', 'displayName': 'person'}, {'id': '6182431837193764864', 'displayName': 'boat'}, {'id': '6470662213345476608', 'displayName': 'tv'}, {'id': '6758892589497188352', 'displayName': 'sheep'}, {'id': '7335353341800611840', 'displayName': 'bottle'}, {'id': '7623583717952323584', 'displayName': 'motorbike'}, {'displayName': 'cat', 'id': '7911814094104035328'}, {'id': '8488274846407458816', 'displayName': 'car'}, {'displayName': 'chair', 'id': '8776505222559170560'}]}, 'iouScore': 0.09526576, 'recall': 0.17428872, 'precision': 0.20009479}, {'recall': 0.045454547, 'confidenceThreshold': 0.8, 'precision': 0.033091813, 'diceScoreCoefficient': 0.03830027, 'confusionMatrix': {'rows': [['2010796', '0', '0', '0', '0', '0', '0', '0', '0', '0', '0', '0', '0', '0', '0', '0', '0', '0', '0', '0', '0', '0'], ['1478', '0', '0', '0', '0', '0', '0', '0', '0', '0', '0', '0', '0', '0', '0', '0', '0', '0', '0', '0', '0', '0'], ['38847', '0', '0', '0', '0', '0', '0', '0', '0', '0', '0', '0', '0', '0', '0', '0', '0', '0', '0', '0', '0', '0'], ['69610', '0', '0', '0', '0', '0', '0', '0', '0', '0', '0', '0', '0', '0', '0', '0', '0', '0', '0', '0', '0', '0'], ['0', '0', '0', '0', '0', '0', '0', '0', '0', '0', '0', '0', '0', '0', '0', '0', '0', '0', '0', '0', '0', '0'], ['55635', '0', '0', '0', '0', '0', '0', '0', '0', '0', '0', '0', '0', '0', '0', '0', '0', '0', '0', '0', '0', '0'], ['13009', '0', '0', '0', '0', '0', '0', '0', '0', '0', '0', '0', '0', '0', '0', '0', '0', '0', '0', '0', '0', '0'], ['0', '0', '0', '0', '0', '0', '0', '0', '0', '0', '0', '0', '0', '0', '0', '0', '0', '0', '0', '0', '0', '0'], ['44103', '0', '0', '0', '0', '0', '0', '0', '0', '0', '0', '0', '0', '0', '0', '0', '0', '0', '0', '0', '0', '0'], ['53289', '0', '0', '0', '0', '0', '0', '0', '0', '0', '0', '0', '0', '0', '0', '0', '0', '0', '0', '0', '0', '0'], ['0', '0', '0', '0', '0', '0', '0', '0', '0', '0', '0', '0', '0', '0', '0', '0', '0', '0', '0', '0', '0', '0'], ['125798', '0', '0', '0', '0', '0', '0', '0', '0', '0', '0', '0', '0', '0', '0', '0', '0', '0', '0', '0', '0', '0'], ['0', '0', '0', '0', '0', '0', '0', '0', '0', '0', '0', '0', '0', '0', '0', '0', '0', '0', '0', '0', '0', '0'], ['0', '0', '0', '0', '0', '0', '0', '0', '0', '0', '0', '0', '0', '0', '0', '0', '0', '0', '0', '0', '0', '0'], ['3814', '0', '0', '0', '0', '0', '0', '0', '0', '0', '0', '0', '0', '0', '0', '0', '0', '0', '0', '0', '0', '0'], ['0', '0', '0', '0', '0', '0', '0', '0', '0', '0', '0', '0', '0', '0', '0', '0', '0', '0', '0', '0', '0', '0'], ['109716', '0', '0', '0', '0', '0', '0', '0', '0', '0', '0', '0', '0', '0', '0', '0', '0', '0', '0', '0', '0', '0'], ['0', '0', '0', '0', '0', '0', '0', '0', '0', '0', '0', '0', '0', '0', '0', '0', '0', '0', '0', '0', '0', '0'], ['119305', '0', '0', '0', '0', '0', '0', '0', '0', '0', '0', '0', '0', '0', '0', '0', '0', '0', '0', '0', '0', '0'], ['27310', '0', '0', '0', '0', '0', '0', '0', '0', '0', '0', '0', '0', '0', '0', '0', '0', '0', '0', '0', '0', '0'], ['34997', '0', '0', '0', '0', '0', '0', '0', '0', '0', '0', '0', '0', '0', '0', '0', '0', '0', '0', '0', '0', '0'], ['54300', '0', '0', '0', '0', '0', '0', '0', '0', '0', '0', '0', '0', '0', '0', '0', '0', '0', '0', '0', '0', '0']], 'annotationSpecs': [{'id': '0'}, {'displayName': 'aeroplane', 'id': '417824314159529984'}, {'id': '994285066462953472', 'displayName': 'background'}, {'id': '1570745818766376960', 'displayName': 'diningtable'}, {'id': '1858976194918088704', 'displayName': 'sofa'}, {'id': '2147206571069800448', 'displayName': 'dog'}, {'id': '2723667323373223936', 'displayName': 'pottedplant'}, {'id': '3011897699524935680', 'displayName': 'bus'}, {'displayName': 'bird', 'id': '3300128075676647424'}, {'displayName': 'horse', 'id': '3876588827980070912'}, {'id': '4164819204131782656', 'displayName': 'bicycle'}, {'displayName': 'train', 'id': '4453049580283494400'}, {'id': '5029510332586917888', 'displayName': 'cow'}, {'id': '5605971084890341376', 'displayName': 'person'}, {'id': '6182431837193764864', 'displayName': 'boat'}, {'id': '6470662213345476608', 'displayName': 'tv'}, {'id': '6758892589497188352', 'displayName': 'sheep'}, {'displayName': 'bottle', 'id': '7335353341800611840'}, {'id': '7623583717952323584', 'displayName': 'motorbike'}, {'id': '7911814094104035328', 'displayName': 'cat'}, {'displayName': 'car', 'id': '8488274846407458816'}, {'id': '8776505222559170560', 'displayName': 'chair'}]}, 'iouScore': 0.033091813}, {'confidenceThreshold': 0.9, 'precision': 0.033091813, 'diceScoreCoefficient': 0.03830027, 'confusionMatrix': {'rows': [['2010796', '0', '0', '0', '0', '0', '0', '0', '0', '0', '0', '0', '0', '0', '0', '0', '0', '0', '0', '0', '0', '0'], ['1478', '0', '0', '0', '0', '0', '0', '0', '0', '0', '0', '0', '0', '0', '0', '0', '0', '0', '0', '0', '0', '0'], ['38847', '0', '0', '0', '0', '0', '0', '0', '0', '0', '0', '0', '0', '0', '0', '0', '0', '0', '0', '0', '0', '0'], ['69610', '0', '0', '0', '0', '0', '0', '0', '0', '0', '0', '0', '0', '0', '0', '0', '0', '0', '0', '0', '0', '0'], ['0', '0', '0', '0', '0', '0', '0', '0', '0', '0', '0', '0', '0', '0', '0', '0', '0', '0', '0', '0', '0', '0'], ['55635', '0', '0', '0', '0', '0', '0', '0', '0', '0', '0', '0', '0', '0', '0', '0', '0', '0', '0', '0', '0', '0'], ['13009', '0', '0', '0', '0', '0', '0', '0', '0', '0', '0', '0', '0', '0', '0', '0', '0', '0', '0', '0', '0', '0'], ['0', '0', '0', '0', '0', '0', '0', '0', '0', '0', '0', '0', '0', '0', '0', '0', '0', '0', '0', '0', '0', '0'], ['44103', '0', '0', '0', '0', '0', '0', '0', '0', '0', '0', '0', '0', '0', '0', '0', '0', '0', '0', '0', '0', '0'], ['53289', '0', '0', '0', '0', '0', '0', '0', '0', '0', '0', '0', '0', '0', '0', '0', '0', '0', '0', '0', '0', '0'], ['0', '0', '0', '0', '0', '0', '0', '0', '0', '0', '0', '0', '0', '0', '0', '0', '0', '0', '0', '0', '0', '0'], ['125798', '0', '0', '0', '0', '0', '0', '0', '0', '0', '0', '0', '0', '0', '0', '0', '0', '0', '0', '0', '0', '0'], ['0', '0', '0', '0', '0', '0', '0', '0', '0', '0', '0', '0', '0', '0', '0', '0', '0', '0', '0', '0', '0', '0'], ['0', '0', '0', '0', '0', '0', '0', '0', '0', '0', '0', '0', '0', '0', '0', '0', '0', '0', '0', '0', '0', '0'], ['3814', '0', '0', '0', '0', '0', '0', '0', '0', '0', '0', '0', '0', '0', '0', '0', '0', '0', '0', '0', '0', '0'], ['0', '0', '0', '0', '0', '0', '0', '0', '0', '0', '0', '0', '0', '0', '0', '0', '0', '0', '0', '0', '0', '0'], ['109716', '0', '0', '0', '0', '0', '0', '0', '0', '0', '0', '0', '0', '0', '0', '0', '0', '0', '0', '0', '0', '0'], ['0', '0', '0', '0', '0', '0', '0', '0', '0', '0', '0', '0', '0', '0', '0', '0', '0', '0', '0', '0', '0', '0'], ['119305', '0', '0', '0', '0', '0', '0', '0', '0', '0', '0', '0', '0', '0', '0', '0', '0', '0', '0', '0', '0', '0'], ['27310', '0', '0', '0', '0', '0', '0', '0', '0', '0', '0', '0', '0', '0', '0', '0', '0', '0', '0', '0', '0', '0'], ['34997', '0', '0', '0', '0', '0', '0', '0', '0', '0', '0', '0', '0', '0', '0', '0', '0', '0', '0', '0', '0', '0'], ['54300', '0', '0', '0', '0', '0', '0', '0', '0', '0', '0', '0', '0', '0', '0', '0', '0', '0', '0', '0', '0', '0']], 'annotationSpecs': [{'id': '0'}, {'displayName': 'aeroplane', 'id': '417824314159529984'}, {'id': '994285066462953472', 'displayName': 'background'}, {'id': '1570745818766376960', 'displayName': 'diningtable'}, {'id': '1858976194918088704', 'displayName': 'sofa'}, {'id': '2147206571069800448', 'displayName': 'dog'}, {'displayName': 'pottedplant', 'id': '2723667323373223936'}, {'id': '3011897699524935680', 'displayName': 'bus'}, {'id': '3300128075676647424', 'displayName': 'bird'}, {'displayName': 'horse', 'id': '3876588827980070912'}, {'id': '4164819204131782656', 'displayName': 'bicycle'}, {'id': '4453049580283494400', 'displayName': 'train'}, {'id': '5029510332586917888', 'displayName': 'cow'}, {'id': '5605971084890341376', 'displayName': 'person'}, {'displayName': 'boat', 'id': '6182431837193764864'}, {'id': '6470662213345476608', 'displayName': 'tv'}, {'id': '6758892589497188352', 'displayName': 'sheep'}, {'id': '7335353341800611840', 'displayName': 'bottle'}, {'id': '7623583717952323584', 'displayName': 'motorbike'}, {'id': '7911814094104035328', 'displayName': 'cat'}, {'id': '8488274846407458816', 'displayName': 'car'}, {'id': '8776505222559170560', 'displayName': 'chair'}]}, 'iouScore': 0.033091813, 'recall': 0.045454547}, {'confidenceThreshold': 1.0, 'precision': 0.033091813, 'diceScoreCoefficient': 0.03830027, 'confusionMatrix': {'rows': [['2010796', '0', '0', '0', '0', '0', '0', '0', '0', '0', '0', '0', '0', '0', '0', '0', '0', '0', '0', '0', '0', '0'], ['1478', '0', '0', '0', '0', '0', '0', '0', '0', '0', '0', '0', '0', '0', '0', '0', '0', '0', '0', '0', '0', '0'], ['38847', '0', '0', '0', '0', '0', '0', '0', '0', '0', '0', '0', '0', '0', '0', '0', '0', '0', '0', '0', '0', '0'], ['69610', '0', '0', '0', '0', '0', '0', '0', '0', '0', '0', '0', '0', '0', '0', '0', '0', '0', '0', '0', '0', '0'], ['0', '0', '0', '0', '0', '0', '0', '0', '0', '0', '0', '0', '0', '0', '0', '0', '0', '0', '0', '0', '0', '0'], ['55635', '0', '0', '0', '0', '0', '0', '0', '0', '0', '0', '0', '0', '0', '0', '0', '0', '0', '0', '0', '0', '0'], ['13009', '0', '0', '0', '0', '0', '0', '0', '0', '0', '0', '0', '0', '0', '0', '0', '0', '0', '0', '0', '0', '0'], ['0', '0', '0', '0', '0', '0', '0', '0', '0', '0', '0', '0', '0', '0', '0', '0', '0', '0', '0', '0', '0', '0'], ['44103', '0', '0', '0', '0', '0', '0', '0', '0', '0', '0', '0', '0', '0', '0', '0', '0', '0', '0', '0', '0', '0'], ['53289', '0', '0', '0', '0', '0', '0', '0', '0', '0', '0', '0', '0', '0', '0', '0', '0', '0', '0', '0', '0', '0'], ['0', '0', '0', '0', '0', '0', '0', '0', '0', '0', '0', '0', '0', '0', '0', '0', '0', '0', '0', '0', '0', '0'], ['125798', '0', '0', '0', '0', '0', '0', '0', '0', '0', '0', '0', '0', '0', '0', '0', '0', '0', '0', '0', '0', '0'], ['0', '0', '0', '0', '0', '0', '0', '0', '0', '0', '0', '0', '0', '0', '0', '0', '0', '0', '0', '0', '0', '0'], ['0', '0', '0', '0', '0', '0', '0', '0', '0', '0', '0', '0', '0', '0', '0', '0', '0', '0', '0', '0', '0', '0'], ['3814', '0', '0', '0', '0', '0', '0', '0', '0', '0', '0', '0', '0', '0', '0', '0', '0', '0', '0', '0', '0', '0'], ['0', '0', '0', '0', '0', '0', '0', '0', '0', '0', '0', '0', '0', '0', '0', '0', '0', '0', '0', '0', '0', '0'], ['109716', '0', '0', '0', '0', '0', '0', '0', '0', '0', '0', '0', '0', '0', '0', '0', '0', '0', '0', '0', '0', '0'], ['0', '0', '0', '0', '0', '0', '0', '0', '0', '0', '0', '0', '0', '0', '0', '0', '0', '0', '0', '0', '0', '0'], ['119305', '0', '0', '0', '0', '0', '0', '0', '0', '0', '0', '0', '0', '0', '0', '0', '0', '0', '0', '0', '0', '0'], ['27310', '0', '0', '0', '0', '0', '0', '0', '0', '0', '0', '0', '0', '0', '0', '0', '0', '0', '0', '0', '0', '0'], ['34997', '0', '0', '0', '0', '0', '0', '0', '0', '0', '0', '0', '0', '0', '0', '0', '0', '0', '0', '0', '0', '0'], ['54300', '0', '0', '0', '0', '0', '0', '0', '0', '0', '0', '0', '0', '0', '0', '0', '0', '0', '0', '0', '0', '0']], 'annotationSpecs': [{'id': '0'}, {'displayName': 'aeroplane', 'id': '417824314159529984'}, {'displayName': 'background', 'id': '994285066462953472'}, {'id': '1570745818766376960', 'displayName': 'diningtable'}, {'id': '1858976194918088704', 'displayName': 'sofa'}, {'id': '2147206571069800448', 'displayName': 'dog'}, {'id': '2723667323373223936', 'displayName': 'pottedplant'}, {'id': '3011897699524935680', 'displayName': 'bus'}, {'id': '3300128075676647424', 'displayName': 'bird'}, {'displayName': 'horse', 'id': '3876588827980070912'}, {'displayName': 'bicycle', 'id': '4164819204131782656'}, {'displayName': 'train', 'id': '4453049580283494400'}, {'id': '5029510332586917888', 'displayName': 'cow'}, {'id': '5605971084890341376', 'displayName': 'person'}, {'displayName': 'boat', 'id': '6182431837193764864'}, {'id': '6470662213345476608', 'displayName': 'tv'}, {'displayName': 'sheep', 'id': '6758892589497188352'}, {'id': '7335353341800611840', 'displayName': 'bottle'}, {'id': '7623583717952323584', 'displayName': 'motorbike'}, {'id': '7911814094104035328', 'displayName': 'cat'}, {'id': '8488274846407458816', 'displayName': 'car'}, {'displayName': 'chair', 'id': '8776505222559170560'}]}, 'iouScore': 0.033091813, 'recall': 0.045454547}]\n"
     ]
    }
   ],
   "source": [
    "def list_model_evaluations(name):\n",
    "    response = clients['model'].list_model_evaluations(parent=name)\n",
    "    for evaluation in response:\n",
    "        print(\"model_evaluation\")\n",
    "        print(\" name:\", evaluation.name)\n",
    "        print(\" metrics_schema_uri:\", evaluation.metrics_schema_uri)\n",
    "        metrics = json_format.MessageToDict(evaluation._pb.metrics)\n",
    "        for metric in metrics.keys():\n",
    "            print(metric)\n",
    "        print('confidenceMetricsEntries', metrics['confidenceMetricsEntries'])\n",
    "\n",
    "\n",
    "    return evaluation.name\n",
    "\n",
    "\n",
    "last_evaluation = list_model_evaluations(model_to_deploy_id)"
   ]
  },
  {
   "cell_type": "markdown",
   "metadata": {
    "id": "create_endpoint:automl"
   },
   "source": [
    "## Deploy the `Model` resource\n",
    "\n",
    "Now deploy the trained AI Platform (Unified) `Model` resource you created with AutoML. This requires two steps:\n",
    "\n",
    "1. Create an `Endpoint` resource for deploying the `Model` resource to.\n",
    "\n",
    "2. Deploy the `Model` resource to the `Endpoint` resource."
   ]
  },
  {
   "cell_type": "markdown",
   "metadata": {
    "id": "create_endpoint"
   },
   "source": [
    "### Create an `Endpoint` resource\n",
    "\n",
    "Use this helper function `create_endpoint` to create an endpoint to deploy the model to for serving predictions, with the following parameter:\n",
    "\n",
    "- `display_name`: A human readable name for the `Endpoint` resource.\n",
    "\n",
    "The helper function uses the endpoint client service's `create_endpoint` method, which takes the following parameter:\n",
    "\n",
    "- `display_name`: A human readable name for the `Endpoint` resource.\n",
    "\n",
    "Creating an `Endpoint` resource returns a long running operation, since it may take a few moments to provision the `Endpoint` resource for serving. You call `response.result()`, which is a synchronous call and will return when the Endpoint resource is ready. The helper function returns the AI Platform (Unified) fully qualified identifier for the `Endpoint` resource: `response.name`."
   ]
  },
  {
   "cell_type": "code",
   "execution_count": 26,
   "metadata": {
    "id": "create_endpoint"
   },
   "outputs": [
    {
     "name": "stdout",
     "output_type": "stream",
     "text": [
      "Long running operation: projects/759209241365/locations/us-central1/endpoints/7134282351894331392/operations/239672644134240256\n",
      "result\n",
      " name: projects/759209241365/locations/us-central1/endpoints/7134282351894331392\n",
      " display_name: \n",
      " description: \n",
      " labels: {}\n",
      " create_time: None\n",
      " update_time: None\n"
     ]
    }
   ],
   "source": [
    "ENDPOINT_NAME = \"unknown_endpoint-\" + TIMESTAMP\n",
    "\n",
    "\n",
    "def create_endpoint(display_name):\n",
    "    endpoint = {\"display_name\": display_name}\n",
    "    response = clients['endpoint'].create_endpoint(parent=PARENT, endpoint=endpoint)\n",
    "    print(\"Long running operation:\", response.operation.name)\n",
    "\n",
    "    result = response.result(timeout=300)\n",
    "    print(\"result\")\n",
    "    print(\" name:\", result.name)\n",
    "    print(\" display_name:\", result.display_name)\n",
    "    print(\" description:\", result.description)\n",
    "    print(\" labels:\", result.labels)\n",
    "    print(\" create_time:\", result.create_time)\n",
    "    print(\" update_time:\", result.update_time)\n",
    "    return result\n",
    "\n",
    "\n",
    "result = create_endpoint(ENDPOINT_NAME)"
   ]
  },
  {
   "cell_type": "markdown",
   "metadata": {
    "id": "endpoint_id:result"
   },
   "source": [
    "Now get the unique identifier for the `Endpoint` resource you created."
   ]
  },
  {
   "cell_type": "code",
   "execution_count": 27,
   "metadata": {
    "id": "endpoint_id:result"
   },
   "outputs": [
    {
     "name": "stdout",
     "output_type": "stream",
     "text": [
      "projects/759209241365/locations/us-central1/endpoints/7134282351894331392\n"
     ]
    }
   ],
   "source": [
    "# The full unique ID for the endpoint\n",
    "endpoint_id = result.name\n",
    "# The short numeric ID for the endpoint\n",
    "endpoint_short_id = endpoint_id.split('/')[-1]\n",
    "\n",
    "print(endpoint_id)"
   ]
  },
  {
   "cell_type": "markdown",
   "metadata": {
    "id": "instance_scaling"
   },
   "source": [
    "### Compute instance scaling\n",
    "\n",
    "You have several choices on scaling the compute instances for handling your online prediction requests:\n",
    "\n",
    "- Single Instance: The online prediction requests are processed on a single compute instance.\n",
    "  - Set the minimum (`MIN_NODES`) and maximum (`MAX_NODES`) number of compute instances to one.\n",
    "\n",
    "\n",
    "- Manual Scaling: The online prediction requests are split across a fixed number of compute instances that you manually specified.\n",
    "  - Set the minimum (`MIN_NODES`) and maximum (`MAX_NODES`) number of compute instances to the same number of nodes. When a model is first deployed to the instance, the fixed number of compute instances are provisioned and online prediction requests are evenly distributed across them.\n",
    "\n",
    "The minimum number of compute instances corresponds to the field `min_replica_count` and the maximum number of compute instances corresponds to the field `max_replica_count`, in your subsequent deployment request."
   ]
  },
  {
   "cell_type": "code",
   "execution_count": 28,
   "metadata": {
    "id": "instance_scaling"
   },
   "outputs": [],
   "source": [
    "MIN_NODES = 1\n",
    "MAX_NODES = 1"
   ]
  },
  {
   "cell_type": "markdown",
   "metadata": {
    "id": "deploy_model:automatic"
   },
   "source": [
    "### Deploy `Model` resource to the `Endpoint` resource\n",
    "\n",
    "Use this helper function `deploy_model` to deploy the `Model` resource to the `Endpoint` resource you created for serving predictions, with the following parameters:\n",
    "\n",
    "- `model`: The AI Platform (Unified) fully qualified model identifier of the model to upload (deploy) from the training pipeline.\n",
    "- `deploy_model_display_name`: A human readable name for the deployed model.\n",
    "- `endpoint`: The AI Platform (Unified) fully qualified endpoint identifier to deploy the model to.\n",
    "\n",
    "The helper function calls the `Endpoint` client service's method `deploy_model`, which takes the following parameters:\n",
    "\n",
    "- `endpoint`: The AI Platform (Unified) fully qualified `Endpoint` resource identifier to deploy the `Model` resource to.\n",
    "- `deployed_model`: The requirements specification for deploying the model.\n",
    "- `traffic_split`: Percent of traffic at the endpoint that goes to this model, which is specified as a dictionary of one or more key/value pairs.\n",
    "   - If only one model, then specify as **{ \"0\": 100 }**, where \"0\" refers to this model being uploaded and 100 means 100% of the traffic.\n",
    "   - If there are existing models on the endpoint, for which the traffic will be split, then use `model_id` to specify as **{ \"0\": percent, model_id: percent, ... }**, where `model_id` is the model id of an existing model to the deployed endpoint. The percents must add up to 100.\n",
    "\n",
    "Let's now dive deeper into the `deployed_model` parameter. This parameter is specified as a Python dictionary with the minimum required fields:\n",
    "\n",
    "- `model`: The AI Platform (Unified) fully qualified model identifier of the (upload) model to deploy.\n",
    "- `display_name`: A human readable name for the deployed model.\n",
    "- `disable_container_logging`: This disables logging of container events, such as execution failures (default is container logging is enabled). Container logging is typically enabled when debugging the deployment and then disabled when deployed for production.\n",
    "- `automatic_resources`: This refers to how many redundant compute instances (replicas). For this example, we set it to one (no replication).\n",
    "\n",
    "#### Traffic Split\n",
    "\n",
    "Let's now dive deeper into the `traffic_split` parameter. This parameter is specified as a Python dictionary. This might at first be a tad bit confusing. Let me explain, you can deploy more than one instance of your model to an endpoint, and then set how much (percent) goes to each instance.\n",
    "\n",
    "Why would you do that? Perhaps you already have a previous version deployed in production -- let's call that v1. You got better model evaluation on v2, but you don't know for certain that it is really better until you deploy to production. So in the case of traffic split, you might want to deploy v2 to the same endpoint as v1, but it only get's say 10% of the traffic. That way, you can monitor how well it does without disrupting the majority of users -- until you make a final decision.\n",
    "\n",
    "#### Response\n",
    "\n",
    "The method returns a long running operation `response`. We will wait sychronously for the operation to complete by calling the `response.result()`, which will block until the model is deployed. If this is the first time a model is deployed to the endpoint, it may take a few additional minutes to complete provisioning of resources."
   ]
  },
  {
   "cell_type": "code",
   "execution_count": 29,
   "metadata": {
    "id": "deploy_model:automatic"
   },
   "outputs": [
    {
     "name": "stdout",
     "output_type": "stream",
     "text": [
      "Long running operation: projects/759209241365/locations/us-central1/endpoints/7134282351894331392/operations/8159815538818678784\n",
      "result\n",
      " deployed_model\n",
      "  id: 3147752256741310464\n",
      "  model: \n",
      "  display_name: \n",
      "  create_time: None\n"
     ]
    }
   ],
   "source": [
    "DEPLOYED_NAME = \"unknown_deployed-\" + TIMESTAMP\n",
    "\n",
    "\n",
    "def deploy_model(model, deployed_model_display_name, endpoint, traffic_split={\"0\": 100}):\n",
    "\n",
    "    deployed_model = {\n",
    "        \"model\": model,\n",
    "        \"display_name\": deployed_model_display_name,\n",
    "        \"automatic_resources\": {\n",
    "            \"min_replica_count\": MIN_NODES,\n",
    "            \"max_replica_count\": MAX_NODES\n",
    "        },\n",
    "    }\n",
    "\n",
    "\n",
    "\n",
    "    response = clients['endpoint'].deploy_model(\n",
    "        endpoint=endpoint, deployed_model=deployed_model, traffic_split=traffic_split)\n",
    "\n",
    "    print(\"Long running operation:\", response.operation.name)\n",
    "    result = response.result()\n",
    "    print(\"result\")\n",
    "    deployed_model = result.deployed_model\n",
    "    print(\" deployed_model\")\n",
    "    print(\"  id:\", deployed_model.id)\n",
    "    print(\"  model:\", deployed_model.model)\n",
    "    print(\"  display_name:\", deployed_model.display_name)\n",
    "    print(\"  create_time:\", deployed_model.create_time)\n",
    "\n",
    "    return deployed_model.id\n",
    "\n",
    "\n",
    "deployed_model_id = deploy_model(model_to_deploy_id, DEPLOYED_NAME, endpoint_id)"
   ]
  },
  {
   "cell_type": "markdown",
   "metadata": {
    "id": "make_prediction"
   },
   "source": [
    "## Make a online prediction request\n",
    "\n",
    "Now do a online prediction to your deployed model."
   ]
  },
  {
   "cell_type": "markdown",
   "metadata": {
    "id": "get_test_item"
   },
   "source": [
    "### Get test item\n",
    "\n",
    "You will use an arbitrary example out of the dataset as a test item. Don't be concerned that the example was likely used in training the model -- we just want to demonstrate how to make a prediction."
   ]
  },
  {
   "cell_type": "code",
   "execution_count": 30,
   "metadata": {
    "id": "get_test_item:automl,isg,jsonl"
   },
   "outputs": [
    {
     "name": "stdout",
     "output_type": "stream",
     "text": [
      "gs://ucaip-test-us-central1/dataset/image/isg_data/MjAwN18wMDA0NTI_image.png [{'color': {'red': 0.00392156862745098, 'blue': 0.00392156862745098, 'green': 0.00392156862745098}, 'displayName': 'background'}, {'color': {'red': 0.00784313725490196, 'blue': 0.00784313725490196, 'green': 0.00784313725490196}, 'displayName': 'aeroplane'}, {'color': {'red': 0.011764705882352941, 'blue': 0.011764705882352941, 'green': 0.011764705882352941}, 'displayName': 'bicycle'}, {'color': {'red': 0.01568627450980392, 'blue': 0.01568627450980392, 'green': 0.01568627450980392}, 'displayName': 'bird'}, {'color': {'red': 0.0196078431372549, 'blue': 0.0196078431372549, 'green': 0.0196078431372549}, 'displayName': 'boat'}, {'color': {'red': 0.023529411764705882, 'blue': 0.023529411764705882, 'green': 0.023529411764705882}, 'displayName': 'bottle'}, {'color': {'red': 0.027450980392156862, 'blue': 0.027450980392156862, 'green': 0.027450980392156862}, 'displayName': 'bus'}, {'color': {'red': 0.03137254901960784, 'blue': 0.03137254901960784, 'green': 0.03137254901960784}, 'displayName': 'car'}, {'color': {'red': 0.03529411764705882, 'blue': 0.03529411764705882, 'green': 0.03529411764705882}, 'displayName': 'cat'}, {'color': {'red': 0.0392156862745098, 'blue': 0.0392156862745098, 'green': 0.0392156862745098}, 'displayName': 'chair'}, {'color': {'red': 0.043137254901960784, 'blue': 0.043137254901960784, 'green': 0.043137254901960784}, 'displayName': 'cow'}, {'color': {'red': 0.047058823529411764, 'blue': 0.047058823529411764, 'green': 0.047058823529411764}, 'displayName': 'diningtable'}, {'color': {'red': 0.050980392156862744, 'blue': 0.050980392156862744, 'green': 0.050980392156862744}, 'displayName': 'dog'}, {'color': {'red': 0.054901960784313725, 'blue': 0.054901960784313725, 'green': 0.054901960784313725}, 'displayName': 'horse'}, {'color': {'red': 0.058823529411764705, 'blue': 0.058823529411764705, 'green': 0.058823529411764705}, 'displayName': 'motorbike'}, {'color': {'red': 0.06274509803921569, 'blue': 0.06274509803921569, 'green': 0.06274509803921569}, 'displayName': 'person'}, {'color': {'red': 0.06666666666666667, 'blue': 0.06666666666666667, 'green': 0.06666666666666667}, 'displayName': 'pottedplant'}, {'color': {'red': 0.07058823529411765, 'blue': 0.07058823529411765, 'green': 0.07058823529411765}, 'displayName': 'sheep'}, {'color': {'red': 0.07450980392156863, 'blue': 0.07450980392156863, 'green': 0.07450980392156863}, 'displayName': 'sofa'}, {'color': {'red': 0.0784313725490196, 'blue': 0.0784313725490196, 'green': 0.0784313725490196}, 'displayName': 'train'}, {'color': {'red': 0.08235294117647059, 'blue': 0.08235294117647059, 'green': 0.08235294117647059}, 'displayName': 'tv'}]\n"
     ]
    }
   ],
   "source": [
    "import json\n",
    "test_items = !gsutil cat $IMPORT_FILE | head -n1\n",
    "test_data = test_items[0].replace(\"'\", '\"')\n",
    "test_data = json.loads(test_data)\n",
    "try:\n",
    "    test_item = test_data['image_gcs_uri']\n",
    "    test_label = test_data['segmentation_annotation']['annotation_spec_colors']\n",
    "except:\n",
    "    test_item = test_data['imageGcsUri']\n",
    "    test_label = test_data['segmentationAnnotation']['annotationSpecColors']\n",
    "\n",
    "print(test_item, test_label)"
   ]
  },
  {
   "cell_type": "markdown",
   "metadata": {
    "id": "predict_item:automl,isg"
   },
   "source": [
    "### Make a prediction\n",
    "\n",
    "Now you have a test item. Use this helper function `predict_item`, which takes the following parameters:\n",
    "\n",
    "- `filename`: The Cloud Storage path to the test item.\n",
    "- `endpoint`: The AI Platform (Unified) fully qualified identifier for the `Endpoint` resource where the `Model` resource was deployed.\n",
    "- `parameters_dict`: Additional filtering parameters for serving prediction results.\n",
    "\n",
    "This function calls the prediction client service's `predict` method with the following parameters:\n",
    "\n",
    "- `endpoint`: The AI Platform (Unified) fully qualified identifier for the `Endpoint` resource where the `Model` resource was deployed.\n",
    "- `instances`: A list of instances (encoded images) to predict.\n",
    "- `parameters`: Additional filtering parameters for serving prediction results.  *Note*, image segmentation models do not support additional parameters.\n",
    "\n",
    "Since in this example your test item is in a Cloud Storage bucket, you will open and read the contents of the imageusing `tf.io.gfile.Gfile()`. To pass the test data to the prediction service, we will encode the bytes into base 64 --  This makes binary data safe from modification while it is transferred over the Internet.\n",
    "\n",
    "Since the `predict()` method can take multiple items (instances), you send our single test item as a list of one test item. As a final step, you package the instances list into Google's protobuf format -- which is what we pass to the `predict()` method.\n",
    "\n",
    "The `response` object returns a list, where each element in the list corresponds to the corresponding image in the request. You will see in the output for each prediction -- in our case there is just one:\n",
    "\n",
    "- Confidence level in the prediction (confidences).\n",
    "- The predicted label (displayNames).\n",
    "- The bounding box for the label (bboxes)."
   ]
  },
  {
   "cell_type": "code",
   "execution_count": 31,
   "metadata": {
    "id": "predict_item:automl,isg"
   },
   "outputs": [
    {
     "name": "stdout",
     "output_type": "stream",
     "text": [
      "response\n",
      " deployed_model_id: 3147752256741310464\n",
      "predictions\n",
      " prediction: {'confidenceMask': 'iVBORw0KGgoAAAANSUhEUgAAAfQAAAF3CAAAAAB2meYgAAAAzUlEQVR4nO3BMQEAAADCoPVPbQZ/oAAAAAAAAAAAAAAAAAAAAAAAAAAAAAAAAAAAAAAAAAAAAAAAAAAAAAAAAAAAAAAAAAAAAAAAAAAAAAAAAAAAAAAAAAAAAAAAAAAAAAAAAAAAAAAAAAAAAAAAAAAAAAAAAAAAAAAAAAAAAAAAAAAAAAAAAAAAAAAAAAAAAAAAAAAAAAAAAAAAAAAAAAAAAAAAAAAAAAAAAAAAAAAAAAAAAAAAAAAAAAAAAAAAAAAAAAAAAAAAAAAAbgPeAQABxZ9fLAAAAABJRU5ErkJggg==', 'categoryMask': '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'}\n"
     ]
    }
   ],
   "source": [
    "import tensorflow as tf\n",
    "import base64\n",
    "\n",
    "\n",
    "def predict_item(filename, endpoint, parameters_dict):\n",
    "\n",
    "    parameters = json_format.ParseDict(parameters_dict, Value())\n",
    "    with tf.io.gfile.GFile(filename, \"rb\") as f:\n",
    "        content = f.read()\n",
    "    # The format of each instance should conform to the deployed model's prediction input schema.\n",
    "    instances_list = [{\"content\": base64.b64encode(content).decode(\"utf-8\")}]\n",
    "    instances = [json_format.ParseDict(s, Value()) for s in instances_list]\n",
    "\n",
    "    response = clients['prediction'].predict(endpoint=endpoint, instances=instances, parameters=parameters)\n",
    "    print(\"response\")\n",
    "    print(\" deployed_model_id:\", response.deployed_model_id)\n",
    "    predictions = response.predictions\n",
    "    print(\"predictions\")\n",
    "    for prediction in predictions:\n",
    "        print(\" prediction:\", dict(prediction))\n",
    "\n",
    "\n",
    "predict_item(test_item, endpoint_id, None)"
   ]
  },
  {
   "cell_type": "markdown",
   "metadata": {
    "id": "undeploy_model"
   },
   "source": [
    "## Undeploy the `Model` resource\n",
    "\n",
    "Now undeploy your `Model` resource from the serving `Endpoint` resoure. Use this helper function `undeploy_model`, which takes the following parameters:\n",
    "\n",
    "- `deployed_model_id`: The model deployment identifier returned by the endpoint service when the `Model` resource was deployed to.\n",
    "- `endpoint`: The AI Platform (Unified) fully qualified identifier for the `Endpoint` resource where the `Model` is deployed to.\n",
    "\n",
    "This function calls the endpoint client service's method `undeploy_model`, with the following parameters:\n",
    "\n",
    "- `deployed_model_id`: The model deployment identifier returned by the endpoint service when the `Model` resource was deployed.\n",
    "- `endpoint`: The AI Platform (Unified) fully qualified identifier for the `Endpoint` resource where the `Model` resource is deployed.\n",
    "- `traffic_split`: How to split traffic among the remaining deployed models on the `Endpoint` resource.\n",
    "\n",
    "Since this is the only deployed model on the `Endpoint` resource, you simply can leave `traffic_split` empty by setting it to {}."
   ]
  },
  {
   "cell_type": "code",
   "execution_count": 32,
   "metadata": {
    "id": "undeploy_model"
   },
   "outputs": [
    {
     "name": "stdout",
     "output_type": "stream",
     "text": [
      "<google.api_core.operation.Operation object at 0x7f6ea062f390>\n"
     ]
    }
   ],
   "source": [
    "def undeploy_model(deployed_model_id, endpoint):\n",
    "    response = clients['endpoint'].undeploy_model(endpoint=endpoint, deployed_model_id=deployed_model_id, traffic_split={})\n",
    "    print(response)\n",
    "\n",
    "\n",
    "undeploy_model(deployed_model_id, endpoint_id)"
   ]
  },
  {
   "cell_type": "markdown",
   "metadata": {
    "id": "cleanup"
   },
   "source": [
    "# Cleaning up\n",
    "\n",
    "To clean up all GCP resources used in this project, you can [delete the GCP\n",
    "project](https://cloud.google.com/resource-manager/docs/creating-managing-projects#shutting_down_projects) you used for the tutorial.\n",
    "\n",
    "Otherwise, you can delete the individual resources you created in this tutorial:\n",
    "\n",
    "- Dataset\n",
    "- Pipeline\n",
    "- Model\n",
    "- Endpoint\n",
    "- Batch Job\n",
    "- Cloud Storage Bucket"
   ]
  },
  {
   "cell_type": "code",
   "execution_count": 33,
   "metadata": {
    "id": "cleanup"
   },
   "outputs": [
    {
     "name": "stdout",
     "output_type": "stream",
     "text": [
      "'job'\n"
     ]
    }
   ],
   "source": [
    "delete_dataset = True\n",
    "delete_pipeline = True\n",
    "delete_model = True\n",
    "delete_endpoint = True\n",
    "delete_batchjob = True\n",
    "delete_bucket = True\n",
    "\n",
    "# Delete the dataset using the AI Platform (Unified) fully qualified identifier for the dataset\n",
    "try:\n",
    "    if delete_dataset:\n",
    "        clients['dataset'].delete_dataset(name=dataset_id)\n",
    "except Exception as e:\n",
    "    print(e)\n",
    "\n",
    "# Delete the training pipeline using the AI Platform (Unified) fully qualified identifier for the pipeline\n",
    "try:\n",
    "    if delete_pipeline:\n",
    "        clients['pipeline'].delete_training_pipeline(name=pipeline_id)\n",
    "except Exception as e:\n",
    "    print(e)\n",
    "\n",
    "# Delete the model using the AI Platform (Unified) fully qualified identifier for the model\n",
    "try:\n",
    "    if delete_model:\n",
    "        clients['model'].delete_model(name=model_to_deploy_id)\n",
    "except Exception as e:\n",
    "    print(e)\n",
    "\n",
    "# Delete the endpoint using the AI Platform (Unified) fully qualified identifier for the endpoint\n",
    "try:\n",
    "    if delete_endpoint:\n",
    "        clients['endpoint'].delete_endpoint(name=endpoint_id)\n",
    "except Exception as e:\n",
    "    print(e)\n",
    "\n",
    "# Delete the batch job using the AI Platform (Unified) fully qualified identifier for the batch job\n",
    "try:\n",
    "    if delete_batchjob:\n",
    "        clients['job'].delete_batch_prediction_job(name=batch_job_id)\n",
    "except Exception as e:\n",
    "    print(e)\n",
    "\n",
    "if delete_bucket and 'BUCKET_NAME' in globals():\n",
    "    ! gsutil rm -r $BUCKET_NAME"
   ]
  },
  {
   "cell_type": "markdown",
   "metadata": {},
   "source": []
  }
 ],
 "metadata": {
  "kernelspec": {
   "display_name": "Python 3",
   "language": "python",
   "name": "python3"
  },
  "language_info": {
   "codemirror_mode": {
    "name": "ipython",
    "version": 3
   },
   "file_extension": ".py",
   "mimetype": "text/x-python",
   "name": "python",
   "nbconvert_exporter": "python",
   "pygments_lexer": "ipython3",
   "version": "3.7.6"
  }
 },
 "nbformat": 4,
 "nbformat_minor": 4
}
