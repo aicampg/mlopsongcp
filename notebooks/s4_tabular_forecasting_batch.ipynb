{
 "cells": [
  {
   "cell_type": "code",
   "execution_count": 1,
   "metadata": {
    "id": "copyright"
   },
   "outputs": [],
   "source": [
    "# Copyright 2020 Google LLC\n",
    "#\n",
    "# Licensed under the Apache License, Version 2.0 (the \"License\");\n",
    "# you may not use this file except in compliance with the License.\n",
    "# You may obtain a copy of the License at\n",
    "#\n",
    "#     https://www.apache.org/licenses/LICENSE-2.0\n",
    "#\n",
    "# Unless required by applicable law or agreed to in writing, software\n",
    "# distributed under the License is distributed on an \"AS IS\" BASIS,\n",
    "# WITHOUT WARRANTIES OR CONDITIONS OF ANY KIND, either express or implied.\n",
    "# See the License for the specific language governing permissions and\n",
    "# limitations under the License."
   ]
  },
  {
   "cell_type": "markdown",
   "metadata": {
    "id": "title"
   },
   "source": [
    "# AI Platform (Unified) client library: AutoML tabular forecasting model for batch prediction\n",
    "\n",
    "<table align=\"left\">\n",
    "  <td>\n",
    "    <a href=\"https://colab.research.google.com/github/GoogleCloudPlatform/ai-platform-samples/blob/master/ai-platform-unified/showcase_automl_tabular_forecasting_batch.ipynb\">\n",
    "      <img src=\"https://cloud.google.com/ml-engine/images/colab-logo-32px.png\" alt=\"Colab logo\"> Run in Colab\n",
    "    </a>\n",
    "  </td>\n",
    "  <td>\n",
    "    <a href=\"https://github.com/GoogleCloudPlatform/ai-platform-samples/blob/master/ai-platform-unified/showcase_automl_tabular_forecasting_batch.ipynb\">\n",
    "      <img src=\"https://cloud.google.com/ml-engine/images/github-logo-32px.png\" alt=\"GitHub logo\">\n",
    "      View on GitHub\n",
    "    </a>\n",
    "  </td>\n",
    "</table>\n",
    "<br/><br/><br/>"
   ]
  },
  {
   "cell_type": "markdown",
   "metadata": {
    "id": "overview:automl"
   },
   "source": [
    "## Overview\n",
    "\n",
    "\n",
    "This tutorial demonstrates how to use the AI Platform (Unified) Python client library to create tabular forecasting models and do batch prediction using Google Cloud's [AutoML](https://cloud.google.com/ai-platform-unified/docs/start/automl-users)."
   ]
  },
  {
   "cell_type": "markdown",
   "metadata": {
    "id": "dataset:covid,forecast"
   },
   "source": [
    "### Dataset\n",
    "\n",
    "The dataset used for this tutorial is the BigQuery public dataset, [The New York Times US Coronavirus Database](https://pantheon.corp.google.com/marketplace/product/the-new-york-times/covid19_us_cases). This dataset does not require any feature engineering. The version of the dataset you will use in this tutorial is stored in a public Cloud Storage bucket."
   ]
  },
  {
   "cell_type": "markdown",
   "metadata": {
    "id": "objective:automl,training,batch_prediction"
   },
   "source": [
    "### Objective\n",
    "\n",
    "In this notebook, you create an AutoML tabular forecasting model from a Python script, and then do a batch prediction using the AI Platform (Unified) client library. You can alternatively create and deploy models using the `gcloud` command-line tool or online using the Google Cloud Console.\n",
    "\n",
    "The steps performed include:\n",
    "\n",
    "- Create an AI Platform (Unified) `Dataset` resource.\n",
    "- Train the model.\n",
    "- View the model evaluation.\n",
    "- Make a batch prediction.\n",
    "\n",
    "There is one key difference between using batch prediction and using online prediction:\n",
    "\n",
    "* Prediction Service: Does an on-demand prediction for the entire set of instances (i.e., one or more data items) and returns the results in real-time.\n",
    "\n",
    "* Batch Prediction Service: Does a queued (batch) prediction for the entire set of instances in the background and stores the results in a Cloud Storage bucket when ready."
   ]
  },
  {
   "cell_type": "markdown",
   "metadata": {
    "id": "costs"
   },
   "source": [
    "### Costs\n",
    "\n",
    "This tutorial uses billable components of Google Cloud (GCP):\n",
    "\n",
    "* AI Platform (Unified)\n",
    "* Cloud Storage\n",
    "\n",
    "Learn about [Cloud AI Platform\n",
    "pricing](https://cloud.google.com/ai-platform-unified/pricing) and [Cloud Storage\n",
    "pricing](https://cloud.google.com/storage/pricing), and use the [Pricing\n",
    "Calculator](https://cloud.google.com/products/calculator/)\n",
    "to generate a cost estimate based on your projected usage."
   ]
  },
  {
   "cell_type": "markdown",
   "metadata": {
    "id": "install_aip"
   },
   "source": [
    "## Installation\n",
    "\n",
    "Install the latest (preview) version of AI Platform (Unified) client library."
   ]
  },
  {
   "cell_type": "code",
   "execution_count": 2,
   "metadata": {
    "id": "install_aip"
   },
   "outputs": [
    {
     "name": "stdout",
     "output_type": "stream",
     "text": [
      "Error processing line 1 of /home/jupyter/.local/lib/python3.7/site-packages/google-cloud-aiplatform-nspkg.pth:\n",
      "\n",
      "  Traceback (most recent call last):\n",
      "    File \"/opt/conda/lib/python3.7/site.py\", line 168, in addpackage\n",
      "      exec(line)\n",
      "    File \"<string>\", line 1, in <module>\n",
      "    File \"<frozen importlib._bootstrap>\", line 580, in module_from_spec\n",
      "  AttributeError: 'NoneType' object has no attribute 'loader'\n",
      "\n",
      "Remainder of file ignored\n",
      "Error processing line 1 of /opt/conda/lib/python3.7/site-packages/google-cloud-aiplatform-nspkg.pth:\n",
      "\n",
      "  Traceback (most recent call last):\n",
      "    File \"/opt/conda/lib/python3.7/site.py\", line 168, in addpackage\n",
      "      exec(line)\n",
      "    File \"<string>\", line 1, in <module>\n",
      "    File \"<frozen importlib._bootstrap>\", line 580, in module_from_spec\n",
      "  AttributeError: 'NoneType' object has no attribute 'loader'\n",
      "\n",
      "Remainder of file ignored\n",
      "Requirement already up-to-date: google-cloud-aiplatform in ./.local/lib/python3.7/site-packages (0.6.0)\n",
      "Requirement already satisfied, skipping upgrade: google-cloud-storage<2.0.0dev,>=1.26.0 in /opt/conda/lib/python3.7/site-packages (from google-cloud-aiplatform) (1.37.0)\n",
      "Requirement already satisfied, skipping upgrade: proto-plus>=1.10.1 in /opt/conda/lib/python3.7/site-packages (from google-cloud-aiplatform) (1.10.1)\n",
      "Requirement already satisfied, skipping upgrade: google-api-core[grpc]<2.0.0dev,>=1.22.2 in /opt/conda/lib/python3.7/site-packages (from google-cloud-aiplatform) (1.22.4)\n",
      "Requirement already satisfied, skipping upgrade: google-auth<2.0dev,>=1.11.0 in /opt/conda/lib/python3.7/site-packages (from google-cloud-storage<2.0.0dev,>=1.26.0->google-cloud-aiplatform) (1.22.1)\n",
      "Requirement already satisfied, skipping upgrade: requests<3.0.0dev,>=2.18.0 in /opt/conda/lib/python3.7/site-packages (from google-cloud-storage<2.0.0dev,>=1.26.0->google-cloud-aiplatform) (2.24.0)\n",
      "Requirement already satisfied, skipping upgrade: google-resumable-media<2.0dev,>=1.2.0 in /opt/conda/lib/python3.7/site-packages (from google-cloud-storage<2.0.0dev,>=1.26.0->google-cloud-aiplatform) (1.2.0)\n",
      "Requirement already satisfied, skipping upgrade: google-cloud-core<2.0dev,>=1.4.1 in /opt/conda/lib/python3.7/site-packages (from google-cloud-storage<2.0.0dev,>=1.26.0->google-cloud-aiplatform) (1.6.0)\n",
      "Requirement already satisfied, skipping upgrade: protobuf>=3.12.0 in /opt/conda/lib/python3.7/site-packages (from proto-plus>=1.10.1->google-cloud-aiplatform) (3.12.2)\n",
      "Requirement already satisfied, skipping upgrade: pytz in /opt/conda/lib/python3.7/site-packages (from google-api-core[grpc]<2.0.0dev,>=1.22.2->google-cloud-aiplatform) (2019.3)\n",
      "Requirement already satisfied, skipping upgrade: six>=1.13.0 in /opt/conda/lib/python3.7/site-packages (from google-api-core[grpc]<2.0.0dev,>=1.22.2->google-cloud-aiplatform) (1.14.0)\n",
      "Requirement already satisfied, skipping upgrade: googleapis-common-protos<2.0dev,>=1.6.0 in /opt/conda/lib/python3.7/site-packages (from google-api-core[grpc]<2.0.0dev,>=1.22.2->google-cloud-aiplatform) (1.51.0)\n",
      "Requirement already satisfied, skipping upgrade: setuptools>=34.0.0 in /opt/conda/lib/python3.7/site-packages (from google-api-core[grpc]<2.0.0dev,>=1.22.2->google-cloud-aiplatform) (45.2.0.post20200209)\n",
      "Requirement already satisfied, skipping upgrade: grpcio<2.0dev,>=1.29.0; extra == \"grpc\" in ./.local/lib/python3.7/site-packages (from google-api-core[grpc]<2.0.0dev,>=1.22.2->google-cloud-aiplatform) (1.29.0)\n",
      "Requirement already satisfied, skipping upgrade: cachetools<5.0,>=2.0.0 in ./.local/lib/python3.7/site-packages (from google-auth<2.0dev,>=1.11.0->google-cloud-storage<2.0.0dev,>=1.26.0->google-cloud-aiplatform) (3.1.1)\n",
      "Requirement already satisfied, skipping upgrade: rsa<5,>=3.1.4; python_version >= \"3.5\" in /opt/conda/lib/python3.7/site-packages (from google-auth<2.0dev,>=1.11.0->google-cloud-storage<2.0.0dev,>=1.26.0->google-cloud-aiplatform) (4.0)\n",
      "Requirement already satisfied, skipping upgrade: pyasn1-modules>=0.2.1 in /opt/conda/lib/python3.7/site-packages (from google-auth<2.0dev,>=1.11.0->google-cloud-storage<2.0.0dev,>=1.26.0->google-cloud-aiplatform) (0.2.8)\n",
      "Requirement already satisfied, skipping upgrade: chardet<4,>=3.0.2 in /opt/conda/lib/python3.7/site-packages (from requests<3.0.0dev,>=2.18.0->google-cloud-storage<2.0.0dev,>=1.26.0->google-cloud-aiplatform) (3.0.4)\n",
      "Requirement already satisfied, skipping upgrade: urllib3!=1.25.0,!=1.25.1,<1.26,>=1.21.1 in /opt/conda/lib/python3.7/site-packages (from requests<3.0.0dev,>=2.18.0->google-cloud-storage<2.0.0dev,>=1.26.0->google-cloud-aiplatform) (1.25.8)\n",
      "Requirement already satisfied, skipping upgrade: idna<3,>=2.5 in /opt/conda/lib/python3.7/site-packages (from requests<3.0.0dev,>=2.18.0->google-cloud-storage<2.0.0dev,>=1.26.0->google-cloud-aiplatform) (2.9)\n",
      "Requirement already satisfied, skipping upgrade: certifi>=2017.4.17 in /opt/conda/lib/python3.7/site-packages (from requests<3.0.0dev,>=2.18.0->google-cloud-storage<2.0.0dev,>=1.26.0->google-cloud-aiplatform) (2020.6.20)\n",
      "Requirement already satisfied, skipping upgrade: google-crc32c<2.0dev,>=1.0; python_version >= \"3.5\" in /opt/conda/lib/python3.7/site-packages (from google-resumable-media<2.0dev,>=1.2.0->google-cloud-storage<2.0.0dev,>=1.26.0->google-cloud-aiplatform) (1.1.2)\n",
      "Requirement already satisfied, skipping upgrade: pyasn1>=0.1.3 in /opt/conda/lib/python3.7/site-packages (from rsa<5,>=3.1.4; python_version >= \"3.5\"->google-auth<2.0dev,>=1.11.0->google-cloud-storage<2.0.0dev,>=1.26.0->google-cloud-aiplatform) (0.4.8)\n",
      "Requirement already satisfied, skipping upgrade: cffi>=1.0.0 in /opt/conda/lib/python3.7/site-packages (from google-crc32c<2.0dev,>=1.0; python_version >= \"3.5\"->google-resumable-media<2.0dev,>=1.2.0->google-cloud-storage<2.0.0dev,>=1.26.0->google-cloud-aiplatform) (1.13.2)\n",
      "Requirement already satisfied, skipping upgrade: pycparser in /opt/conda/lib/python3.7/site-packages (from cffi>=1.0.0->google-crc32c<2.0dev,>=1.0; python_version >= \"3.5\"->google-resumable-media<2.0dev,>=1.2.0->google-cloud-storage<2.0.0dev,>=1.26.0->google-cloud-aiplatform) (2.19)\n",
      "\u001b[33mWARNING: You are using pip version 20.1.1; however, version 21.0.1 is available.\n",
      "You should consider upgrading via the '/opt/conda/bin/python3.7 -m pip install --upgrade pip' command.\u001b[0m\n"
     ]
    }
   ],
   "source": [
    "! pip3 install -U google-cloud-aiplatform --user"
   ]
  },
  {
   "cell_type": "markdown",
   "metadata": {
    "id": "install_storage"
   },
   "source": [
    "Install the latest GA version of *google-cloud-storage* library as well."
   ]
  },
  {
   "cell_type": "code",
   "execution_count": 3,
   "metadata": {
    "id": "install_storage"
   },
   "outputs": [
    {
     "name": "stdout",
     "output_type": "stream",
     "text": [
      "Error processing line 1 of /home/jupyter/.local/lib/python3.7/site-packages/google-cloud-aiplatform-nspkg.pth:\n",
      "\n",
      "  Traceback (most recent call last):\n",
      "    File \"/opt/conda/lib/python3.7/site.py\", line 168, in addpackage\n",
      "      exec(line)\n",
      "    File \"<string>\", line 1, in <module>\n",
      "    File \"<frozen importlib._bootstrap>\", line 580, in module_from_spec\n",
      "  AttributeError: 'NoneType' object has no attribute 'loader'\n",
      "\n",
      "Remainder of file ignored\n",
      "Error processing line 1 of /opt/conda/lib/python3.7/site-packages/google-cloud-aiplatform-nspkg.pth:\n",
      "\n",
      "  Traceback (most recent call last):\n",
      "    File \"/opt/conda/lib/python3.7/site.py\", line 168, in addpackage\n",
      "      exec(line)\n",
      "    File \"<string>\", line 1, in <module>\n",
      "    File \"<frozen importlib._bootstrap>\", line 580, in module_from_spec\n",
      "  AttributeError: 'NoneType' object has no attribute 'loader'\n",
      "\n",
      "Remainder of file ignored\n",
      "Requirement already up-to-date: google-cloud-storage in /opt/conda/lib/python3.7/site-packages (1.37.0)\n",
      "Requirement already satisfied, skipping upgrade: requests<3.0.0dev,>=2.18.0 in /opt/conda/lib/python3.7/site-packages (from google-cloud-storage) (2.24.0)\n",
      "Requirement already satisfied, skipping upgrade: google-resumable-media<2.0dev,>=1.2.0 in /opt/conda/lib/python3.7/site-packages (from google-cloud-storage) (1.2.0)\n",
      "Requirement already satisfied, skipping upgrade: google-cloud-core<2.0dev,>=1.4.1 in /opt/conda/lib/python3.7/site-packages (from google-cloud-storage) (1.6.0)\n",
      "Requirement already satisfied, skipping upgrade: google-auth<2.0dev,>=1.11.0 in /opt/conda/lib/python3.7/site-packages (from google-cloud-storage) (1.22.1)\n",
      "Requirement already satisfied, skipping upgrade: idna<3,>=2.5 in /opt/conda/lib/python3.7/site-packages (from requests<3.0.0dev,>=2.18.0->google-cloud-storage) (2.9)\n",
      "Requirement already satisfied, skipping upgrade: urllib3!=1.25.0,!=1.25.1,<1.26,>=1.21.1 in /opt/conda/lib/python3.7/site-packages (from requests<3.0.0dev,>=2.18.0->google-cloud-storage) (1.25.8)\n",
      "Requirement already satisfied, skipping upgrade: chardet<4,>=3.0.2 in /opt/conda/lib/python3.7/site-packages (from requests<3.0.0dev,>=2.18.0->google-cloud-storage) (3.0.4)\n",
      "Requirement already satisfied, skipping upgrade: certifi>=2017.4.17 in /opt/conda/lib/python3.7/site-packages (from requests<3.0.0dev,>=2.18.0->google-cloud-storage) (2020.6.20)\n",
      "Requirement already satisfied, skipping upgrade: google-crc32c<2.0dev,>=1.0; python_version >= \"3.5\" in /opt/conda/lib/python3.7/site-packages (from google-resumable-media<2.0dev,>=1.2.0->google-cloud-storage) (1.1.2)\n",
      "Requirement already satisfied, skipping upgrade: six in /opt/conda/lib/python3.7/site-packages (from google-resumable-media<2.0dev,>=1.2.0->google-cloud-storage) (1.14.0)\n",
      "Requirement already satisfied, skipping upgrade: google-api-core<2.0.0dev,>=1.21.0 in /opt/conda/lib/python3.7/site-packages (from google-cloud-core<2.0dev,>=1.4.1->google-cloud-storage) (1.22.4)\n",
      "Requirement already satisfied, skipping upgrade: cachetools<5.0,>=2.0.0 in ./.local/lib/python3.7/site-packages (from google-auth<2.0dev,>=1.11.0->google-cloud-storage) (3.1.1)\n",
      "Requirement already satisfied, skipping upgrade: pyasn1-modules>=0.2.1 in /opt/conda/lib/python3.7/site-packages (from google-auth<2.0dev,>=1.11.0->google-cloud-storage) (0.2.8)\n",
      "Requirement already satisfied, skipping upgrade: setuptools>=40.3.0 in /opt/conda/lib/python3.7/site-packages (from google-auth<2.0dev,>=1.11.0->google-cloud-storage) (45.2.0.post20200209)\n",
      "Requirement already satisfied, skipping upgrade: rsa<5,>=3.1.4; python_version >= \"3.5\" in /opt/conda/lib/python3.7/site-packages (from google-auth<2.0dev,>=1.11.0->google-cloud-storage) (4.0)\n",
      "Requirement already satisfied, skipping upgrade: cffi>=1.0.0 in /opt/conda/lib/python3.7/site-packages (from google-crc32c<2.0dev,>=1.0; python_version >= \"3.5\"->google-resumable-media<2.0dev,>=1.2.0->google-cloud-storage) (1.13.2)\n",
      "Requirement already satisfied, skipping upgrade: protobuf>=3.12.0 in /opt/conda/lib/python3.7/site-packages (from google-api-core<2.0.0dev,>=1.21.0->google-cloud-core<2.0dev,>=1.4.1->google-cloud-storage) (3.12.2)\n",
      "Requirement already satisfied, skipping upgrade: googleapis-common-protos<2.0dev,>=1.6.0 in /opt/conda/lib/python3.7/site-packages (from google-api-core<2.0.0dev,>=1.21.0->google-cloud-core<2.0dev,>=1.4.1->google-cloud-storage) (1.51.0)\n",
      "Requirement already satisfied, skipping upgrade: pytz in /opt/conda/lib/python3.7/site-packages (from google-api-core<2.0.0dev,>=1.21.0->google-cloud-core<2.0dev,>=1.4.1->google-cloud-storage) (2019.3)\n",
      "Requirement already satisfied, skipping upgrade: pyasn1<0.5.0,>=0.4.6 in /opt/conda/lib/python3.7/site-packages (from pyasn1-modules>=0.2.1->google-auth<2.0dev,>=1.11.0->google-cloud-storage) (0.4.8)\n",
      "Requirement already satisfied, skipping upgrade: pycparser in /opt/conda/lib/python3.7/site-packages (from cffi>=1.0.0->google-crc32c<2.0dev,>=1.0; python_version >= \"3.5\"->google-resumable-media<2.0dev,>=1.2.0->google-cloud-storage) (2.19)\n",
      "\u001b[33mWARNING: You are using pip version 20.1.1; however, version 21.0.1 is available.\n",
      "You should consider upgrading via the '/opt/conda/bin/python3.7 -m pip install --upgrade pip' command.\u001b[0m\n"
     ]
    }
   ],
   "source": [
    "! pip3 install -U google-cloud-storage"
   ]
  },
  {
   "cell_type": "markdown",
   "metadata": {
    "id": "restart"
   },
   "source": [
    "### Restart the kernel\n",
    "\n",
    "Once you've installed the AI Platform (Unified) client library and Google *cloud-storage*, you need to restart the notebook kernel so it can find the packages."
   ]
  },
  {
   "cell_type": "code",
   "execution_count": 4,
   "metadata": {
    "id": "restart"
   },
   "outputs": [],
   "source": [
    "import os\n",
    "if not os.getenv(\"AUTORUN\"):\n",
    "    # Automatically restart kernel after installs\n",
    "    import IPython\n",
    "    app = IPython.Application.instance()\n",
    "    app.kernel.do_shutdown(True)"
   ]
  },
  {
   "cell_type": "markdown",
   "metadata": {
    "id": "before_you_begin"
   },
   "source": [
    "## Before you begin\n",
    "\n",
    "### GPU runtime\n",
    "\n",
    "*Make sure you're running this notebook in a GPU runtime if you have that option. In Colab, select* **Runtime > Change Runtime Type > GPU**\n",
    "\n",
    "### Set up your Google Cloud project\n",
    "\n",
    "**The following steps are required, regardless of your notebook environment.**\n",
    "\n",
    "1. [Select or create a Google Cloud project](https://console.cloud.google.com/cloud-resource-manager). When you first create an account, you get a $300 free credit towards your compute/storage costs.\n",
    "\n",
    "2. [Make sure that billing is enabled for your project.](https://cloud.google.com/billing/docs/how-to/modify-project)\n",
    "\n",
    "3. [Enable the AI Platform APIs and Compute Engine APIs.](https://console.cloud.google.com/flows/enableapi?apiid=ml.googleapis.com,compute_component)\n",
    "\n",
    "4. [The Google Cloud SDK](https://cloud.google.com/sdk) is already installed in AI Platform Notebooks.\n",
    "\n",
    "5. Enter your project ID in the cell below. Then run the  cell to make sure the\n",
    "Cloud SDK uses the right project for all the commands in this notebook.\n",
    "\n",
    "**Note**: Jupyter runs lines prefixed with `!` as shell commands, and it interpolates Python variables prefixed with `$` into these commands."
   ]
  },
  {
   "cell_type": "code",
   "execution_count": 5,
   "metadata": {
    "id": "set_project_id"
   },
   "outputs": [],
   "source": [
    "PROJECT_ID = \"[your-project-id]\" #@param {type:\"string\"}"
   ]
  },
  {
   "cell_type": "code",
   "execution_count": 6,
   "metadata": {
    "id": "autoset_project_id"
   },
   "outputs": [
    {
     "name": "stdout",
     "output_type": "stream",
     "text": [
      "Project ID: andy-1234-221921\n"
     ]
    }
   ],
   "source": [
    "if PROJECT_ID == \"\" or PROJECT_ID is None or PROJECT_ID == \"[your-project-id]\":\n",
    "    # Get your GCP project id from gcloud\n",
    "    shell_output = !gcloud config list --format 'value(core.project)' 2>/dev/null\n",
    "    PROJECT_ID = shell_output[0]\n",
    "    print(\"Project ID:\", PROJECT_ID)"
   ]
  },
  {
   "cell_type": "code",
   "execution_count": 7,
   "metadata": {
    "id": "set_gcloud_project_id"
   },
   "outputs": [
    {
     "name": "stdout",
     "output_type": "stream",
     "text": [
      "Updated property [core/project].\n"
     ]
    }
   ],
   "source": [
    "! gcloud config set project $PROJECT_ID"
   ]
  },
  {
   "cell_type": "markdown",
   "metadata": {
    "id": "region"
   },
   "source": [
    "#### Region\n",
    "\n",
    "You can also change the `REGION` variable, which is used for operations\n",
    "throughout the rest of this notebook.  Below are regions supported for AI Platform (Unified). We recommend that you choose the region closest to you.\n",
    "\n",
    "- Americas: `us-central1`\n",
    "- Europe: `europe-west4`\n",
    "- Asia Pacific: `asia-east1`\n",
    "\n",
    "You may not use a multi-regional bucket for training with AI Platform (Unified). Not all regions provide support for all AI Platform (Unified) services. For the latest support per region, see the [AI Platform (Unified) locations documentation](https://cloud.google.com/ai-platform-unified/docs/general/locations)"
   ]
  },
  {
   "cell_type": "code",
   "execution_count": 8,
   "metadata": {
    "id": "region"
   },
   "outputs": [],
   "source": [
    "REGION = 'us-central1' #@param {type: \"string\"}"
   ]
  },
  {
   "cell_type": "markdown",
   "metadata": {
    "id": "timestamp"
   },
   "source": [
    "#### Timestamp\n",
    "\n",
    "If you are in a live tutorial session, you might be using a shared test account or project. To avoid name collisions between users on resources created, you create a timestamp for each instance session, and append onto the name of resources which will be created in this tutorial."
   ]
  },
  {
   "cell_type": "code",
   "execution_count": 9,
   "metadata": {
    "id": "timestamp"
   },
   "outputs": [],
   "source": [
    "from datetime import datetime\n",
    "\n",
    "TIMESTAMP = datetime.now().strftime(\"%Y%m%d%H%M%S\")"
   ]
  },
  {
   "cell_type": "markdown",
   "metadata": {
    "id": "gcp_authenticate"
   },
   "source": [
    "### Authenticate your Google Cloud account\n",
    "\n",
    "**If you are using AI Platform notebooks**, your environment is already\n",
    "authenticated. Skip this step.\n",
    "\n",
    "*Note: If you are on an AI Platform notebook and run the cell, the cell knows to skip executing the authentication steps.*"
   ]
  },
  {
   "cell_type": "code",
   "execution_count": 10,
   "metadata": {
    "id": "gcp_authenticate"
   },
   "outputs": [],
   "source": [
    "import os\n",
    "import sys\n",
    "\n",
    "# If you are running this notebook in Colab, run this cell and follow the\n",
    "# instructions to authenticate your Google Cloud account. This provides access\n",
    "# to your Cloud Storage bucket and lets you submit training jobs and prediction\n",
    "# requests.\n",
    "\n",
    "# If on AI Platform Notebooks, then don't execute this code\n",
    "if not os.path.exists('/opt/deeplearning/metadata/env_version'):\n",
    "    if 'google.colab' in sys.modules:\n",
    "        from google.colab import auth as google_auth\n",
    "        google_auth.authenticate_user()\n",
    "\n",
    "    # If you are running this tutorial in a notebook locally, replace the string\n",
    "    # below with the path to your service account key and run this cell to\n",
    "    # authenticate your Google Cloud account.\n",
    "    else:\n",
    "        %env GOOGLE_APPLICATION_CREDENTIALS your_path_to_credentials.json\n",
    "\n",
    "    # Log in to your account on Google Cloud\n",
    "    ! gcloud auth login"
   ]
  },
  {
   "cell_type": "markdown",
   "metadata": {
    "id": "bucket:batch_prediction"
   },
   "source": [
    "### Create a Cloud Storage bucket\n",
    "\n",
    "**The following steps are required, regardless of your notebook environment.**\n",
    "\n",
    "This tutorial is designed to use training data that is in a public Cloud Storage bucket and a local Cloud Storage bucket for your batch predictions. You may alternatively use your own training data that you have stored in a local Cloud Storage bucket.\n",
    "\n",
    "Set the name of your Cloud Storage bucket below. It must be unique across all Cloud Storage buckets."
   ]
  },
  {
   "cell_type": "code",
   "execution_count": 11,
   "metadata": {
    "id": "bucket"
   },
   "outputs": [],
   "source": [
    "BUCKET_NAME = \"gs://[your-bucket-name]\" #@param {type:\"string\"}"
   ]
  },
  {
   "cell_type": "code",
   "execution_count": 12,
   "metadata": {
    "id": "autoset_bucket"
   },
   "outputs": [],
   "source": [
    "if BUCKET_NAME == \"\" or BUCKET_NAME is None or BUCKET_NAME == \"gs://[your-bucket-name]\":\n",
    "    BUCKET_NAME = \"gs://\" + PROJECT_ID + \"aip-\" + TIMESTAMP"
   ]
  },
  {
   "cell_type": "markdown",
   "metadata": {
    "id": "create_bucket"
   },
   "source": [
    "**Only if your bucket doesn't already exist**: Run the following cell to create your Cloud Storage bucket."
   ]
  },
  {
   "cell_type": "code",
   "execution_count": 13,
   "metadata": {
    "id": "create_bucket"
   },
   "outputs": [
    {
     "name": "stdout",
     "output_type": "stream",
     "text": [
      "Creating gs://andy-1234-221921aip-20210327192751/...\n"
     ]
    }
   ],
   "source": [
    "! gsutil mb -l $REGION $BUCKET_NAME"
   ]
  },
  {
   "cell_type": "markdown",
   "metadata": {
    "id": "validate_bucket"
   },
   "source": [
    "Finally, validate access to your Cloud Storage bucket by examining its contents:"
   ]
  },
  {
   "cell_type": "code",
   "execution_count": 14,
   "metadata": {
    "id": "validate_bucket"
   },
   "outputs": [],
   "source": [
    "! gsutil ls -al $BUCKET_NAME"
   ]
  },
  {
   "cell_type": "markdown",
   "metadata": {
    "id": "setup_vars"
   },
   "source": [
    "### Set up variables\n",
    "\n",
    "Next, set up some variables used throughout the tutorial.\n",
    "### Import libraries and define constants"
   ]
  },
  {
   "cell_type": "markdown",
   "metadata": {
    "id": "import_aip"
   },
   "source": [
    "#### Import AI Platform (Unified) client library\n",
    "\n",
    "Import the AI Platform (Unified) client library into our Python environment."
   ]
  },
  {
   "cell_type": "code",
   "execution_count": 15,
   "metadata": {
    "id": "import_aip"
   },
   "outputs": [],
   "source": [
    "import os\n",
    "import sys\n",
    "import time\n",
    "\n",
    "import google.cloud.aiplatform_v1 as aip\n",
    "\n",
    "from google.protobuf import json_format\n",
    "from google.protobuf.struct_pb2 import Value\n",
    "from google.protobuf.struct_pb2 import Struct\n",
    "from google.protobuf.json_format import MessageToJson\n",
    "from google.protobuf.json_format import ParseDict"
   ]
  },
  {
   "cell_type": "markdown",
   "metadata": {
    "id": "aip_constants"
   },
   "source": [
    "#### AI Platform (Unified) constants\n",
    "\n",
    "Setup up the following constants for AI Platform (Unified):\n",
    "\n",
    "- `API_ENDPOINT`: The AI Platform (Unified) API service endpoint for dataset, model, job, pipeline and endpoint services.\n",
    "- `PARENT`: The AI Platform (Unified) location root path for dataset, model and endpoint resources."
   ]
  },
  {
   "cell_type": "code",
   "execution_count": 16,
   "metadata": {
    "id": "aip_constants"
   },
   "outputs": [],
   "source": [
    "# API service endpoint\n",
    "API_ENDPOINT = \"{0}-aiplatform.googleapis.com\".format(REGION)\n",
    "\n",
    "# AI Platform (Unified) location root path for your dataset, model and endpoint resources\n",
    "PARENT = \"projects/\" + PROJECT_ID + \"/locations/\" + REGION"
   ]
  },
  {
   "cell_type": "markdown",
   "metadata": {
    "id": "automl_constants"
   },
   "source": [
    "#### AutoML constants\n",
    "\n",
    "Set constants unique to AutoML datasets and training:\n",
    "\n",
    "- Dataset Schemas: Tells the `Dataset` resource service which type of dataset it is.\n",
    "- Data Labeling (Annotations) Schemas: Tells the `Dataset` resource service how the data is labeled (annotated).\n",
    "- Dataset Training Schemas: Tells the `Pipeline` resource service the task (e.g., classification) to train the model for."
   ]
  },
  {
   "cell_type": "code",
   "execution_count": 17,
   "metadata": {
    "id": "automl_constants:forecast"
   },
   "outputs": [],
   "source": [
    "# Forecasting Dataset type\n",
    "DATA_SCHEMA = 'google-cloud-aiplatform/schema/dataset/metadata/time_series_1.0.0.yaml'\n",
    "# Forecasting Training task\n",
    "TRAINING_SCHEMA = \"gs://google-cloud-aiplatform/schema/trainingjob/definition/automl_forecasting_1.0.0.yaml\""
   ]
  },
  {
   "cell_type": "markdown",
   "metadata": {
    "id": "accelerators:prediction"
   },
   "source": [
    "#### Hardware Accelerators\n",
    "\n",
    "Set the hardware accelerators (e.g., GPU), if any, for prediction.\n",
    "\n",
    "Set the variable `DEPLOY_GPU/DEPLOY_NGPU` to use a container image supporting a GPU and the number of GPUs allocated to the virtual machine (VM) instance. For example, to use a GPU container image with 4 Nvidia Telsa K80 GPUs allocated to each VM, you would specify:\n",
    "\n",
    "    (aip.AcceleratorType.NVIDIA_TESLA_K80, 4)\n",
    "\n",
    "For GPU, available accelerators include:\n",
    "   - aip.AcceleratorType.NVIDIA_TESLA_K80\n",
    "   - aip.AcceleratorType.NVIDIA_TESLA_P100\n",
    "   - aip.AcceleratorType.NVIDIA_TESLA_P4\n",
    "   - aip.AcceleratorType.NVIDIA_TESLA_T4\n",
    "   - aip.AcceleratorType.NVIDIA_TESLA_V100\n",
    "\n",
    "Otherwise specify `(None, None)` to use a container image to run on a CPU."
   ]
  },
  {
   "cell_type": "code",
   "execution_count": 18,
   "metadata": {
    "id": "accelerators:prediction"
   },
   "outputs": [],
   "source": [
    "if os.getenv(\"AUTORUN_DEPOLY_GPU\"):\n",
    "    DEPLOY_GPU, DEPLOY_NGPU = (aip.AcceleratorType.NVIDIA_TESLA_K80, int(os.getenv(\"AUTORUN_DEPOLY_GPU\")))\n",
    "else:\n",
    "    DEPLOY_GPU, DEPLOY_NGPU = (aip.AcceleratorType.NVIDIA_TESLA_K80, 1)"
   ]
  },
  {
   "cell_type": "markdown",
   "metadata": {
    "id": "container:automl"
   },
   "source": [
    "#### Container (Docker) image\n",
    "\n",
    "For AutoML batch prediction, the container image for the serving binary is pre-determined by the AI Platform (Unified) prediction service. More specifically, the service will pick the appropriate container for the model depending on the hardware accelerator you selected."
   ]
  },
  {
   "cell_type": "markdown",
   "metadata": {
    "id": "machine:prediction"
   },
   "source": [
    "#### Machine Type\n",
    "\n",
    "Next, set the machine type to use for prediction.\n",
    "\n",
    "- Set the variable `DEPLOY_COMPUTE` to configure the compute resources for the VM you will use for prediction.\n",
    " - `machine type`\n",
    "     - `n1-standard`: 3.75GB of memory per vCPU.\n",
    "     - `n1-highmem`: 6.5GB of memory per vCPU\n",
    "     - `n1-highcpu`: 0.9 GB of memory per vCPU\n",
    " - `vCPUs`: number of \\[2, 4, 8, 16, 32, 64, 96 \\]\n",
    "\n",
    "*Note: You may also use n2 and e2 machine types for training and deployment, but they do not support GPUs*"
   ]
  },
  {
   "cell_type": "code",
   "execution_count": 19,
   "metadata": {
    "id": "machine:prediction"
   },
   "outputs": [
    {
     "name": "stdout",
     "output_type": "stream",
     "text": [
      "Deploy machine type n1-standard-4\n"
     ]
    }
   ],
   "source": [
    "if os.getenv(\"AUTORUN_DEPLOY_MACHINE\"):\n",
    "    MACHINE_TYPE = os.getenv(\"AUTORUN_DEPLOY_MACHINE\")\n",
    "else:\n",
    "    MACHINE_TYPE = 'n1-standard'\n",
    "\n",
    "VCPU = '4'\n",
    "DEPLOY_COMPUTE = MACHINE_TYPE + '-' + VCPU\n",
    "print('Deploy machine type', DEPLOY_COMPUTE)"
   ]
  },
  {
   "cell_type": "markdown",
   "metadata": {
    "id": "tutorial_start:automl"
   },
   "source": [
    "# Tutorial\n",
    "\n",
    "Now you are ready to start creating your own AutoML tabular forecasting model."
   ]
  },
  {
   "cell_type": "markdown",
   "metadata": {
    "id": "clients:automl,batch_prediction"
   },
   "source": [
    "## Set up clients\n",
    "\n",
    "The AI Platform (Unified) client library works as a client/server model. On your side (the Python script) you will create a client that sends requests and receives responses from the server (AI Platform).\n",
    "\n",
    "You will use different clients in this tutorial for different steps in the workflow. So set them all up upfront.\n",
    "\n",
    "- Dataset Service for `Dataset` resources.\n",
    "- Model Service for `Model` resources.\n",
    "- Pipeline Service for training.\n",
    "- Job Service for batch prediction and custom training."
   ]
  },
  {
   "cell_type": "code",
   "execution_count": 20,
   "metadata": {
    "id": "clients:automl,batch_prediction"
   },
   "outputs": [
    {
     "name": "stdout",
     "output_type": "stream",
     "text": [
      "('dataset', <google.cloud.aiplatform_v1.services.dataset_service.client.DatasetServiceClient object at 0x7f067b413350>)\n",
      "('model', <google.cloud.aiplatform_v1.services.model_service.client.ModelServiceClient object at 0x7f067b4134d0>)\n",
      "('pipeline', <google.cloud.aiplatform_v1.services.pipeline_service.client.PipelineServiceClient object at 0x7f067b413490>)\n",
      "('job', <google.cloud.aiplatform_v1.services.job_service.client.JobServiceClient object at 0x7f067b42ab10>)\n"
     ]
    }
   ],
   "source": [
    "# client options same for all services\n",
    "client_options = {\"api_endpoint\": API_ENDPOINT}\n",
    "\n",
    "\n",
    "def create_dataset_client():\n",
    "    client = aip.DatasetServiceClient(\n",
    "        client_options=client_options\n",
    "    )\n",
    "    return client\n",
    "\n",
    "\n",
    "def create_model_client():\n",
    "    client = aip.ModelServiceClient(\n",
    "        client_options=client_options\n",
    "    )\n",
    "    return client\n",
    "\n",
    "\n",
    "def create_pipeline_client():\n",
    "    client = aip.PipelineServiceClient(\n",
    "        client_options=client_options\n",
    "    )\n",
    "    return client\n",
    "\n",
    "\n",
    "def create_job_client():\n",
    "    client = aip.JobServiceClient(\n",
    "        client_options=client_options\n",
    "    )\n",
    "    return client\n",
    "\n",
    "\n",
    "clients = {}\n",
    "clients['dataset'] = create_dataset_client()\n",
    "clients['model'] = create_model_client()\n",
    "clients['pipeline'] = create_pipeline_client()\n",
    "clients['job'] = create_job_client()\n",
    "\n",
    "for client in clients.items():\n",
    "    print(client)"
   ]
  },
  {
   "cell_type": "markdown",
   "metadata": {
    "id": "data_preparation:tabular,u_dataset"
   },
   "source": [
    "### Data preparation\n",
    "\n",
    "The AI Platform (Unified) `Dataset` resource for tabular has a couple of requirements for your tabular data.\n",
    "\n",
    "- Must be in a CSV file or a BigQuery query."
   ]
  },
  {
   "cell_type": "markdown",
   "metadata": {
    "id": "data_import_format:forecast,u_dataset,csv"
   },
   "source": [
    "#### CSV\n",
    "\n",
    "For tabular forecasting, the CSV file has a few requirements:\n",
    "\n",
    "- The first row must be the heading -- note how this is different from Vision, Video and Language where the requirement is no heading.\n",
    "- All but one column are features.\n",
    "- One column is the label, which you will specify when you subsequently create the training pipeline.\n",
    "- One column is the time column, which you will specify when you subsequently create the training pipeline.\n",
    "- One column is the time series identifier column, which you will specify when you subsequently create the training pipeline."
   ]
  },
  {
   "cell_type": "markdown",
   "metadata": {
    "id": "import_file:u_dataset,csv"
   },
   "source": [
    "#### Location of Cloud Storage training data.\n",
    "\n",
    "Now set the variable `IMPORT_FILE` to the location of the CSV index file in Cloud Storage."
   ]
  },
  {
   "cell_type": "code",
   "execution_count": 21,
   "metadata": {
    "id": "import_file:covid,csv,forecast"
   },
   "outputs": [],
   "source": [
    "IMPORT_FILE = 'gs://cloud-samples-data/ai-platform/covid/bigquery-public-covid-nyt-us-counties-train.csv'"
   ]
  },
  {
   "cell_type": "markdown",
   "metadata": {
    "id": "quick_peek:forecast"
   },
   "source": [
    "#### Quick peek at your data\n",
    "\n",
    "You will use a version of the NY Times COVID Database dataset that is stored in a public Cloud Storage bucket, using a CSV index file.\n",
    "\n",
    "Let's start by doing a quick peek at the data. You count the number of examples by counting the number of rows in the CSV index file  (`wc -l`) and then peek at the first few rows.\n",
    "\n",
    "You will also need for training to know the heading name of the label column, which we will save as `label_column`. Moreover, to identify the time series in the file, the training needs to know two additional columns, `time_column` that provides temporal information and `time_series_identifier_column` in which the cells with the same value consititue one time series.  For this dataset, the label column is `deaths`, the time column is `date` and the time series identifier column is `county`."
   ]
  },
  {
   "cell_type": "code",
   "execution_count": 22,
   "metadata": {
    "id": "quick_peek:forecast"
   },
   "outputs": [
    {
     "name": "stdout",
     "output_type": "stream",
     "text": [
      "Number of Examples 693343\n",
      "First 10 rows\n",
      "date,county,state_name,county_fips_code,confirmed_cases,deaths\n",
      "2020-07-21,Adair,Iowa,19001,20,0\n",
      "2020-07-22,Adair,Iowa,19001,21,0\n",
      "2020-07-23,Adair,Iowa,19001,22,0\n",
      "2020-07-24,Adair,Iowa,19001,20,0\n",
      "2020-07-25,Adair,Iowa,19001,20,0\n",
      "2020-07-26,Adair,Iowa,19001,20,0\n",
      "2020-07-27,Adair,Iowa,19001,20,0\n",
      "2020-07-28,Adair,Iowa,19001,20,0\n",
      "2020-07-29,Adair,Iowa,19001,20,0\n",
      "Label Column Name deaths\n",
      "Time Column Name date\n",
      "Time Series Identifier Column Name county\n"
     ]
    }
   ],
   "source": [
    "count = ! gsutil cat $IMPORT_FILE | wc -l\n",
    "print(\"Number of Examples\", int(count[0]))\n",
    "\n",
    "print(\"First 10 rows\")\n",
    "! gsutil cat $IMPORT_FILE | head\n",
    "\n",
    "heading = ! gsutil cat $IMPORT_FILE | head -n1\n",
    "label_column = \"deaths\" #@param {type:\"string\"}\n",
    "time_column = \"date\" #@param {type:\"string\"}\n",
    "time_series_identifier_column = \"county\" #@param {type:\"string\"}\n",
    "print(\"Label Column Name\", label_column)\n",
    "print(\"Time Column Name\", time_column)\n",
    "print(\"Time Series Identifier Column Name\", time_series_identifier_column)"
   ]
  },
  {
   "cell_type": "markdown",
   "metadata": {
    "id": "create_aip_dataset:tabular"
   },
   "source": [
    "## Dataset\n",
    "\n",
    "Now that your clients are ready, your first step in training a model is to create a managed dataset instance, and then upload your labeled data to it.\n",
    "\n",
    "### Create `Dataset` resource instance\n",
    "\n",
    "Use the helper function `create_dataset` to create the instance of a `Dataset` resource. This function does the following:\n",
    "\n",
    "1. Uses the dataset client service.\n",
    "2. Creates an AI Platform (Unified) `Dataset` resource (`aip.Dataset`), with the following parameters:\n",
    " - `display_name`: The human-readable name you choose to give it.\n",
    " - `metadata_schema_uri`: The schema for the dataset type.\n",
    " - `metadata`: The Cloud Storage or BigQuery location of the tabular data.\n",
    "3. Calls the client dataset service method `create_dataset`, with the following parameters:\n",
    " - `parent`: The AI Platform (Unified) location root path for your `Database`, `Model` and `Endpoint` resources.\n",
    " - `dataset`: The AI Platform (Unified) dataset object instance you created.\n",
    "4. The method returns an `operation` object.\n",
    "\n",
    "An `operation` object is how AI Platform (Unified) handles asynchronous calls for long running operations. While this step usually goes fast, when you first use it in your project, there is a longer delay due to provisioning.\n",
    "\n",
    "You can use the `operation` object to get status on the operation (e.g., create `Dataset` resource) or to cancel the operation, by invoking an operation method:\n",
    "\n",
    "| Method      | Description |\n",
    "| ----------- | ----------- |\n",
    "| result()    | Waits for the operation to complete and returns a result object in JSON format.      |\n",
    "| running()   | Returns True/False on whether the operation is still running.        |\n",
    "| done()      | Returns True/False on whether the operation is completed. |\n",
    "| canceled()  | Returns True/False on whether the operation was canceled. |\n",
    "| cancel()    | Cancels the operation (this may take up to 30 seconds). |"
   ]
  },
  {
   "cell_type": "code",
   "execution_count": 23,
   "metadata": {
    "id": "create_aip_dataset:tabular"
   },
   "outputs": [
    {
     "name": "stdout",
     "output_type": "stream",
     "text": [
      "Long running operation: projects/759209241365/locations/us-central1/datasets/132346015612141568/operations/6526458030408597504\n",
      "time: 2.1081371307373047\n",
      "response\n",
      " name: projects/759209241365/locations/us-central1/datasets/132346015612141568\n",
      " display_name: covid-20210327192751\n",
      " metadata_schema_uri: gs://google-cloud-aiplatform/schema/dataset/metadata/time_series_1.0.0.yaml\n",
      " metadata: {'inputConfig': <proto.marshal.collections.maps.MapComposite object at 0x7f067ab92c90>}\n",
      " create_time: None\n",
      " update_time: None\n",
      " etag: \n",
      " labels: {'aiplatform.googleapis.com/dataset_metadata_schema': 'TIME_SERIES'}\n"
     ]
    }
   ],
   "source": [
    "TIMEOUT = 90\n",
    "\n",
    "\n",
    "def create_dataset(name, schema, src_uri=None, labels=None, timeout=TIMEOUT):\n",
    "    start_time = time.time()\n",
    "    try:\n",
    "        if src_uri.startswith(\"gs://\"):\n",
    "            metadata = {\"input_config\": {\"gcs_source\": {\"uri\": [src_uri]}}}\n",
    "        elif src_uri.startswith(\"bq://\"):\n",
    "            metadata = {\"input_config\": {\"bigquery_source\": {\"uri\": [src_uri]}}}\n",
    "        dataset = aip.Dataset(display_name=name, metadata_schema_uri=\"gs://\" + schema, labels=labels,\n",
    "                              metadata=json_format.ParseDict(metadata, Value()))\n",
    "\n",
    "        operation = clients['dataset'].create_dataset(parent=PARENT, dataset=dataset)\n",
    "        print(\"Long running operation:\", operation.operation.name)\n",
    "        result = operation.result(timeout=TIMEOUT)\n",
    "        print(\"time:\", time.time() - start_time)\n",
    "        print(\"response\")\n",
    "        print(\" name:\", result.name)\n",
    "        print(\" display_name:\", result.display_name)\n",
    "        print(\" metadata_schema_uri:\", result.metadata_schema_uri)\n",
    "        print(\" metadata:\", dict(result.metadata))\n",
    "        print(\" create_time:\", result.create_time)\n",
    "        print(\" update_time:\", result.update_time)\n",
    "        print(\" etag:\", result.etag)\n",
    "        print(\" labels:\", dict(result.labels))\n",
    "        return result\n",
    "    except Exception as e:\n",
    "        print(\"exception:\", e)\n",
    "        return None\n",
    "\n",
    "\n",
    "result = create_dataset(\"covid-\" + TIMESTAMP, DATA_SCHEMA, src_uri=IMPORT_FILE)"
   ]
  },
  {
   "cell_type": "markdown",
   "metadata": {
    "id": "dataset_id:result"
   },
   "source": [
    "Now save the unique dataset identifier for the `Dataset` resource instance you created."
   ]
  },
  {
   "cell_type": "code",
   "execution_count": 24,
   "metadata": {
    "id": "dataset_id:result"
   },
   "outputs": [
    {
     "name": "stdout",
     "output_type": "stream",
     "text": [
      "projects/759209241365/locations/us-central1/datasets/132346015612141568\n"
     ]
    }
   ],
   "source": [
    "# The full unique ID for the dataset\n",
    "dataset_id = result.name\n",
    "# The short numeric ID for the dataset\n",
    "dataset_short_id = dataset_id.split('/')[-1]\n",
    "\n",
    "print(dataset_id)"
   ]
  },
  {
   "cell_type": "markdown",
   "metadata": {
    "id": "train_automl_model"
   },
   "source": [
    "## Train the model\n",
    "\n",
    "Now train an AutoML tabular forecasting model using your AI Platform (Unified) `Dataset` resource. To train the model, do the following steps:\n",
    "\n",
    "1. Create an AI Platform (Unified) training pipeline for the `Dataset` resource.\n",
    "2. Execute the pipeline to start the training."
   ]
  },
  {
   "cell_type": "markdown",
   "metadata": {
    "id": "create_pipeline:automl"
   },
   "source": [
    "### Create a training pipeline\n",
    "\n",
    "You may ask, what do we use a pipeline for? You typically use pipelines when the job (such as training) has multiple steps, generally in sequential order: do step A, do step B, etc. By putting the steps into a pipeline, we gain the benefits of:\n",
    "\n",
    "1. Being reusable for subsequent training jobs.\n",
    "2. Can be containerized and ran as a batch job.\n",
    "3. Can be distributed.\n",
    "4. All the steps are associated with the same pipeline job for tracking progress.\n",
    "\n",
    "Use this helper function `create_pipeline`, which takes the following parameters:\n",
    "\n",
    "- `pipeline_name`: A human readable name for the pipeline job.\n",
    "- `model_name`: A human readable name for the model.\n",
    "- `dataset`: The AI Platform (Unified) fully qualified dataset identifier.\n",
    "- `schema`: The dataset labeling (annotation) training schema.\n",
    "- `task`: A dictionary describing the requirements for the training job.\n",
    "\n",
    "The helper function calls the `Pipeline` client service'smethod `create_pipeline`, which takes the following parameters:\n",
    "\n",
    "- `parent`: The AI Platform (Unified) location root path for your `Dataset`, `Model` and `Endpoint` resources.\n",
    "- `training_pipeline`: the full specification for the pipeline training job.\n",
    "\n",
    "Let's look now deeper into the *minimal* requirements for constructing a `training_pipeline` specification:\n",
    "\n",
    "- `display_name`: A human readable name for the pipeline job.\n",
    "- `training_task_definition`: The dataset labeling (annotation) training schema.\n",
    "- `training_task_inputs`: A dictionary describing the requirements for the training job.\n",
    "- `model_to_upload`: A human readable name for the model.\n",
    "- `input_data_config`: The dataset specification.\n",
    " - `dataset_id`: The AI Platform (Unified) dataset identifier only (non-fully qualified) -- this is the last part of the fully-qualified identifier.\n",
    " - `fraction_split`: If specified, the percentages of the dataset to use for training, test and validation. Otherwise, the percentages are automatically selected by AutoML."
   ]
  },
  {
   "cell_type": "code",
   "execution_count": 25,
   "metadata": {
    "id": "create_pipeline:automl"
   },
   "outputs": [],
   "source": [
    "def create_pipeline(pipeline_name, model_name, dataset, schema, task):\n",
    "\n",
    "    dataset_id = dataset.split('/')[-1]\n",
    "\n",
    "    input_config = {'dataset_id': dataset_id,\n",
    "                    'fraction_split': {\n",
    "                        'training_fraction': 0.8,\n",
    "                        'validation_fraction': 0.1,\n",
    "                        'test_fraction': 0.1\n",
    "                    }}\n",
    "\n",
    "    training_pipeline = {\n",
    "        \"display_name\": pipeline_name,\n",
    "        \"training_task_definition\": schema,\n",
    "        \"training_task_inputs\": task,\n",
    "        \"input_data_config\": input_config,\n",
    "        \"model_to_upload\": {\"display_name\": model_name},\n",
    "    }\n",
    "\n",
    "    try:\n",
    "        pipeline = clients['pipeline'].create_training_pipeline(parent=PARENT, training_pipeline=training_pipeline)\n",
    "        print(pipeline)\n",
    "    except Exception as e:\n",
    "        print(\"exception:\", e)\n",
    "        return None\n",
    "    return pipeline"
   ]
  },
  {
   "cell_type": "markdown",
   "metadata": {
    "id": "task_requirements:automl,forecast"
   },
   "source": [
    "### Construct the task requirements\n",
    "\n",
    "Next, construct the task requirements. Unlike other parameters which take a Python (JSON-like) dictionary, the `task` field takes a Google protobuf Struct, which is very similar to a Python dictionary. Use the `json_format.ParseDict` method for the conversion.\n",
    "\n",
    "The minimal fields you need to specify are:\n",
    "\n",
    "- `target_column`: The CSV heading column name for the column we want to predict (i.e., the label).\n",
    "- `time_column`: The CSV heading column name for the column that represents the temporal information of time series.\n",
    "- `time_series_identifier_column`: The CSV heading column name for the column whose value identifies individual time series, e.g. rows of the value at this column consistues one time series.\n",
    "- `period`: the time interval between two consecutive observations in the same time series, e.g. hourly, daily etc.\n",
    "- `forecast_window_end`: the number to indicate how many `period` in future you want to forecast.\n",
    "- `time_variant_past_only_columns`: The CSV heading column names for the columns that not known at forecast time, (i.e., the label).\n",
    "- `train_budget_milli_node_hours`: The maximum time to budget (billed) for training the model, where 1000 = 1 hour.\n",
    "- `disable_early_stopping`: Whether True/False to let AutoML use its judgement to stop training early or train for the entire budget.\n",
    "- `transformations`: Specifies the feature engineering for each feature column.\n",
    "\n",
    "For `transformations`, the list must have an entry for each column. The outer key field indicates the type of feature engineering for the corresponding column. In this tutorial, you set it to `\"auto\"` to tell AutoML to automatically determine it.\n",
    "\n",
    "Finally, create the pipeline by calling the helper function `create_pipeline`, which returns an instance of a training pipeline object."
   ]
  },
  {
   "cell_type": "code",
   "execution_count": 26,
   "metadata": {
    "id": "task_transformations:automl,forecast,covid"
   },
   "outputs": [],
   "source": [
    "TRANSFORMATIONS = [\n",
    "    {\"auto\": {\"column_name\": \"date\"}},\n",
    "    {\"auto\": {\"column_name\": \"state_name\"}},\n",
    "    {\"auto\": {\"column_name\": \"county_fips_code\"}},\n",
    "    {\"auto\": {\"column_name\": \"confirmed_cases\"}},\n",
    "    {\"auto\": {\"column_name\": \"deaths\"}}\n",
    "]\n",
    "\n",
    "PERIOD = {\"unit\": \"day\", \"quantity\": 1}\n",
    "\n",
    "PAST_ONLY_COLUMNS = [\"deaths\"]\n",
    "STATIC_COLUMNS = [\"state_name\"]\n",
    "PAST_AND_FUTURE_COLUMNS = [\"date\"]\n",
    "\n",
    "optimization_objective = \"minimize-rmse\""
   ]
  },
  {
   "cell_type": "code",
   "execution_count": 27,
   "metadata": {
    "id": "task_requirements:automl,forecast,transformations"
   },
   "outputs": [
    {
     "name": "stdout",
     "output_type": "stream",
     "text": [
      "name: \"projects/759209241365/locations/us-central1/trainingPipelines/4881558948441751552\"\n",
      "display_name: \"covid_pipe-20210327192751\"\n",
      "input_data_config {\n",
      "  dataset_id: \"132346015612141568\"\n",
      "  fraction_split {\n",
      "    training_fraction: 0.8\n",
      "    validation_fraction: 0.1\n",
      "    test_fraction: 0.1\n",
      "  }\n",
      "}\n",
      "training_task_definition: \"gs://google-cloud-aiplatform/schema/trainingjob/definition/automl_forecasting_1.0.0.yaml\"\n",
      "training_task_inputs {\n",
      "  struct_value {\n",
      "    fields {\n",
      "      key: \"forecastWindowEnd\"\n",
      "      value {\n",
      "        string_value: \"10\"\n",
      "      }\n",
      "    }\n",
      "    fields {\n",
      "      key: \"optimizationObjective\"\n",
      "      value {\n",
      "        string_value: \"minimize-rmse\"\n",
      "      }\n",
      "    }\n",
      "    fields {\n",
      "      key: \"period\"\n",
      "      value {\n",
      "        struct_value {\n",
      "          fields {\n",
      "            key: \"quantity\"\n",
      "            value {\n",
      "              string_value: \"1\"\n",
      "            }\n",
      "          }\n",
      "          fields {\n",
      "            key: \"unit\"\n",
      "            value {\n",
      "              string_value: \"day\"\n",
      "            }\n",
      "          }\n",
      "        }\n",
      "      }\n",
      "    }\n",
      "    fields {\n",
      "      key: \"staticColumns\"\n",
      "      value {\n",
      "        list_value {\n",
      "          values {\n",
      "            string_value: \"state_name\"\n",
      "          }\n",
      "        }\n",
      "      }\n",
      "    }\n",
      "    fields {\n",
      "      key: \"targetColumn\"\n",
      "      value {\n",
      "        string_value: \"deaths\"\n",
      "      }\n",
      "    }\n",
      "    fields {\n",
      "      key: \"timeColumn\"\n",
      "      value {\n",
      "        string_value: \"date\"\n",
      "      }\n",
      "    }\n",
      "    fields {\n",
      "      key: \"timeSeriesIdentifierColumn\"\n",
      "      value {\n",
      "        string_value: \"county\"\n",
      "      }\n",
      "    }\n",
      "    fields {\n",
      "      key: \"timeVariantPastAndFutureColumns\"\n",
      "      value {\n",
      "        list_value {\n",
      "          values {\n",
      "            string_value: \"date\"\n",
      "          }\n",
      "        }\n",
      "      }\n",
      "    }\n",
      "    fields {\n",
      "      key: \"timeVariantPastOnlyColumns\"\n",
      "      value {\n",
      "        list_value {\n",
      "          values {\n",
      "            string_value: \"deaths\"\n",
      "          }\n",
      "        }\n",
      "      }\n",
      "    }\n",
      "    fields {\n",
      "      key: \"trainBudgetMilliNodeHours\"\n",
      "      value {\n",
      "        string_value: \"1000\"\n",
      "      }\n",
      "    }\n",
      "    fields {\n",
      "      key: \"transformations\"\n",
      "      value {\n",
      "        list_value {\n",
      "          values {\n",
      "            struct_value {\n",
      "              fields {\n",
      "                key: \"auto\"\n",
      "                value {\n",
      "                  struct_value {\n",
      "                    fields {\n",
      "                      key: \"columnName\"\n",
      "                      value {\n",
      "                        string_value: \"date\"\n",
      "                      }\n",
      "                    }\n",
      "                  }\n",
      "                }\n",
      "              }\n",
      "            }\n",
      "          }\n",
      "          values {\n",
      "            struct_value {\n",
      "              fields {\n",
      "                key: \"auto\"\n",
      "                value {\n",
      "                  struct_value {\n",
      "                    fields {\n",
      "                      key: \"columnName\"\n",
      "                      value {\n",
      "                        string_value: \"state_name\"\n",
      "                      }\n",
      "                    }\n",
      "                  }\n",
      "                }\n",
      "              }\n",
      "            }\n",
      "          }\n",
      "          values {\n",
      "            struct_value {\n",
      "              fields {\n",
      "                key: \"auto\"\n",
      "                value {\n",
      "                  struct_value {\n",
      "                    fields {\n",
      "                      key: \"columnName\"\n",
      "                      value {\n",
      "                        string_value: \"county_fips_code\"\n",
      "                      }\n",
      "                    }\n",
      "                  }\n",
      "                }\n",
      "              }\n",
      "            }\n",
      "          }\n",
      "          values {\n",
      "            struct_value {\n",
      "              fields {\n",
      "                key: \"auto\"\n",
      "                value {\n",
      "                  struct_value {\n",
      "                    fields {\n",
      "                      key: \"columnName\"\n",
      "                      value {\n",
      "                        string_value: \"confirmed_cases\"\n",
      "                      }\n",
      "                    }\n",
      "                  }\n",
      "                }\n",
      "              }\n",
      "            }\n",
      "          }\n",
      "          values {\n",
      "            struct_value {\n",
      "              fields {\n",
      "                key: \"auto\"\n",
      "                value {\n",
      "                  struct_value {\n",
      "                    fields {\n",
      "                      key: \"columnName\"\n",
      "                      value {\n",
      "                        string_value: \"deaths\"\n",
      "                      }\n",
      "                    }\n",
      "                  }\n",
      "                }\n",
      "              }\n",
      "            }\n",
      "          }\n",
      "        }\n",
      "      }\n",
      "    }\n",
      "  }\n",
      "}\n",
      "model_to_upload {\n",
      "  display_name: \"covid_model-20210327192751\"\n",
      "}\n",
      "state: PIPELINE_STATE_PENDING\n",
      "create_time {\n",
      "  seconds: 1616873278\n",
      "  nanos: 805601000\n",
      "}\n",
      "update_time {\n",
      "  seconds: 1616873278\n",
      "  nanos: 805601000\n",
      "}\n",
      "\n"
     ]
    }
   ],
   "source": [
    "PIPE_NAME = \"covid_pipe-\" + TIMESTAMP\n",
    "MODEL_NAME = \"covid_model-\" + TIMESTAMP\n",
    "\n",
    "task = Value(struct_value=Struct(\n",
    "            fields={\n",
    "                'target_column': Value(string_value=label_column),\n",
    "                'time_column': Value(string_value=time_column),\n",
    "                'time_series_identifier_column': Value(string_value=time_series_identifier_column),\n",
    "                \"period\": json_format.ParseDict(PERIOD, Value()),\n",
    "                \"forecast_window_end\": Value(number_value=10),\n",
    "                \"time_variant_past_only_columns\": json_format.ParseDict(PAST_ONLY_COLUMNS, Value()),\n",
    "                \"static_columns\": json_format.ParseDict(STATIC_COLUMNS, Value()),\n",
    "                \"time_variant_past_and_future_columns\": json_format.ParseDict(PAST_AND_FUTURE_COLUMNS, Value()),\n",
    "                'train_budget_milli_node_hours': Value(number_value=1000),\n",
    "                \"optimization_objective\": Value(string_value=optimization_objective),\n",
    "                'transformations': json_format.ParseDict(TRANSFORMATIONS, Value())\n",
    "            }\n",
    "        ))\n",
    "response = create_pipeline(PIPE_NAME, MODEL_NAME, dataset_id, TRAINING_SCHEMA, task)"
   ]
  },
  {
   "cell_type": "markdown",
   "metadata": {
    "id": "pipeline_id:response"
   },
   "source": [
    "Now save the unique identifier of the training pipeline you created."
   ]
  },
  {
   "cell_type": "code",
   "execution_count": 28,
   "metadata": {
    "id": "pipeline_id:response"
   },
   "outputs": [
    {
     "name": "stdout",
     "output_type": "stream",
     "text": [
      "projects/759209241365/locations/us-central1/trainingPipelines/4881558948441751552\n"
     ]
    }
   ],
   "source": [
    "# The full unique ID for the pipeline\n",
    "pipeline_id = response.name\n",
    "# The short numeric ID for the pipeline\n",
    "pipeline_short_id = pipeline_id.split('/')[-1]\n",
    "\n",
    "print(pipeline_id)"
   ]
  },
  {
   "cell_type": "markdown",
   "metadata": {
    "id": "get_training_pipeline"
   },
   "source": [
    "### Get information on a training pipeline\n",
    "\n",
    "Now get pipeline information for just this training pipeline instance. The helper function  gets the job information for just this job by calling the the job client service's `get_training_pipeline` method, with the following parameter:\n",
    "\n",
    "- `name`: The AI Platform (Unified) fully qualified pipeline identifier.\n",
    "\n",
    "When the model is done training, the pipeline state will be `PIPELINE_STATE_SUCCEEDED`."
   ]
  },
  {
   "cell_type": "code",
   "execution_count": 29,
   "metadata": {
    "id": "get_training_pipeline"
   },
   "outputs": [
    {
     "name": "stdout",
     "output_type": "stream",
     "text": [
      "pipeline\n",
      " name: projects/759209241365/locations/us-central1/trainingPipelines/4881558948441751552\n",
      " display_name: covid_pipe-20210327192751\n",
      " state: PipelineState.PIPELINE_STATE_RUNNING\n",
      " training_task_definition: gs://google-cloud-aiplatform/schema/trainingjob/definition/automl_forecasting_1.0.0.yaml\n",
      " training_task_inputs: {'timeVariantPastAndFutureColumns': [string_value: \"date\"\n",
      "], 'targetColumn': 'deaths', 'timeColumn': 'date', 'transformations': [struct_value {\n",
      "  fields {\n",
      "    key: \"auto\"\n",
      "    value {\n",
      "      struct_value {\n",
      "        fields {\n",
      "          key: \"columnName\"\n",
      "          value {\n",
      "            string_value: \"date\"\n",
      "          }\n",
      "        }\n",
      "      }\n",
      "    }\n",
      "  }\n",
      "}\n",
      ", struct_value {\n",
      "  fields {\n",
      "    key: \"auto\"\n",
      "    value {\n",
      "      struct_value {\n",
      "        fields {\n",
      "          key: \"columnName\"\n",
      "          value {\n",
      "            string_value: \"state_name\"\n",
      "          }\n",
      "        }\n",
      "      }\n",
      "    }\n",
      "  }\n",
      "}\n",
      ", struct_value {\n",
      "  fields {\n",
      "    key: \"auto\"\n",
      "    value {\n",
      "      struct_value {\n",
      "        fields {\n",
      "          key: \"columnName\"\n",
      "          value {\n",
      "            string_value: \"county_fips_code\"\n",
      "          }\n",
      "        }\n",
      "      }\n",
      "    }\n",
      "  }\n",
      "}\n",
      ", struct_value {\n",
      "  fields {\n",
      "    key: \"auto\"\n",
      "    value {\n",
      "      struct_value {\n",
      "        fields {\n",
      "          key: \"columnName\"\n",
      "          value {\n",
      "            string_value: \"confirmed_cases\"\n",
      "          }\n",
      "        }\n",
      "      }\n",
      "    }\n",
      "  }\n",
      "}\n",
      ", struct_value {\n",
      "  fields {\n",
      "    key: \"auto\"\n",
      "    value {\n",
      "      struct_value {\n",
      "        fields {\n",
      "          key: \"columnName\"\n",
      "          value {\n",
      "            string_value: \"deaths\"\n",
      "          }\n",
      "        }\n",
      "      }\n",
      "    }\n",
      "  }\n",
      "}\n",
      "], 'trainBudgetMilliNodeHours': '1000', 'optimizationObjective': 'minimize-rmse', 'period': <proto.marshal.collections.maps.MapComposite object at 0x7f067abab5d0>, 'timeVariantPastOnlyColumns': [string_value: \"deaths\"\n",
      "], 'forecastWindowEnd': '10', 'timeSeriesIdentifierColumn': 'county', 'staticColumns': [string_value: \"state_name\"\n",
      "]}\n",
      " create_time: 2021-03-27 19:27:58.805601+00:00\n",
      " start_time: 2021-03-27 19:27:58.938208+00:00\n",
      " end_time: None\n",
      " update_time: 2021-03-27 19:27:58.938208+00:00\n",
      " labels: {}\n"
     ]
    }
   ],
   "source": [
    "def get_training_pipeline(name, silent=False):\n",
    "    response = clients['pipeline'].get_training_pipeline(name=name)\n",
    "    if silent:\n",
    "        return response\n",
    "\n",
    "    print(\"pipeline\")\n",
    "    print(\" name:\", response.name)\n",
    "    print(\" display_name:\", response.display_name)\n",
    "    print(\" state:\", response.state)\n",
    "    print(\" training_task_definition:\", response.training_task_definition)\n",
    "    print(\" training_task_inputs:\", dict(response.training_task_inputs))\n",
    "    print(\" create_time:\", response.create_time)\n",
    "    print(\" start_time:\", response.start_time)\n",
    "    print(\" end_time:\", response.end_time)\n",
    "    print(\" update_time:\", response.update_time)\n",
    "    print(\" labels:\", dict(response.labels))\n",
    "    return response\n",
    "\n",
    "\n",
    "response = get_training_pipeline(pipeline_id)"
   ]
  },
  {
   "cell_type": "markdown",
   "metadata": {
    "id": "wait_training_complete"
   },
   "source": [
    "# Deployment\n",
    "\n",
    "Training the above model may take upwards of 60 minutes time.\n",
    "\n",
    "Once your model is done training, you can calculate the actual time it took to train the model by subtracting `end_time` from `start_time`. For your model, you will need to know the fully qualified AI Platform (Unified) Model resource identifier, which the pipeline service assigned to it. You can get this from the returned pipeline instance as the field `model_to_deploy.name`."
   ]
  },
  {
   "cell_type": "code",
   "execution_count": 30,
   "metadata": {
    "id": "wait_training_complete"
   },
   "outputs": [
    {
     "name": "stdout",
     "output_type": "stream",
     "text": [
      "Training job has not completed: PipelineState.PIPELINE_STATE_RUNNING\n",
      "Training job has not completed: PipelineState.PIPELINE_STATE_RUNNING\n",
      "Training job has not completed: PipelineState.PIPELINE_STATE_RUNNING\n",
      "Training job has not completed: PipelineState.PIPELINE_STATE_RUNNING\n",
      "Training job has not completed: PipelineState.PIPELINE_STATE_RUNNING\n",
      "Training job has not completed: PipelineState.PIPELINE_STATE_RUNNING\n",
      "Training job has not completed: PipelineState.PIPELINE_STATE_RUNNING\n",
      "Training job has not completed: PipelineState.PIPELINE_STATE_RUNNING\n",
      "Training job has not completed: PipelineState.PIPELINE_STATE_RUNNING\n",
      "Training job has not completed: PipelineState.PIPELINE_STATE_RUNNING\n",
      "Training job has not completed: PipelineState.PIPELINE_STATE_RUNNING\n",
      "Training job has not completed: PipelineState.PIPELINE_STATE_RUNNING\n",
      "Training job has not completed: PipelineState.PIPELINE_STATE_RUNNING\n",
      "Training job has not completed: PipelineState.PIPELINE_STATE_RUNNING\n",
      "Training job has not completed: PipelineState.PIPELINE_STATE_RUNNING\n",
      "Training job has not completed: PipelineState.PIPELINE_STATE_RUNNING\n",
      "Training job has not completed: PipelineState.PIPELINE_STATE_RUNNING\n",
      "Training job has not completed: PipelineState.PIPELINE_STATE_RUNNING\n",
      "Training job has not completed: PipelineState.PIPELINE_STATE_RUNNING\n",
      "Training job has not completed: PipelineState.PIPELINE_STATE_RUNNING\n",
      "Training job has not completed: PipelineState.PIPELINE_STATE_RUNNING\n",
      "Training job has not completed: PipelineState.PIPELINE_STATE_RUNNING\n",
      "Training job has not completed: PipelineState.PIPELINE_STATE_RUNNING\n",
      "Training job has not completed: PipelineState.PIPELINE_STATE_RUNNING\n",
      "Training job has not completed: PipelineState.PIPELINE_STATE_RUNNING\n",
      "Training job has not completed: PipelineState.PIPELINE_STATE_RUNNING\n",
      "Training job has not completed: PipelineState.PIPELINE_STATE_RUNNING\n",
      "Training job has not completed: PipelineState.PIPELINE_STATE_RUNNING\n",
      "Training job has not completed: PipelineState.PIPELINE_STATE_RUNNING\n",
      "Training job has not completed: PipelineState.PIPELINE_STATE_RUNNING\n",
      "Training job has not completed: PipelineState.PIPELINE_STATE_RUNNING\n",
      "Training job has not completed: PipelineState.PIPELINE_STATE_RUNNING\n",
      "Training job has not completed: PipelineState.PIPELINE_STATE_RUNNING\n",
      "Training job has not completed: PipelineState.PIPELINE_STATE_RUNNING\n",
      "Training job has not completed: PipelineState.PIPELINE_STATE_RUNNING\n",
      "Training job has not completed: PipelineState.PIPELINE_STATE_RUNNING\n",
      "Training job has not completed: PipelineState.PIPELINE_STATE_RUNNING\n",
      "Training job has not completed: PipelineState.PIPELINE_STATE_RUNNING\n",
      "Training job has not completed: PipelineState.PIPELINE_STATE_RUNNING\n",
      "Training job has not completed: PipelineState.PIPELINE_STATE_RUNNING\n",
      "Training job has not completed: PipelineState.PIPELINE_STATE_RUNNING\n",
      "Training job has not completed: PipelineState.PIPELINE_STATE_RUNNING\n",
      "Training job has not completed: PipelineState.PIPELINE_STATE_RUNNING\n",
      "Training job has not completed: PipelineState.PIPELINE_STATE_RUNNING\n",
      "Training job has not completed: PipelineState.PIPELINE_STATE_RUNNING\n",
      "Training job has not completed: PipelineState.PIPELINE_STATE_RUNNING\n",
      "Training job has not completed: PipelineState.PIPELINE_STATE_RUNNING\n",
      "Training job has not completed: PipelineState.PIPELINE_STATE_RUNNING\n",
      "Training job has not completed: PipelineState.PIPELINE_STATE_RUNNING\n",
      "Training job has not completed: PipelineState.PIPELINE_STATE_RUNNING\n",
      "Training job has not completed: PipelineState.PIPELINE_STATE_RUNNING\n",
      "Training job has not completed: PipelineState.PIPELINE_STATE_RUNNING\n",
      "Training job has not completed: PipelineState.PIPELINE_STATE_RUNNING\n",
      "Training job has not completed: PipelineState.PIPELINE_STATE_RUNNING\n",
      "Training job has not completed: PipelineState.PIPELINE_STATE_RUNNING\n",
      "Training job has not completed: PipelineState.PIPELINE_STATE_RUNNING\n",
      "Training job has not completed: PipelineState.PIPELINE_STATE_RUNNING\n",
      "Training job has not completed: PipelineState.PIPELINE_STATE_RUNNING\n",
      "Training job has not completed: PipelineState.PIPELINE_STATE_RUNNING\n",
      "Training job has not completed: PipelineState.PIPELINE_STATE_RUNNING\n",
      "Training job has not completed: PipelineState.PIPELINE_STATE_RUNNING\n",
      "Training job has not completed: PipelineState.PIPELINE_STATE_RUNNING\n",
      "Training job has not completed: PipelineState.PIPELINE_STATE_RUNNING\n",
      "Training job has not completed: PipelineState.PIPELINE_STATE_RUNNING\n",
      "Training job has not completed: PipelineState.PIPELINE_STATE_RUNNING\n",
      "Training job has not completed: PipelineState.PIPELINE_STATE_RUNNING\n",
      "Training job has not completed: PipelineState.PIPELINE_STATE_RUNNING\n",
      "Training job has not completed: PipelineState.PIPELINE_STATE_RUNNING\n",
      "Training job has not completed: PipelineState.PIPELINE_STATE_RUNNING\n",
      "Training job has not completed: PipelineState.PIPELINE_STATE_RUNNING\n",
      "Training job has not completed: PipelineState.PIPELINE_STATE_RUNNING\n",
      "Training job has not completed: PipelineState.PIPELINE_STATE_RUNNING\n",
      "Training job has not completed: PipelineState.PIPELINE_STATE_RUNNING\n",
      "Training job has not completed: PipelineState.PIPELINE_STATE_RUNNING\n",
      "Training job has not completed: PipelineState.PIPELINE_STATE_RUNNING\n",
      "Training job has not completed: PipelineState.PIPELINE_STATE_RUNNING\n",
      "Training job has not completed: PipelineState.PIPELINE_STATE_RUNNING\n",
      "Training job has not completed: PipelineState.PIPELINE_STATE_RUNNING\n",
      "Training job has not completed: PipelineState.PIPELINE_STATE_RUNNING\n",
      "Training job has not completed: PipelineState.PIPELINE_STATE_RUNNING\n",
      "Training Time: 1:19:46.310533\n",
      "model to deploy: projects/759209241365/locations/us-central1/models/8276296701153640448\n"
     ]
    }
   ],
   "source": [
    "while True:\n",
    "    response = get_training_pipeline(pipeline_id, True)\n",
    "    if response.state != aip.PipelineState.PIPELINE_STATE_SUCCEEDED:\n",
    "        print(\"Training job has not completed:\", response.state)\n",
    "        model_to_deploy_id = None\n",
    "        if response.state == aip.PipelineState.PIPELINE_STATE_FAILED:\n",
    "            raise Exception(\"Training Job Failed\")\n",
    "    else:\n",
    "        model_to_deploy = response.model_to_upload\n",
    "        model_to_deploy_id = model_to_deploy.name\n",
    "        print(\"Training Time:\", response.end_time - response.start_time)\n",
    "        break\n",
    "    time.sleep(60)\n",
    "\n",
    "print(\"model to deploy:\", model_to_deploy_id)"
   ]
  },
  {
   "cell_type": "markdown",
   "metadata": {
    "id": "model_information"
   },
   "source": [
    "## Model information\n",
    "\n",
    "Now that your model is trained, you can get some information on your model."
   ]
  },
  {
   "cell_type": "markdown",
   "metadata": {
    "id": "evaluate_the_model:automl"
   },
   "source": [
    "## Evaluate the Model resource\n",
    "\n",
    "Now find out how good the model service believes your model is. As part of training, some portion of the dataset was set aside as the test (holdout) data, which is used by the pipeline service to evaluate the model."
   ]
  },
  {
   "cell_type": "markdown",
   "metadata": {
    "id": "list_model_evaluations:automl,forecast"
   },
   "source": [
    "### List evaluations for all slices\n",
    "\n",
    "Use this helper function `list_model_evaluations`, which takes the following parameter:\n",
    "\n",
    "- `name`: The AI Platform (Unified) fully qualified model identifier for the `Model` resource.\n",
    "\n",
    "This helper function uses the model client service's `list_model_evaluations` method, which takes the same parameter. The response object from the call is a list, where each element is an evaluation metric.\n",
    "\n",
    "For each evaluation -- you probably only have one, we then print all the key names for each metric in the evaluation, and for a small set (`rootMeanSquaredError` and `meanAbsoluteError`) you will print the result."
   ]
  },
  {
   "cell_type": "code",
   "execution_count": 31,
   "metadata": {
    "id": "list_model_evaluations:automl,forecast"
   },
   "outputs": [
    {
     "name": "stdout",
     "output_type": "stream",
     "text": [
      "model_evaluation\n",
      " name: projects/759209241365/locations/us-central1/models/8276296701153640448/evaluations/6918526227225577818\n",
      " metrics_schema_uri: gs://google-cloud-aiplatform/schema/modelevaluation/forecasting_metrics_1.0.0.yaml\n",
      "rootMeanSquaredLogError\n",
      "rSquared\n",
      "meanAbsolutePercentageError\n",
      "rootMeanSquaredError\n",
      "meanAbsoluteError\n",
      "rootMeanSquaredError 478.81168\n",
      "meanAbsoluteError 73.57528\n"
     ]
    }
   ],
   "source": [
    "def list_model_evaluations(name):\n",
    "    response = clients['model'].list_model_evaluations(parent=name)\n",
    "    for evaluation in response:\n",
    "        print(\"model_evaluation\")\n",
    "        print(\" name:\", evaluation.name)\n",
    "        print(\" metrics_schema_uri:\", evaluation.metrics_schema_uri)\n",
    "        metrics = json_format.MessageToDict(evaluation._pb.metrics)\n",
    "        for metric in metrics.keys():\n",
    "            print(metric)\n",
    "        print('rootMeanSquaredError', metrics['rootMeanSquaredError'])\n",
    "        print('meanAbsoluteError', metrics['meanAbsoluteError'])\n",
    "\n",
    "\n",
    "    return evaluation.name\n",
    "\n",
    "\n",
    "last_evaluation = list_model_evaluations(model_to_deploy_id)"
   ]
  },
  {
   "cell_type": "markdown",
   "metadata": {
    "id": "deploy:batch_prediction"
   },
   "source": [
    "## Model deployment for batch prediction\n",
    "\n",
    "Now deploy the trained AI Platform (Unified) `Model` resource you created for batch prediction. This differs from deploying a `Model` resource for on-demand prediction.\n",
    "\n",
    "For online prediction, you:\n",
    "\n",
    "1. Create an `Endpoint` resource for deploying the `Model` resource to.\n",
    "\n",
    "2. Deploy the `Model` resource to the `Endpoint` resource.\n",
    "\n",
    "3. Make online prediction requests to the `Endpoint` resource.\n",
    "\n",
    "For batch-prediction, you:\n",
    "\n",
    "1. Create a batch prediction job.\n",
    "\n",
    "2. The job service will provision resources for the batch prediction request.\n",
    "\n",
    "3. The results of the batch prediction request are returned to the caller.\n",
    "\n",
    "4. The job service will unprovision the resoures for the batch prediction request."
   ]
  },
  {
   "cell_type": "markdown",
   "metadata": {
    "id": "make_prediction"
   },
   "source": [
    "## Make a batch prediction request\n",
    "\n",
    "Now do a batch prediction to your deployed model."
   ]
  },
  {
   "cell_type": "markdown",
   "metadata": {
    "id": "make_test_items:automl,batch_prediction"
   },
   "source": [
    "### Make test items\n",
    "\n",
    "You will use synthetic data as a test data items. Don't be concerned that we are using synthetic data -- we just want to demonstrate how to make a prediction."
   ]
  },
  {
   "cell_type": "code",
   "execution_count": 32,
   "metadata": {
    "id": "make_test_items:automl,tabular,covid"
   },
   "outputs": [],
   "source": [
    "HEADING = \"date,county,state_name,county_fips_code,confirmed_cases,deaths\"\n",
    "INSTANCE_1 = \"2020-10-13,Adair,Iowa,19001,103,null\"\n",
    "INSTANCE_2 = \"2020-10-29,Adair,Iowa,19001,197,null\""
   ]
  },
  {
   "cell_type": "markdown",
   "metadata": {
    "id": "make_batch_file:automl,tabular"
   },
   "source": [
    "### Make the batch input file\n",
    "\n",
    "Now make a batch input file, which you will store in your local Cloud Storage bucket. Unlike image, video and text, the batch input file for tabular is only supported for CSV. For CSV file, you make:\n",
    "\n",
    "- The first line is the heading with the feature (fields) heading names.\n",
    "- Each remaining line is a separate prediction request with the corresponding feature values."
   ]
  },
  {
   "cell_type": "code",
   "execution_count": 33,
   "metadata": {
    "id": "make_batch_file:automl,tabular"
   },
   "outputs": [
    {
     "name": "stdout",
     "output_type": "stream",
     "text": [
      "gs://andy-1234-221921aip-20210327192751/test.csv\n",
      "date,county,state_name,county_fips_code,confirmed_cases,deaths\n",
      "2020-10-13,Adair,Iowa,19001,103,null\n",
      "2020-10-29,Adair,Iowa,19001,197,null\n"
     ]
    }
   ],
   "source": [
    "import tensorflow as tf\n",
    "\n",
    "gcs_input_uri = BUCKET_NAME + '/test.csv'\n",
    "with tf.io.gfile.GFile(gcs_input_uri, 'w') as f:\n",
    "    f.write(HEADING + '\\n')\n",
    "    f.write(str(INSTANCE_1) + '\\n')\n",
    "    f.write(str(INSTANCE_2) + '\\n')\n",
    "\n",
    "print(gcs_input_uri)\n",
    "! gsutil cat $gcs_input_uri"
   ]
  },
  {
   "cell_type": "markdown",
   "metadata": {
    "id": "instance_scaling"
   },
   "source": [
    "### Compute instance scaling\n",
    "\n",
    "You have several choices on scaling the compute instances for handling your batch prediction requests:\n",
    "\n",
    "- Single Instance: The batch prediction requests are processed on a single compute instance.\n",
    "  - Set the minimum (`MIN_NODES`) and maximum (`MAX_NODES`) number of compute instances to one.\n",
    "\n",
    "- Manual Scaling: The batch prediction requests are split across a fixed number of compute instances that you manually specified.\n",
    "  - Set the minimum (`MIN_NODES`) and maximum (`MAX_NODES`) number of compute instances to the same number of nodes. When a model is first deployed to the instance, the fixed number of compute instances are provisioned and batch prediction requests are evenly distributed across them.\n",
    "\n",
    "- Auto Scaling: The batch prediction requests are split across a scaleable number of compute instances.\n",
    "  - Set the minimum (`MIN_NODES`) number of compute instances to provision when a model is first deployed and to deprovision to, and set the maximum (`MAX_NODES) number of compute instances to provision, depending on load conditions.\n",
    "\n",
    "The minimum number of compute instances corresponds to the field `min_replica_count` and the maximum number of compute instances corresponds to the field `max_replica_count`, in your subsequent deployment request."
   ]
  },
  {
   "cell_type": "code",
   "execution_count": 34,
   "metadata": {
    "id": "instance_scaling"
   },
   "outputs": [],
   "source": [
    "MIN_NODES = 1\n",
    "MAX_NODES = 1"
   ]
  },
  {
   "cell_type": "markdown",
   "metadata": {
    "id": "make_batch_request:automl,forecast"
   },
   "source": [
    "### Make batch prediction request\n",
    "\n",
    "Now that your batch of two test items is ready, let's do the batch request. Use this helper function `create_batch_prediction_job`, with the following parameters:\n",
    "\n",
    "- `display_name`: The human readable name for the prediction job.\n",
    "- `model_name`: The AI Platform (Unified) fully qualified identifier for the `Model` resource.\n",
    "- `gcs_source_uri`: The Cloud Storage path to the input file -- which you created above.\n",
    "- `gcs_destination_output_uri_prefix`: The Cloud Storage path that the service will write the predictions to.\n",
    "- `parameters`: Additional filtering parameters for serving prediction results.\n",
    "\n",
    "The helper function calls the job client service's `create_batch_prediction_job` metho, with the following parameters:\n",
    "\n",
    "- `parent`: The AI Platform (Unified) location root path for Dataset, Model and Pipeline resources.\n",
    "- `batch_prediction_job`: The specification for the batch prediction job.\n",
    "\n",
    "Let's now dive into the specification for the `batch_prediction_job`:\n",
    "\n",
    "- `display_name`: The human readable name for the prediction batch job.\n",
    "- `model`: The AI Platform (Unified) fully qualified identifier for the `Model` resource.\n",
    "- `dedicated_resources`: The compute resources to provision for the batch prediction job.\n",
    "  - `machine_spec`: The compute instance to provision. Use the variable you set earlier `DEPLOY_GPU != None` to use a GPU; otherwise only a CPU is allocated.\n",
    "  - `starting_replica_count`: The number of compute instances to initially provision, which you set earlier as the variable `MIN_NODES`.\n",
    "  - `max_replica_count`: The maximum number of compute instances to scale to, which you set earlier as the variable `MAX_NODES`.\n",
    "- `model_parameters`: Additional filtering parameters for serving prediction results.  *Note*, image segmentation models do not support additional parameters.\n",
    "- `input_config`: The input source and format type for the instances to predict.\n",
    " - `instances_format`: The format of the batch prediction request file: `csv` only supported.\n",
    " - `gcs_source`: A list of one or more Cloud Storage paths to your batch prediction requests.\n",
    "- `output_config`: The output destination and format for the predictions.\n",
    " - `prediction_format`: The format of the batch prediction response file: `csv` only supported.\n",
    " - `gcs_destination`: The output destination for the predictions.\n",
    "\n",
    "This call is an asychronous operation. You will print from the response object a few select fields, including:\n",
    "\n",
    "- `name`: The AI Platform (Unified) fully qualified identifier assigned to the batch prediction job.\n",
    "- `display_name`: The human readable name for the prediction batch job.\n",
    "- `model`: The AI Platform (Unified) fully qualified identifier for the Model resource.\n",
    "- `generate_explanations`: Whether True/False explanations were provided with the predictions (explainability).\n",
    "- `state`: The state of the prediction job (pending, running, etc).\n",
    "\n",
    "Since this call will take a few moments to execute, you will likely get `JobState.JOB_STATE_PENDING` for `state`."
   ]
  },
  {
   "cell_type": "code",
   "execution_count": 35,
   "metadata": {
    "id": "make_batch_request:automl,forecast"
   },
   "outputs": [
    {
     "name": "stdout",
     "output_type": "stream",
     "text": [
      "response\n",
      " name: projects/759209241365/locations/us-central1/batchPredictionJobs/3319654302674321408\n",
      " display_name: covid_batch-20210327192751\n",
      " model: projects/759209241365/locations/us-central1/models/8276296701153640448\n",
      " state: JobState.JOB_STATE_PENDING\n",
      " create_time: 2021-03-27 20:48:20.722109+00:00\n",
      " start_time: None\n",
      " end_time: None\n",
      " update_time: 2021-03-27 20:48:20.722109+00:00\n",
      " labels: {}\n"
     ]
    }
   ],
   "source": [
    "BATCH_MODEL = \"covid_batch-\" + TIMESTAMP\n",
    "\n",
    "\n",
    "def create_batch_prediction_job(display_name, model_name, gcs_source_uri, gcs_destination_output_uri_prefix, parameters):\n",
    "\n",
    "    if DEPLOY_GPU:\n",
    "        machine_spec = {\n",
    "            \"machine_type\": DEPLOY_COMPUTE,\n",
    "            \"accelerator_type\": DEPLOY_GPU,\n",
    "            \"accelerator_count\": DEPLOY_NGPU,\n",
    "        }\n",
    "    else:\n",
    "        machine_spec = {\n",
    "            \"machine_type\": DEPLOY_COMPUTE,\n",
    "            \"accelerator_count\": 0,\n",
    "        }\n",
    "\n",
    "    batch_prediction_job = {\n",
    "        \"display_name\": display_name,\n",
    "        # Format: 'projects/{project}/locations/{location}/models/{model_id}'\n",
    "        \"model\": model_name,\n",
    "        \"model_parameters\": json_format.ParseDict(parameters, Value()),\n",
    "        \"input_config\": {\n",
    "            \"instances_format\": IN_FORMAT,\n",
    "            \"gcs_source\": {\"uris\": [gcs_source_uri]},\n",
    "        },\n",
    "        \"output_config\": {\n",
    "            \"predictions_format\": OUT_FORMAT,\n",
    "            \"gcs_destination\": {\"output_uri_prefix\": gcs_destination_output_uri_prefix},\n",
    "        },\n",
    "        \"dedicated_resources\": {\n",
    "            \"machine_spec\": machine_spec,\n",
    "            \"starting_replica_count\": MIN_NODES,\n",
    "            \"max_replica_count\": MAX_NODES\n",
    "        }\n",
    "\n",
    "    }\n",
    "    response = clients['job'].create_batch_prediction_job(\n",
    "        parent=PARENT, batch_prediction_job=batch_prediction_job\n",
    "    )\n",
    "    print(\"response\")\n",
    "    print(\" name:\", response.name)\n",
    "    print(\" display_name:\", response.display_name)\n",
    "    print(\" model:\", response.model)\n",
    "    try:\n",
    "        print(\" generate_explanation:\", response.generate_explanation)\n",
    "    except:\n",
    "        pass\n",
    "    print(\" state:\", response.state)\n",
    "    print(\" create_time:\", response.create_time)\n",
    "    print(\" start_time:\", response.start_time)\n",
    "    print(\" end_time:\", response.end_time)\n",
    "    print(\" update_time:\", response.update_time)\n",
    "    print(\" labels:\", response.labels)\n",
    "    return response\n",
    "\n",
    "\n",
    "IN_FORMAT = 'csv'\n",
    "OUT_FORMAT = 'csv'  # [csv]\n",
    "\n",
    "response = create_batch_prediction_job(BATCH_MODEL, model_to_deploy_id, gcs_input_uri, BUCKET_NAME, None)"
   ]
  },
  {
   "cell_type": "markdown",
   "metadata": {
    "id": "batch_job_id:response"
   },
   "source": [
    "Now get the unique identifier for the batch prediction job you created."
   ]
  },
  {
   "cell_type": "code",
   "execution_count": 36,
   "metadata": {
    "id": "batch_job_id:response"
   },
   "outputs": [
    {
     "name": "stdout",
     "output_type": "stream",
     "text": [
      "projects/759209241365/locations/us-central1/batchPredictionJobs/3319654302674321408\n"
     ]
    }
   ],
   "source": [
    "# The full unique ID for the batch job\n",
    "batch_job_id = response.name\n",
    "# The short numeric ID for the batch job\n",
    "batch_job_short_id = batch_job_id.split('/')[-1]\n",
    "\n",
    "print(batch_job_id)"
   ]
  },
  {
   "cell_type": "markdown",
   "metadata": {
    "id": "get_batch_prediction_job"
   },
   "source": [
    "### Get information on a batch prediction job\n",
    "\n",
    "Use this helper function `get_batch_prediction_job`, with the following paramter:\n",
    "\n",
    "- `job_name`: The AI Platform (Unified) fully qualified identifier for the batch prediction job.\n",
    "\n",
    "The helper function calls the job client service's `get_batch_prediction_job` method, with the following paramter:\n",
    "\n",
    "- `name`: The AI Platform (Unified) fully qualified identifier for the batch prediction job. In this tutorial, you will pass it the AI Platform (Unified) fully qualified identifier for your batch prediction job -- `batch_job_id`\n",
    "\n",
    "The helper function will return the Cloud Storage path to where the predictions are stored -- `gcs_destination`."
   ]
  },
  {
   "cell_type": "code",
   "execution_count": 37,
   "metadata": {
    "id": "get_batch_prediction_job"
   },
   "outputs": [
    {
     "name": "stdout",
     "output_type": "stream",
     "text": [
      "response\n",
      " name: projects/759209241365/locations/us-central1/batchPredictionJobs/3319654302674321408\n",
      " display_name: covid_batch-20210327192751\n",
      " model: projects/759209241365/locations/us-central1/models/8276296701153640448\n",
      " state: JobState.JOB_STATE_RUNNING\n",
      " error: \n",
      " gcs_destination\n",
      "  output_uri_prefix: gs://andy-1234-221921aip-20210327192751\n"
     ]
    }
   ],
   "source": [
    "def get_batch_prediction_job(job_name, silent=False):\n",
    "    response = clients['job'].get_batch_prediction_job(name=job_name)\n",
    "    if silent:\n",
    "        return response.output_config.gcs_destination.output_uri_prefix, response.state\n",
    "\n",
    "    print(\"response\")\n",
    "    print(\" name:\", response.name)\n",
    "    print(\" display_name:\", response.display_name)\n",
    "    print(\" model:\", response.model)\n",
    "    try:   # not all data types support explanations\n",
    "        print(\" generate_explanation:\", response.generate_explanation)\n",
    "    except:\n",
    "        pass\n",
    "    print(\" state:\", response.state)\n",
    "    print(\" error:\", response.error)\n",
    "    gcs_destination = response.output_config.gcs_destination\n",
    "    print(\" gcs_destination\")\n",
    "    print(\"  output_uri_prefix:\", gcs_destination.output_uri_prefix)\n",
    "    return gcs_destination.output_uri_prefix, response.state\n",
    "\n",
    "\n",
    "predictions, state = get_batch_prediction_job(batch_job_id)"
   ]
  },
  {
   "cell_type": "markdown",
   "metadata": {
    "id": "get_the_predictions:automl,forecast"
   },
   "source": [
    "### Get Predictions\n",
    "\n",
    "When the batch prediction is done processing, the job state will be `JOB_STATE_SUCCEEDED`.\n",
    "\n",
    "Finally you view the predictions stored at the Cloud Storage path you set as output. The predictions will be in a CSV format, which you indicated at the time you made the batch prediction job, under a subfolder starting with the name `prediction`, and under that folder will be a file called `predictions*.csv`.\n",
    "\n",
    "Now display (cat) the contents. You will see multiple rows, one for each prediction.\n",
    "\n",
    "For each prediction:\n",
    "\n",
    "- The first four fields are the values (features) you did the prediction on.\n",
    "- The remaining fields are the confidence values, between 0 and 1, for each prediction."
   ]
  },
  {
   "cell_type": "code",
   "execution_count": 38,
   "metadata": {
    "id": "get_the_predictions:automl,tabular"
   },
   "outputs": [
    {
     "name": "stdout",
     "output_type": "stream",
     "text": [
      "The job has not completed: JobState.JOB_STATE_RUNNING\n",
      "The job has not completed: JobState.JOB_STATE_RUNNING\n",
      "The job has not completed: JobState.JOB_STATE_RUNNING\n",
      "The job has not completed: JobState.JOB_STATE_RUNNING\n",
      "The job has not completed: JobState.JOB_STATE_RUNNING\n",
      "gs://andy-1234-221921aip-20210327192751/prediction-covid_model_20210327192751-2021-03-27T20:48:20.518190Z/predictions_1.csv\n",
      "confirmed_cases,county,county_fips_code,date,deaths,state_name,predicted_deaths\n"
     ]
    }
   ],
   "source": [
    "def get_latest_predictions(gcs_out_dir):\n",
    "    ''' Get the latest prediction subfolder using the timestamp in the subfolder name'''\n",
    "    folders = !gsutil ls $gcs_out_dir\n",
    "    latest = \"\"\n",
    "    for folder in folders:\n",
    "        subfolder = folder.split('/')[-2]\n",
    "        if subfolder.startswith('prediction-'):\n",
    "            if subfolder > latest:\n",
    "                latest = folder[:-1]\n",
    "    return latest\n",
    "\n",
    "\n",
    "while True:\n",
    "    predictions, state = get_batch_prediction_job(batch_job_id, True)\n",
    "    if state != aip.JobState.JOB_STATE_SUCCEEDED:\n",
    "        print(\"The job has not completed:\", state)\n",
    "        if state == aip.JobState.JOB_STATE_FAILED:\n",
    "            raise Exception(\"Batch Job Failed\")\n",
    "    else:\n",
    "        folder = get_latest_predictions(predictions)\n",
    "        ! gsutil ls $folder/prediction*.csv\n",
    "\n",
    "        ! gsutil cat $folder/prediction*.csv\n",
    "        break\n",
    "    time.sleep(60)"
   ]
  },
  {
   "cell_type": "markdown",
   "metadata": {
    "id": "cleanup"
   },
   "source": [
    "# Cleaning up\n",
    "\n",
    "To clean up all GCP resources used in this project, you can [delete the GCP\n",
    "project](https://cloud.google.com/resource-manager/docs/creating-managing-projects#shutting_down_projects) you used for the tutorial.\n",
    "\n",
    "Otherwise, you can delete the individual resources you created in this tutorial:\n",
    "\n",
    "- Dataset\n",
    "- Pipeline\n",
    "- Model\n",
    "- Endpoint\n",
    "- Batch Job\n",
    "- Cloud Storage Bucket"
   ]
  },
  {
   "cell_type": "code",
   "execution_count": 39,
   "metadata": {
    "id": "cleanup"
   },
   "outputs": [
    {
     "name": "stdout",
     "output_type": "stream",
     "text": [
      "'endpoint'\n",
      "Removing gs://andy-1234-221921aip-20210327192751/test.csv#1616878099120215...\n",
      "Removing gs://andy-1234-221921aip-20210327192751/prediction-covid_model_20210327192751-2021-03-27T20:48:20.518190Z/error_1.csv#1616878358697071...\n",
      "Removing gs://andy-1234-221921aip-20210327192751/prediction-covid_model_20210327192751-2021-03-27T20:48:20.518190Z/predictions_1.csv#1616878358693402...\n",
      "/ [3 objects]                                                                   \n",
      "Operation completed over 3 objects.                                              \n",
      "Removing gs://andy-1234-221921aip-20210327192751/...\n"
     ]
    }
   ],
   "source": [
    "delete_dataset = True\n",
    "delete_pipeline = True\n",
    "delete_model = True\n",
    "delete_endpoint = True\n",
    "delete_batchjob = True\n",
    "delete_bucket = True\n",
    "\n",
    "# Delete the dataset using the AI Platform (Unified) fully qualified identifier for the dataset\n",
    "try:\n",
    "    if delete_dataset:\n",
    "        clients['dataset'].delete_dataset(name=dataset_id)\n",
    "except Exception as e:\n",
    "    print(e)\n",
    "\n",
    "# Delete the training pipeline using the AI Platform (Unified) fully qualified identifier for the pipeline\n",
    "try:\n",
    "    if delete_pipeline:\n",
    "        clients['pipeline'].delete_training_pipeline(name=pipeline_id)\n",
    "except Exception as e:\n",
    "    print(e)\n",
    "\n",
    "# Delete the model using the AI Platform (Unified) fully qualified identifier for the model\n",
    "try:\n",
    "    if delete_model:\n",
    "        clients['model'].delete_model(name=model_to_deploy_id)\n",
    "except Exception as e:\n",
    "    print(e)\n",
    "\n",
    "# Delete the endpoint using the AI Platform (Unified) fully qualified identifier for the endpoint\n",
    "try:\n",
    "    if delete_endpoint:\n",
    "        clients['endpoint'].delete_endpoint(name=endpoint_id)\n",
    "except Exception as e:\n",
    "    print(e)\n",
    "\n",
    "# Delete the batch job using the AI Platform (Unified) fully qualified identifier for the batch job\n",
    "try:\n",
    "    if delete_batchjob:\n",
    "        clients['job'].delete_batch_prediction_job(name=batch_job_id)\n",
    "except Exception as e:\n",
    "    print(e)\n",
    "\n",
    "if delete_bucket and 'BUCKET_NAME' in globals():\n",
    "    ! gsutil rm -r $BUCKET_NAME"
   ]
  },
  {
   "cell_type": "markdown",
   "metadata": {},
   "source": []
  }
 ],
 "metadata": {
  "kernelspec": {
   "display_name": "Python 3",
   "language": "python",
   "name": "python3"
  },
  "language_info": {
   "codemirror_mode": {
    "name": "ipython",
    "version": 3
   },
   "file_extension": ".py",
   "mimetype": "text/x-python",
   "name": "python",
   "nbconvert_exporter": "python",
   "pygments_lexer": "ipython3",
   "version": "3.7.6"
  }
 },
 "nbformat": 4,
 "nbformat_minor": 4
}
